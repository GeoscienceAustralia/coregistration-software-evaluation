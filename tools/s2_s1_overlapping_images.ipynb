{
 "cells": [
  {
   "cell_type": "markdown",
   "metadata": {},
   "source": [
    "##### Outputs from this notebook is saved in `../data/files_list` folder"
   ]
  },
  {
   "cell_type": "code",
   "execution_count": 1,
   "metadata": {},
   "outputs": [],
   "source": [
    "import hyp3_sdk as sdk\n",
    "from hyp3_sdk import HyP3\n",
    "import getpass\n",
    "from datetime import datetime\n",
    "import os\n",
    "import sys\n",
    "from itertools import product as itrprod\n",
    "\n",
    "sys.path.insert(1, \"../\")\n",
    "from utils import *\n",
    "import re"
   ]
  },
  {
   "cell_type": "code",
   "execution_count": 2,
   "metadata": {},
   "outputs": [],
   "source": [
    "AN_POLYGONS = [\n",
    "    \"POLYGON((67.11977875914101 -73.13320972913671,68.76600937571335 -73.2322558460891,69.05248236149063 -72.74522842085329,67.48159030357469 -72.65858592955519,67.11977875914101 -73.13320972913671))\",\n",
    "    \"POLYGON((71.31571253623807 -70.6602525972592,72.75518985367877 -70.71429083301972,73.00669031483929 -70.19279799544364,71.50559736489964 -70.15970191893189,71.31571253623807 -70.6602525972592))\",\n",
    "]"
   ]
  },
  {
   "cell_type": "code",
   "execution_count": 2,
   "metadata": {},
   "outputs": [],
   "source": [
    "SAVE_DIR = \"../data/files_list\"\n",
    "os.makedirs(SAVE_DIR, exist_ok=True)"
   ]
  },
  {
   "cell_type": "code",
   "execution_count": 9,
   "metadata": {},
   "outputs": [],
   "source": [
    "# false color is B12, B11, B4 bands \n",
    "S2_DATA_DIR = \"/g/data/fj7/Copernicus/Sentinel-2/MSI/\"\n",
    "# S2_AOI_LIST_AN = [\n",
    "#     \"N0511_R118_T42DXG\",\n",
    "#     \"N0511_R056_T42CVE\",\n",
    "# ]\n",
    "S2_AOI_LIST_AN = [\n",
    "    # \"R118_T42DXG\",\n",
    "    # re.compile(\"N05\\\\d+_R(056|061|118)_T42CVE\"),\n",
    "    # re.compile(\"N05\\\\d+_R(056|061|118)_T42DXJ\"),\n",
    "    # re.compile(\"N05\\\\d+_R074_T51KYT\")  # this is actually AU in WA\n",
    "    # re.compile(\"N05\\\\d+_R061_T42DWK\"),\n",
    "    re.compile(\"N05\\\\d+_R032_T43DFD\"),\n",
    "]\n",
    "S2_QUERY_YEARS_AN = [str(i) for i in range(2023, 2025)]\n",
    "S2_QUERY_PRODS = [\"L1C\", \"L2A\"]\n",
    "MONTH_RANGE = [\"{:02d}\".format(m) for m in range(1, 13)]\n",
    "S2_CASE_LIST_AN = list(itrprod(S2_QUERY_PRODS, S2_QUERY_YEARS_AN, MONTH_RANGE))\n",
    "\n",
    "S2_AN_FILENAME = \"s2_au_wa.csv\""
   ]
  },
  {
   "cell_type": "code",
   "execution_count": 25,
   "metadata": {},
   "outputs": [],
   "source": [
    "# Alternative way, using SARA server API, faster but only returns names not full path on local NCI storage\n",
    "\n",
    "# scene_names = get_sentinel_filenames(\n",
    "#     polygon_list=AN_POLYGONS,\n",
    "#     years=[\"2023\", \"2024\"],\n",
    "#     is_poly_bbox=False,\n",
    "#     satellite=\"S2\",\n",
    "#     instrument=\"MSI\",\n",
    "#     output_file_path=\"\",\n",
    "#     # return_query_only = True,\n",
    "#     includes = S2_AOI_LIST_AN,\n",
    "# )"
   ]
  },
  {
   "cell_type": "code",
   "execution_count": 10,
   "metadata": {},
   "outputs": [
    {
     "name": "stdout",
     "output_type": "stream",
     "text": [
      "Retrieving files for /g/data/fj7/Copernicus/Sentinel-2/MSI/L2A/2024/2024-12\n",
      "filtering files for re.compile('N05\\\\d+_R032_T43DFD')\n",
      "re.compile('N05\\\\d+_R032_T43DFD') => 86\n"
     ]
    }
   ],
   "source": [
    "scenes_dict = await find_files_for_aios_async(\n",
    "    S2_CASE_LIST_AN, S2_DATA_DIR, S2_AOI_LIST_AN\n",
    ")\n",
    "for key in scenes_dict.keys():\n",
    "    print(f\"{key} => {len(scenes_dict[key])}\")"
   ]
  },
  {
   "cell_type": "code",
   "execution_count": 14,
   "metadata": {},
   "outputs": [],
   "source": [
    "os.makedirs(\"temp\", exist_ok=True)\n",
    "save_file_list(scenes_dict, os.path.join(\"temp\", S2_AN_FILENAME))\n",
    "s2_an_df = pd.read_csv(os.path.join(\"temp\", S2_AN_FILENAME), names=[\"ID\", \"Path\"])\n",
    "shutil.rmtree(\"temp\")\n",
    "scenes_dict_filtered = get_scenes_dict(s2_an_df, is_s1=False)"
   ]
  },
  {
   "cell_type": "code",
   "execution_count": 15,
   "metadata": {},
   "outputs": [],
   "source": [
    "s2_id = list(scenes_dict_filtered.keys())[0]\n",
    "s2_scene_files = scenes_dict_filtered[s2_id]"
   ]
  },
  {
   "cell_type": "code",
   "execution_count": 17,
   "metadata": {},
   "outputs": [
    {
     "name": "stdout",
     "output_type": "stream",
     "text": [
      "15 of 15; Extracting /g/data/fj7/Copernicus/Sentinel-2/MSI/L2A/2024/2024-12/65S075E-70S080E/S2B_MSIL2A_20241209T033619_N0511_R032_T43DFD_20241209T063736.zip\r"
     ]
    }
   ],
   "source": [
    "# get the Jan 2023 for S2 L1C\n",
    "for i, s2_scene in enumerate(s2_scene_files):\n",
    "    print(f\"{i + 1} of {len(s2_scene_files)}; Extracting {s2_scene}\", end=\"\\r\")\n",
    "    with ZipFile(s2_scene) as f:\n",
    "        f.extractall(f\"../data/inputs/{s2_id}\")"
   ]
  },
  {
   "cell_type": "code",
   "execution_count": 18,
   "metadata": {},
   "outputs": [],
   "source": [
    "p = re.compile(\"_\\\\d+m.jp2\")\n",
    "ref_image_dir = os.path.join(\"../data/inputs/\", s2_id)\n",
    "ref_tci_files = list(\n",
    "    filter(\n",
    "        lambda f: \"TCI\" in f,\n",
    "        glob.glob(f\"{ref_image_dir}/*/GRANULE/*/IMG_DATA/**\", recursive=True),\n",
    "    )\n",
    ")\n",
    "os.makedirs(\"../data/inputs/temp\", exist_ok=True)\n",
    "for file in ref_tci_files:\n",
    "    shutil.copy(file, os.path.join(\"../data/inputs/temp\", os.path.basename(file)))\n",
    "shutil.rmtree(ref_image_dir, ignore_errors=True)\n",
    "s2_id = s2_id.split(\"_\")[-1].replace(\"')\", \"\")\n",
    "ref_image_dir = os.path.join(\"../data/inputs/\", s2_id)\n",
    "os.makedirs(ref_image_dir, exist_ok=True)\n",
    "copied_files = glob.glob(\"../data/inputs/temp/**\")\n",
    "for file in copied_files:\n",
    "    if len(re.findall(p, file)) == 0:\n",
    "        prod_dir = \"L1C\"\n",
    "    else:\n",
    "        prod_dir = \"L2A\"\n",
    "    if not os.path.isdir(os.path.join(ref_image_dir, prod_dir)):\n",
    "        os.makedirs(os.path.join(ref_image_dir, prod_dir), exist_ok=True)\n",
    "    shutil.copy(file, os.path.join(ref_image_dir, prod_dir, os.path.basename(file)))\n",
    "shutil.rmtree(\"../data/inputs/temp\", ignore_errors=True)"
   ]
  },
  {
   "cell_type": "code",
   "execution_count": null,
   "metadata": {},
   "outputs": [],
   "source": [
    "# find scenes\n",
    "s2_id = list(scenes_dict.keys())[0]\n",
    "s2_scene_files = scenes_dict[s2_id]\n",
    "\n",
    "# get the Jan 2023 for S2 L1C\n",
    "s2_scene = s2_scene_files[1]\n",
    "with ZipFile(s2_scene) as f:\n",
    "    f.extractall(f\"../data/inputs/{s2_id}\")\n",
    "\n",
    "ref_image_dir = os.path.join(\"../data/inputs/\", s2_id)\n",
    "ref_tci_files = list(\n",
    "    filter(\n",
    "        lambda f: \"TCI\" in f,\n",
    "        glob.glob(f\"{ref_image_dir}/*/GRANULE/*/IMG_DATA/**\", recursive=True),\n",
    "    )\n",
    ")\n",
    "ref_tci_files = list(filter(lambda f: S2_QUERY_PRODS[0] in f, ref_tci_files))\n",
    "if len(ref_tci_files) > 1:\n",
    "    ref_image = [f for f in ref_tci_files if f.endswith(\"_10m.jp2\")][0]\n",
    "else:\n",
    "    ref_image = ref_tci_files[0]\n",
    "\n",
    "ref = rasterio.open(ref_image)\n",
    "ref_bounds = ref.bounds\n",
    "ref_crs = ref.crs\n",
    "\n",
    "ref_proj = Proj(**ref_crs.data)\n",
    "\n",
    "west, south = ref_proj(ref_bounds.left, ref_bounds.bottom, inverse=True)\n",
    "east, north = ref_proj(ref_bounds.right, ref_bounds.top, inverse=True)\n",
    "\n",
    "bbox = f\"{west},{south},{east},{north}\"\n",
    "\n",
    "os.makedirs(\"../data/asf/sub1\", exist_ok=True)\n",
    "with open(f\"../data/asf/sub1/bbox.txt\", \"w\") as f:\n",
    "    f.write(f\"{bbox}\\n\")\n",
    "    f.write(f\"{s2_id}\\n\")"
   ]
  },
  {
   "cell_type": "code",
   "execution_count": null,
   "metadata": {},
   "outputs": [],
   "source": [
    "project_name = f\"AN-coreg-test-20m-{datetime.now().strftime('%Y-%m-%d-%H-%M-%S')}\"\n",
    "print(project_name)\n",
    "\n",
    "with open(f\"../data/asf/sub1/bbox.txt\", \"r\") as f:\n",
    "    bbox = f.readline().strip()\n",
    "    s2_id = f.readline().strip()\n",
    "\n",
    "s1_scene_files = get_sentinel_filenames(\n",
    "    [bbox], [\"2023\", \"2024\"], f\"../data/asf/sub1/scenes.txt\", [\"SLC\"]\n",
    ")\n",
    "# get the Dec 2024 for S1 GRD\n",
    "scene = s1_scene_files[0]"
   ]
  },
  {
   "cell_type": "code",
   "execution_count": 3,
   "metadata": {},
   "outputs": [],
   "source": [
    "uid = getpass.getpass(\"Enter your EathData user id?\")\n",
    "pswd = getpass.getpass(\"Enter your EathData password?\")\n",
    "hyp3 = HyP3(username=uid, password=pswd)"
   ]
  },
  {
   "cell_type": "code",
   "execution_count": null,
   "metadata": {},
   "outputs": [],
   "source": [
    "download_folder = f\"../data/asf/{s2_id}/sub1/\"\n",
    "\n",
    "rtc_job = sdk.Batch()\n",
    "rtc_job = hyp3.submit_rtc_job(\n",
    "    os.path.splitext(os.path.basename(scene))[0],\n",
    "    include_dem=True,  # include dem in final product\n",
    "    include_inc_map=True,  # include dem map in final product\n",
    "    include_rgb=True,  # include rgb img in final product\n",
    "    include_scattering_area=True,  # include scat area in final product\n",
    "    name=project_name,\n",
    "    resolution=20,\n",
    "    dem_name=\"copernicus\",\n",
    "    radiometry=\"gamma0\",\n",
    "    speckle_filter=True,\n",
    ")\n",
    "print(rtc_job)\n",
    "\n",
    "# watch job\n",
    "rtc_job = hyp3.find_jobs(name=project_name)\n",
    "rtc_job = hyp3.watch(rtc_job)\n",
    "\n",
    "# download when done\n",
    "rtc_file = rtc_job.download_files(download_folder)\n",
    "\n",
    "os.makedirs(f\"../data/inputs/{s2_id}/sub1\", exist_ok=True)\n",
    "with open(f\"../data/inputs/{s2_id}/sub1/rtc.txt\", \"w\") as f:\n",
    "    f.write(f\"{str(rtc_file[0])}\")"
   ]
  },
  {
   "cell_type": "code",
   "execution_count": null,
   "metadata": {},
   "outputs": [],
   "source": []
  }
 ],
 "metadata": {
  "kernelspec": {
   "display_name": "Python 3",
   "language": "python",
   "name": "python3"
  },
  "language_info": {
   "codemirror_mode": {
    "name": "ipython",
    "version": 3
   },
   "file_extension": ".py",
   "mimetype": "text/x-python",
   "name": "python",
   "nbconvert_exporter": "python",
   "pygments_lexer": "ipython3",
   "version": "3.12.8"
  }
 },
 "nbformat": 4,
 "nbformat_minor": 2
}
