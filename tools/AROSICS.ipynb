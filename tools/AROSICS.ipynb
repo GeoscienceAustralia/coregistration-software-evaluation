{
 "cells": [
  {
   "cell_type": "code",
   "execution_count": 2,
   "metadata": {},
   "outputs": [],
   "source": [
    "import os\n",
    "import pandas as pd\n",
    "from arosics import COREG, COREG_LOCAL\n",
    "from zipfile import ZipFile\n",
    "from IPython.display import Image\n",
    "from rasterio.features import bounds, dataset_features\n",
    "import sys\n",
    "sys.path.insert(1, '../')\n",
    "from pyproj import Proj\n",
    "from utils import *\n",
    "\n",
    "%matplotlib inline"
   ]
  },
  {
   "cell_type": "markdown",
   "metadata": {},
   "source": [
    "* Time series handling is limited. mainly pairwise. Need coding to loop trhough series.\n",
    "* Takes 30 secs to match two full res S2 scenes in global mode\n",
    "* Takse about 3 mins to match two full res S2 scenes with 120 grid points and running on 96 cores! (A bit concerning)\n",
    "* Also running in full res for local matching is very resource intensive!\n",
    "* Documentation not very straightforward!\n",
    "* Seems to be partially handaling the cloud cover.\n",
    "* AU scenes are already co-registered mostly.\n",
    "* Local matching will fail for small overlaps.\n",
    "* window size of (500, 500) recommended. \n",
    "* overall both S1 and S2 register good over AU\n",
    "* local matching is recommended"
   ]
  },
  {
   "cell_type": "code",
   "execution_count": 3,
   "metadata": {},
   "outputs": [],
   "source": [
    "DATA_DIR = \"../data/files_list\"\n",
    "\n",
    "S1_PRODUCTS = [\"SLC\", \"GRD\"]\n",
    "S2_PRODUCTS = [\"L1C\", \"L2A\"]\n",
    "\n",
    "s1_au_df = pd.read_csv(os.path.join(DATA_DIR, \"s1_au.csv\"), names=[\"ID\",\"Path\"])\n",
    "s1_an_df = pd.read_csv(os.path.join(DATA_DIR, \"s1_an.csv\"), names=[\"ID\",\"Path\"])\n",
    "\n",
    "s2_au_df = pd.read_csv(os.path.join(DATA_DIR, \"s2_au.csv\"), names=[\"ID\",\"Path\"])\n",
    "s2_an_df = pd.read_csv(os.path.join(DATA_DIR, \"s2_an.csv\"), names=[\"ID\",\"Path\"])\n",
    "\n",
    "s1_au_slc_dict = get_scenes_dict(s1_au_df, \"SLC\")\n",
    "s1_au_grd_dict = get_scenes_dict(s1_au_df, \"GRD\")\n",
    "\n",
    "s1_an_slc_dict = get_scenes_dict(s1_an_df, \"SLC\")\n",
    "s1_an_grd_dict = get_scenes_dict(s1_an_df, \"GRD\")\n",
    "\n",
    "s2_au_l1c_dict = get_scenes_dict(s2_au_df, \"L1C\", False)\n",
    "s2_au_l2a_dict = get_scenes_dict(s2_au_df, \"L2A\", False)\n",
    "\n",
    "s2_an_l1c_dict = get_scenes_dict(s2_an_df, \"L1C\", False)\n",
    "s2_an_l2a_dict = get_scenes_dict(s2_an_df, \"L2A\", False)\n"
   ]
  },
  {
   "cell_type": "code",
   "execution_count": 4,
   "metadata": {},
   "outputs": [],
   "source": [
    "shutil.rmtree(\"../data/inputs/\", ignore_errors=True)\n",
    "# shutil.rmtree(\"../data/outputs/\", ignore_errors=True)\n",
    "os.makedirs(\"../data/inputs/\")\n",
    "os.makedirs(\"../data/outputs/\", exist_ok = True)"
   ]
  },
  {
   "cell_type": "markdown",
   "metadata": {},
   "source": [
    "##### Test two S2 L2A images for AN"
   ]
  },
  {
   "cell_type": "code",
   "execution_count": 106,
   "metadata": {},
   "outputs": [],
   "source": [
    "\n",
    "id = list(s2_an_l2a_dict.keys())[1]\n",
    "s2_an_l2a_secne_files = s2_an_l2a_dict[id]\n",
    "\n",
    "# get the Jan 2023 and Dec 2024 files\n",
    "s2_an_l2a_secne_pair = [s2_an_l2a_secne_files[10], s2_an_l2a_secne_files[-1]]\n",
    "\n",
    "shutil.rmtree(f\"../data/inputs/{id}/\", ignore_errors=True)\n",
    "for i, zip_file_path in enumerate(s2_an_l2a_secne_pair):\n",
    "    with ZipFile(zip_file_path) as f:\n",
    "        f.extractall(f\"../data/inputs/{id}/sub{i}\")\n",
    "ref_image_dir = os.path.join(\"../data/inputs/\", id, f\"sub{0}\")\n",
    "ref_tci_files = list(filter(lambda f: \"TCI\" in f, glob.glob(f\"{ref_image_dir}/*/GRANULE/*/IMG_DATA/**\", recursive=True)))\n",
    "ref_tci_files = list(filter(lambda f: \"L2A\" in f, ref_tci_files))\n",
    "if len(ref_tci_files) > 1:\n",
    "    ref_image = [f for f in ref_tci_files if f.endswith(\"_10m.jp2\")][0]\n",
    "else:\n",
    "    ref_image = ref_tci_files[0]\n",
    "\n",
    "tgt_image_dir = os.path.join(\"../data/inputs/\", id, f\"sub{1}\")\n",
    "tgt_tci_files = list(filter(lambda f: \"TCI\" in f, glob.glob(f\"{tgt_image_dir}/*/GRANULE/*/IMG_DATA/**\", recursive=True)))\n",
    "tgt_tci_files = list(filter(lambda f: \"L2A\" in f, tgt_tci_files))\n",
    "if len(tgt_tci_files) > 1:\n",
    "    tgt_image = [f for f in tgt_tci_files if f.endswith(\"_10m.jp2\")][0]\n",
    "else:\n",
    "    tgt_image = tgt_tci_files[0]\n",
    "\n",
    "global_output = os.path.join(\"../data/outputs/\", \"L2A_pair\", f\"{id}_global.tiff\")\n",
    "local_output = os.path.join(\"../data/outputs/\", \"L2A_pair\", f\"{id}_local.tiff\")"
   ]
  },
  {
   "cell_type": "code",
   "execution_count": null,
   "metadata": {},
   "outputs": [],
   "source": [
    "%%time\n",
    "coreg_global = COREG(\n",
    "    im_ref=tgt_image,\n",
    "    im_tgt=ref_image,\n",
    "    path_out=global_output,\n",
    "    fmt_out=\"GTIFF\",\n",
    "    # v=True,\n",
    "    nodata=(0.0,0.0),\n",
    "    r_b4match=2,\n",
    "    s_b4match=2,\n",
    "    align_grids=True,\n",
    "    max_iter = 10,\n",
    "    max_shift = 10,\n",
    ")\n",
    "res = coreg_global.correct_shifts()"
   ]
  },
  {
   "cell_type": "code",
   "execution_count": null,
   "metadata": {},
   "outputs": [],
   "source": [
    "%%time\n",
    "coreg_local = COREG_LOCAL(\n",
    "    im_ref=tgt_image,\n",
    "    im_tgt=ref_image,\n",
    "    grid_res=1000,\n",
    "    # max_points=200,\n",
    "    path_out=local_output,\n",
    "    fmt_out=\"GTIFF\",\n",
    "    # v=True,\n",
    "    nodata=(0.0,0.0),\n",
    "    # r_b4match=2,\n",
    "    # s_b4match=2,\n",
    "    align_grids=True,\n",
    "    max_iter = 10,\n",
    "    max_shift = 10,\n",
    "    CPUs = 8,\n",
    ")\n",
    "res = coreg_local.correct_shifts()"
   ]
  },
  {
   "cell_type": "code",
   "execution_count": null,
   "metadata": {},
   "outputs": [],
   "source": [
    "datasets_paths = [tgt_image, ref_image,  local_output]\n",
    "dataset_titles = [\"Reference\", \"Target\", \"Local matching\"]\n",
    "make_difference_gif(datasets_paths, \"s2_l2a_pair.gif\", dataset_titles, 0.1)\n",
    "Image(url='s2_l2a_pair.gif', width = 400, height=400) "
   ]
  },
  {
   "cell_type": "markdown",
   "metadata": {},
   "source": [
    "##### Test two S2 L1C secenes"
   ]
  },
  {
   "cell_type": "code",
   "execution_count": 19,
   "metadata": {},
   "outputs": [],
   "source": [
    "id = list(s2_an_l1c_dict.keys())[0]\n",
    "s2_an_l1c_secne_files = s2_an_l1c_dict[id]\n",
    "\n",
    "# get the Jan 2023 and Dec 2024 files\n",
    "s2_an_l1c_secne_pair = [s2_an_l1c_secne_files[0], s2_an_l1c_secne_files[-1]]\n",
    "\n",
    "shutil.rmtree(f\"../data/inputs/{id}/\", ignore_errors=True)\n",
    "for i, zip_file_path in enumerate(s2_an_l1c_secne_pair):\n",
    "    with ZipFile(zip_file_path) as f:\n",
    "        f.extractall(f\"../data/inputs/{id}/sub{i}\")\n",
    "ref_image_dir = os.path.join(\"../data/inputs/\", id, f\"sub{0}\")\n",
    "ref_tci_files = list(filter(lambda f: \"TCI\" in f, glob.glob(f\"{ref_image_dir}/*/GRANULE/*/IMG_DATA/**\", recursive=True)))\n",
    "ref_tci_files = list(filter(lambda f: \"L1C\" in f, ref_tci_files))\n",
    "if len(ref_tci_files) > 1:\n",
    "    ref_image = [f for f in ref_tci_files if f.endswith(\"_10m.jp2\")][0]\n",
    "else:\n",
    "    ref_image = ref_tci_files[0]\n",
    "\n",
    "tgt_image_dir = os.path.join(\"../data/inputs/\", id, f\"sub{1}\")\n",
    "tgt_tci_files = list(filter(lambda f: \"TCI\" in f, glob.glob(f\"{tgt_image_dir}/*/GRANULE/*/IMG_DATA/**\", recursive=True)))\n",
    "tgt_tci_files = list(filter(lambda f: \"L1C\" in f, tgt_tci_files))\n",
    "if len(tgt_tci_files) > 1:\n",
    "    tgt_image = [f for f in tgt_tci_files if f.endswith(\"_10m.jp2\")][0]\n",
    "else:\n",
    "    tgt_image = tgt_tci_files[0]\n",
    "\n",
    "local_output = os.path.join(\"../data/outputs/\", \"L1C_pair\", f\"{id}_local.tiff\")\n",
    "global_output = os.path.join(\"../data/outputs/\", \"L1C_pair\", f\"{id}_global.tiff\")"
   ]
  },
  {
   "cell_type": "code",
   "execution_count": null,
   "metadata": {},
   "outputs": [],
   "source": [
    "%%time\n",
    "coreg_global = COREG(\n",
    "    im_ref=ref_image,\n",
    "    im_tgt=tgt_image,\n",
    "    path_out=global_output,\n",
    "    fmt_out=\"GTIFF\",\n",
    "    # v=True,\n",
    "    nodata=(0.0,0.0),\n",
    "    r_b4match=2,\n",
    "    s_b4match=2,\n",
    "    align_grids=True,\n",
    "    max_iter = 10,\n",
    "    max_shift = 10,\n",
    "    ws = (500, 500),\n",
    ")\n",
    "res = coreg_global.correct_shifts()"
   ]
  },
  {
   "cell_type": "code",
   "execution_count": null,
   "metadata": {},
   "outputs": [],
   "source": [
    "%%time\n",
    "coreg_local = COREG_LOCAL(\n",
    "    im_ref=ref_image,\n",
    "    im_tgt=tgt_image,\n",
    "    grid_res=1000,\n",
    "    # max_points=200,\n",
    "    path_out=local_output,\n",
    "    fmt_out=\"GTIFF\",\n",
    "    # v=True,\n",
    "    nodata=(0.0,0.0),\n",
    "    # r_b4match=2,\n",
    "    # s_b4match=2,\n",
    "    align_grids=True,\n",
    "    max_iter = 10,\n",
    "    max_shift = 10,\n",
    "    CPUs = 8,\n",
    ")\n",
    "res = coreg_local.correct_shifts()"
   ]
  },
  {
   "cell_type": "code",
   "execution_count": null,
   "metadata": {},
   "outputs": [],
   "source": [
    "datasets_paths = [ref_image, tgt_image, local_output]\n",
    "datasets_titles = [\"Reference\", \"Target\", \"Local matching\"]\n",
    "make_difference_gif(datasets_paths, \"s2_l1c_an_pair.gif\", datasets_titles, 0.1)\n",
    "Image(url='s2_l1c_an_pair.gif', width = 400, height=400) "
   ]
  },
  {
   "cell_type": "markdown",
   "metadata": {},
   "source": [
    "##### S2 L1C and S1 RTC AN"
   ]
  },
  {
   "cell_type": "code",
   "execution_count": 5,
   "metadata": {},
   "outputs": [],
   "source": [
    "# find scenes\n",
    "s2_id = list(s2_an_l1c_dict.keys())[0]\n",
    "s2_an_l1c_secne_files = s2_an_l1c_dict[s2_id]\n",
    "\n",
    "# shutil.rmtree(f\"../data/inputs/{s2_id}/\", ignore_errors=True)\n",
    "\n",
    "# get the Jan 2023 for S2 L1C\n",
    "s2_an_l1c_scene = s2_an_l1c_secne_files[0]\n",
    "with ZipFile(s2_an_l1c_scene) as f:\n",
    "    f.extractall(f\"../data/inputs/{s2_id}/sub0\")\n",
    "\n",
    "ref_image_dir = os.path.join(\"../data/inputs/\", s2_id, f\"sub{0}\")\n",
    "ref_tci_files = list(filter(lambda f: \"TCI\" in f, glob.glob(f\"{ref_image_dir}/*/GRANULE/*/IMG_DATA/**\", recursive=True)))\n",
    "ref_tci_files = list(filter(lambda f: \"L1C\" in f, ref_tci_files))\n",
    "if len(ref_tci_files) > 1:\n",
    "    ref_image = [f for f in ref_tci_files if f.endswith(\"_10m.jp2\")][0]\n",
    "else:\n",
    "    ref_image = ref_tci_files[0]\n",
    "\n",
    "ref = rasterio.open(ref_image)\n",
    "ref_bounds = ref.bounds\n",
    "ref_crs = ref.crs\n",
    "\n",
    "ref_proj = Proj(**ref_crs.data)\n",
    "\n",
    "west, south = ref_proj(ref_bounds.left, ref_bounds.bottom, inverse = True)\n",
    "east, north = ref_proj(ref_bounds.right, ref_bounds.top, inverse = True)\n",
    "\n",
    "bbox = f\"{west},{south},{east},{north}\"\n",
    "\n",
    "os.makedirs(\"../data/asf/sub1\", exist_ok=True)\n",
    "with open(f\"../data/asf/sub1/bbox.txt\", \"w\") as f:\n",
    "    f.write(f\"{bbox}\\n\")\n",
    "    f.write(f\"{s2_id}\\n\")\n",
    "\n"
   ]
  },
  {
   "cell_type": "code",
   "execution_count": 145,
   "metadata": {},
   "outputs": [],
   "source": [
    "assert os.path.isfile(f\"../data/inputs/{s2_id}/sub1/rtc.txt\"), \"RTC file for the scene not readt or none-existent. Run `rtc_job_single_scene` notebook.\"\n",
    "with open(f\"../data/inputs/{s2_id}/sub1/rtc.txt\", \"r\") as f:\n",
    "    rtc_file = f.readline()\n",
    "\n",
    "with ZipFile(rtc_file) as f:\n",
    "    f.extractall(f\"../data/inputs/{s2_id}/sub1\")\n",
    "    \n",
    "tgt_image_dir = os.path.join(\"../data/inputs/\", s2_id, \"sub1\", f\"{os.path.splitext(os.path.basename(rtc_file))[0]}\")\n",
    "tgt_image = list(filter(lambda f: (\"rgb\" in f) and f.endswith(\".tif\"), glob.glob(f\"{tgt_image_dir}/*\")))[0]\n",
    "# repreojected_tgt_path = os.path.join(os.path.dirname(tgt_image), os.path.basename(tgt_image).replace(\".tiff\", \"-reprojected.tiff\"))\n",
    "# reproject_tif(tgt_image, repreojected_tgt_path, rasterio.open(ref_image).profile[\"crs\"])\n",
    "# tgt_image = repreojected_tgt_path\n",
    "\n",
    "local_output = os.path.join(\"../data/outputs/\", \"L1C_SLC_AN_pair\", f\"{id}_local.tiff\")\n",
    "global_output = os.path.join(\"../data/outputs/\", \"L1C_SLC_AN_pair\", f\"{id}_global.tiff\")"
   ]
  },
  {
   "cell_type": "code",
   "execution_count": null,
   "metadata": {},
   "outputs": [],
   "source": [
    "%%time\n",
    "coreg_global = COREG(\n",
    "    im_ref=ref_image,\n",
    "    im_tgt=tgt_image,\n",
    "    path_out=global_output,\n",
    "    fmt_out=\"GTIFF\",\n",
    "    # v=True,\n",
    "    nodata=(0.0,0.0),\n",
    "    r_b4match=2,\n",
    "    s_b4match=1,\n",
    "    align_grids=True,\n",
    "    max_iter = 10,\n",
    "    max_shift = 10,\n",
    "    ws = (500, 500)\n",
    ")\n",
    "res = coreg_global.correct_shifts()"
   ]
  },
  {
   "cell_type": "code",
   "execution_count": null,
   "metadata": {},
   "outputs": [],
   "source": [
    "%%time\n",
    "coreg_local = COREG_LOCAL(\n",
    "    im_ref=ref_image,\n",
    "    im_tgt=tgt_image,\n",
    "    grid_res=250,\n",
    "    # max_points=200,\n",
    "    path_out=local_output,\n",
    "    fmt_out=\"GTIFF\",\n",
    "    # v=True,\n",
    "    nodata=(0.0,0.0),\n",
    "    # r_b4match=2,\n",
    "    # s_b4match=2,\n",
    "    align_grids=True,\n",
    "    max_iter = 10,\n",
    "    max_shift = 10,\n",
    "    CPUs = 8,\n",
    ")\n",
    "res = coreg_local.correct_shifts()"
   ]
  },
  {
   "cell_type": "code",
   "execution_count": null,
   "metadata": {},
   "outputs": [],
   "source": []
  }
 ],
 "metadata": {
  "kernelspec": {
   "display_name": "Python 3",
   "language": "python",
   "name": "python3"
  },
  "language_info": {
   "codemirror_mode": {
    "name": "ipython",
    "version": 3
   },
   "file_extension": ".py",
   "mimetype": "text/x-python",
   "name": "python",
   "nbconvert_exporter": "python",
   "pygments_lexer": "ipython3",
   "version": "3.12.8"
  }
 },
 "nbformat": 4,
 "nbformat_minor": 2
}
