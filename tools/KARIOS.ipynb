{
 "cells": [
  {
   "cell_type": "code",
   "execution_count": null,
   "metadata": {},
   "outputs": [],
   "source": [
    "import os\n",
    "import rasterio\n",
    "import cv2 as cv\n",
    "import sys\n",
    "import pandas as pd\n",
    "from subprocess import run\n",
    "import shlex\n",
    "\n",
    "sys.path.insert(1, \"../\")\n",
    "from utils import *"
   ]
  },
  {
   "cell_type": "code",
   "execution_count": null,
   "metadata": {},
   "outputs": [],
   "source": [
    "downsampled_scenes = glob.glob(\"../data/inputs/landsat/true_color/**\")\n",
    "ref_image = downsampled_scenes[0]\n",
    "tgt_images = downsampled_scenes[1:]"
   ]
  },
  {
   "cell_type": "code",
   "execution_count": null,
   "metadata": {},
   "outputs": [],
   "source": [
    "outout_dir = \"../data/outputs/KARIOS/L1GT_127111_Original\"\n",
    "os.makedirs(outout_dir, exist_ok=True)\n",
    "log_file = \"../data/outputs/KARIOS/L1GT_127111_Original/karios.log\"\n",
    "for tgt_image in tgt_images:\n",
    "    cmd = f\"python /home/ubuntu/Coreg/karios/karios/karios.py {tgt_image} {ref_image} --out {outout_dir} --log-file-path {log_file}\"\n",
    "    print(f\"Running {cmd}\")\n",
    "    run(shlex.split(cmd))"
   ]
  },
  {
   "cell_type": "code",
   "execution_count": null,
   "metadata": {},
   "outputs": [],
   "source": [
    "scene_names = []\n",
    "shifts = []\n",
    "with open(log_file, \"r\") as f:\n",
    "    for line in f:\n",
    "        if \"_T2_TC.TIF\" in line:\n",
    "            scene_names.append(line.strip().split(\" \")[-1])\n",
    "        if \"DX/DY(KLT) MEAN\" in line:\n",
    "            splits = line.strip().split(\" \")\n",
    "            shifts.append([float(splits[-3]), float(splits[-1])])\n",
    "\n",
    "shifts_dict = {}\n",
    "for f, sh in zip(scene_names, shifts):\n",
    "    shifts_dict[f] = sh"
   ]
  },
  {
   "cell_type": "code",
   "execution_count": null,
   "metadata": {},
   "outputs": [],
   "source": [
    "output_dir = \"../data/outputs/KARIOS/L1GT_127111_Original/Aligned\"\n",
    "os.makedirs(output_dir, exist_ok=True)\n",
    "for key in list(shifts_dict.keys()):\n",
    "    output_path = os.path.join(output_dir, os.path.basename(key))\n",
    "    shift_x, shift_y = shifts_dict[key]\n",
    "    tgt_aligned = warp_affine_dataset(\n",
    "        key, output_path, translation_x=shift_x, translation_y=shift_y\n",
    "    )"
   ]
  },
  {
   "cell_type": "code",
   "execution_count": null,
   "metadata": {},
   "outputs": [],
   "source": [
    "processed_output_images = glob.glob(\"../data/outputs/KARIOS/L1GT_127111_Original/Aligned/**\")\n",
    "ref_img = cv.cvtColor(\n",
    "    flip_img(rasterio.open(ref_image).read()), cv.COLOR_BGR2GRAY\n",
    ").astype(\"uint8\")\n",
    "tgt_aligned_list = []\n",
    "for tgt_image in processed_output_images:\n",
    "    tgt_aligned_list.append(\n",
    "        cv.cvtColor(\n",
    "            flip_img(rasterio.open(tgt_image).read()), cv.COLOR_BGR2GRAY\n",
    "        ).astype(\"uint8\")\n",
    "    )\n",
    "\n",
    "datasets_paths = [ref_image] + processed_output_images\n",
    "ssims_aligned = [\n",
    "    np.round(ssim(ref_img, tgt, win_size=3), 3) for tgt in tgt_aligned_list\n",
    "]\n",
    "mse_aligned = [np.round(mse(ref_img, tgt), 3) for tgt in tgt_aligned_list]\n",
    "target_titles = [f\"target_{str(i)}\" for i in range(len(tgt_aligned_list))]\n",
    "datasets_titles = [\"Reference\"] + [\n",
    "    f\"{target_title}, ssim:{ssim_score}, mse:{mse_score}\"\n",
    "    for target_title, ssim_score, mse_score in zip(\n",
    "        target_titles, ssims_aligned, mse_aligned\n",
    "    )\n",
    "]\n",
    "make_difference_gif(\n",
    "    datasets_paths,\n",
    "    \"../data/outputs/KARIOS/L1GT_127111_Original/karios.gif\",\n",
    "    datasets_titles,\n",
    "    fps=3,\n",
    ")\n",
    "\n",
    "datasets_paths = [ref_image] + tgt_images\n",
    "tgt_raw_list = []\n",
    "for tgt_image in tgt_images:\n",
    "    tgt_raw_list.append(\n",
    "        cv.cvtColor(\n",
    "            flip_img(rasterio.open(tgt_image).read()), cv.COLOR_BGR2GRAY\n",
    "        ).astype(\"uint8\")\n",
    "    )\n",
    "ssims_aligned_raw = [\n",
    "    np.round(ssim(ref_img, tgt, win_size=3), 3) for tgt in tgt_raw_list\n",
    "]\n",
    "mse_aligned_raw = [np.round(mse(ref_img, tgt), 3) for tgt in tgt_raw_list]\n",
    "target_titles = [f\"target_{str(i)}\" for i in range(len(tgt_raw_list))]\n",
    "datasets_titles = [\"Reference\"] + [\n",
    "    f\"{target_title}, ssim:{ssim_score}, mse:{mse_score}\"\n",
    "    for target_title, ssim_score, mse_score in zip(\n",
    "        target_titles, ssims_aligned_raw, mse_aligned_raw\n",
    "    )\n",
    "]\n",
    "make_difference_gif(\n",
    "    datasets_paths,\n",
    "    \"../data/outputs/KARIOS/L1GT_127111_Original/karios_raw.gif\",\n",
    "    datasets_titles,\n",
    "    fps=3,\n",
    ")\n",
    "\n",
    "out_ssim = \"../data/outputs/KARIOS/L1GT_127111_Original/karios.csv\"\n",
    "out_ssim_df = pd.DataFrame(\n",
    "    zip(target_titles, ssims_aligned_raw, ssims_aligned, mse_aligned_raw, mse_aligned),\n",
    "    columns=[\"Title\", \"SSIM Raw\", \"SSIM Aligned\", \"MSE Raw\", \"MSE Aligned\"],\n",
    "    index=None,\n",
    "            )\n",
    "out_ssim_df.to_csv(out_ssim, encoding=\"utf-8\")"
   ]
  }
 ],
 "metadata": {
  "kernelspec": {
   "display_name": "Python 3",
   "language": "python",
   "name": "python3"
  },
  "language_info": {
   "codemirror_mode": {
    "name": "ipython",
    "version": 3
   },
   "file_extension": ".py",
   "mimetype": "text/x-python",
   "name": "python",
   "nbconvert_exporter": "python",
   "pygments_lexer": "ipython3",
   "version": "3.12.2"
  }
 },
 "nbformat": 4,
 "nbformat_minor": 2
}
