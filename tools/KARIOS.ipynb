{
 "cells": [
  {
   "cell_type": "code",
   "execution_count": null,
   "metadata": {},
   "outputs": [],
   "source": [
    "import os\n",
    "import rasterio\n",
    "import cv2 as cv\n",
    "import sys\n",
    "import pandas as pd\n",
    "from subprocess import run\n",
    "import shlex\n",
    "\n",
    "sys.path.insert(1, \"../\")\n",
    "from utils import *"
   ]
  },
  {
   "cell_type": "code",
   "execution_count": null,
   "metadata": {},
   "outputs": [],
   "source": [
    "product_id = \"LANDSAT_8_108074\"\n",
    "scenes = glob.glob(f\"../data/inputs/{product_id}/true_color/**\")\n",
    "ref_image = scenes[0]\n",
    "tgt_images = scenes[1:]\n",
    "process_ids = {}\n",
    "for i, tgt in enumerate(tgt_images):\n",
    "    process_ids[os.path.basename(tgt)] = i"
   ]
  },
  {
   "cell_type": "code",
   "execution_count": null,
   "metadata": {},
   "outputs": [],
   "source": [
    "output_dir = f\"../data/outputs/KARIOS/{product_id}\"\n",
    "os.makedirs(output_dir, exist_ok=True)\n",
    "log_file = f\"../data/outputs/KARIOS/{product_id}/karios.log\"\n",
    "for tgt_image in tgt_images:\n",
    "    cmd = f\"python /home/ubuntu/Coreg/karios/karios/karios.py {tgt_image} {ref_image} --out {output_dir} --log-file-path {log_file}\"\n",
    "    print(f\"Running {cmd}\")\n",
    "    run(shlex.split(cmd))"
   ]
  },
  {
   "cell_type": "code",
   "execution_count": null,
   "metadata": {},
   "outputs": [],
   "source": [
    "scene_names = []\n",
    "shifts = []\n",
    "with open(log_file, \"r\") as f:\n",
    "    for line in f:\n",
    "        if \"_T1_SR_TC.TIF\" in line:\n",
    "            scene_names.append(line.strip().split(\" \")[-1])\n",
    "        if \"DX/DY(KLT) MEAN\" in line:\n",
    "            splits = line.strip().split(\" \")\n",
    "            shifts.append([float(splits[-3]), float(splits[-1])])\n",
    "\n",
    "shifts_dict = {}\n",
    "for f, sh in zip(scene_names, shifts):\n",
    "    shifts_dict[f] = sh"
   ]
  },
  {
   "cell_type": "code",
   "execution_count": null,
   "metadata": {},
   "outputs": [],
   "source": [
    "shifts_dict"
   ]
  },
  {
   "cell_type": "code",
   "execution_count": null,
   "metadata": {},
   "outputs": [],
   "source": [
    "output_dir = f\"../data/outputs/KARIOS/{product_id}/Aligned\"\n",
    "os.makedirs(output_dir, exist_ok=True)\n",
    "for key in list(shifts_dict.keys()):\n",
    "    output_path = os.path.join(output_dir, os.path.basename(key))\n",
    "    shift_x, shift_y = shifts_dict[key]\n",
    "    tgt_aligned = warp_affine_dataset(\n",
    "        key, output_path, translation_x=shift_x, translation_y=shift_y\n",
    "    )"
   ]
  },
  {
   "cell_type": "code",
   "execution_count": null,
   "metadata": {},
   "outputs": [],
   "source": [
    "processed_output_images = glob.glob(f\"../data/outputs/KARIOS/{product_id}/Aligned/**\")\n",
    "\n",
    "aligned_process_ids = [\n",
    "    process_ids[os.path.basename(t)] for t in processed_output_images\n",
    "]\n",
    "perm = np.argsort(aligned_process_ids)\n",
    "processed_output_images = [processed_output_images[idx] for idx in perm]\n",
    "\n",
    "tgt_aligned_list = []\n",
    "ref_imgs = []\n",
    "for i, tgt in enumerate(processed_output_images):\n",
    "    _, (_, _, ref_overlap, tgt_overlap) = find_overlap(ref_image, tgt, True)\n",
    "    ref_imgs.append(cv.cvtColor(ref_overlap, cv.COLOR_BGR2GRAY).astype(\"uint8\"))\n",
    "    tgt_aligned_list.append(cv.cvtColor(tgt_overlap, cv.COLOR_BGR2GRAY).astype(\"uint8\"))\n",
    "\n",
    "datasets_paths = [ref_image] + processed_output_images\n",
    "ssims_aligned = [\n",
    "    np.round(ssim(ref_imgs[id], tgt_aligned_list[id], win_size=3), 3)\n",
    "    for id in range(len(tgt_aligned_list))\n",
    "]\n",
    "mse_aligned = [\n",
    "    np.round(mse(ref_imgs[id], tgt_aligned_list[id]), 3)\n",
    "    for id in range(len(tgt_aligned_list))\n",
    "]\n",
    "target_titles = [f\"target_{str(i)}\" for i in sorted(aligned_process_ids)]\n",
    "datasets_titles = [\"Reference\"] + [\n",
    "    f\"{target_title}, ssim:{ssim_score}, mse:{mse_score}\"\n",
    "    for target_title, ssim_score, mse_score in zip(\n",
    "        target_titles, ssims_aligned, mse_aligned\n",
    "    )\n",
    "]\n",
    "make_difference_gif(\n",
    "    datasets_paths,\n",
    "    f\"../data/outputs/KARIOS/{product_id}/karios.gif\",\n",
    "    datasets_titles,\n",
    "    mosaic_scenes=True,\n",
    ")\n",
    "\n",
    "tgt_images = [tgt_images[idx] for idx in sorted(aligned_process_ids)]\n",
    "tgt_raw_list = []\n",
    "ref_imgs = []\n",
    "for i, tgt in enumerate(tgt_images):\n",
    "    _, (_, _, ref_overlap, tgt_overlap) = find_overlap(ref_image, tgt, True)\n",
    "    ref_imgs.append(cv.cvtColor(ref_overlap, cv.COLOR_BGR2GRAY).astype(\"uint8\"))\n",
    "    tgt_raw_list.append(cv.cvtColor(tgt_overlap, cv.COLOR_BGR2GRAY).astype(\"uint8\"))\n",
    "\n",
    "datasets_paths = [ref_image] + tgt_images\n",
    "ssims_aligned_raw = [\n",
    "    np.round(ssim(ref_imgs[id], tgt_raw_list[id], win_size=3), 3)\n",
    "    for id in range(len(tgt_raw_list))\n",
    "]\n",
    "mse_aligned_raw = [\n",
    "    np.round(mse(ref_imgs[id], tgt_raw_list[id]), 3) for id in range(len(tgt_raw_list))\n",
    "]\n",
    "datasets_titles = [\"Reference\"] + [\n",
    "    f\"{target_title}, ssim:{ssim_score}, mse:{mse_score}\"\n",
    "    for target_title, ssim_score, mse_score in zip(\n",
    "        target_titles, ssims_aligned_raw, mse_aligned_raw\n",
    "    )\n",
    "]\n",
    "make_difference_gif(\n",
    "    datasets_paths,\n",
    "    f\"../data/outputs/KARIOS/{product_id}/karios_raw.gif\",\n",
    "    datasets_titles,\n",
    "    mosaic_scenes=True,\n",
    ")\n",
    "\n",
    "out_ssim = f\"../data/outputs/KARIOS/{product_id}/karios.csv\"\n",
    "out_ssim_df = pd.DataFrame(\n",
    "    zip(target_titles, ssims_aligned_raw, ssims_aligned, mse_aligned_raw, mse_aligned),\n",
    "    columns=[\"Title\", \"SSIM Raw\", \"SSIM Aligned\", \"MSE Raw\", \"MSE Aligned\"],\n",
    "    index=None,\n",
    ")\n",
    "out_ssim_df.to_csv(out_ssim, encoding=\"utf-8\")"
   ]
  }
 ],
 "metadata": {
  "kernelspec": {
   "display_name": "Python 3",
   "language": "python",
   "name": "python3"
  },
  "language_info": {
   "codemirror_mode": {
    "name": "ipython",
    "version": 3
   },
   "file_extension": ".py",
   "mimetype": "text/x-python",
   "name": "python",
   "nbconvert_exporter": "python",
   "pygments_lexer": "ipython3",
   "version": "3.12.2"
  }
 },
 "nbformat": 4,
 "nbformat_minor": 2
}
