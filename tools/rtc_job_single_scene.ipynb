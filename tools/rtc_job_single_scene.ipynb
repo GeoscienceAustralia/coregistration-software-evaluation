{
 "cells": [
  {
   "cell_type": "code",
   "execution_count": 2,
   "metadata": {},
   "outputs": [],
   "source": [
    "import hyp3_sdk as sdk\n",
    "from hyp3_sdk import HyP3\n",
    "import getpass\n",
    "from datetime import datetime\n",
    "import os\n",
    "import sys\n",
    "sys.path.insert(1, '../')\n",
    "from utils import *"
   ]
  },
  {
   "cell_type": "code",
   "execution_count": null,
   "metadata": {},
   "outputs": [],
   "source": [
    "uid = getpass.getpass(\"Enter your EathData user id?\")\n",
    "pswd = getpass.getpass(\"Enter your EathData password?\")\n",
    "hyp3 = HyP3(username=uid, password=pswd)"
   ]
  },
  {
   "cell_type": "code",
   "execution_count": null,
   "metadata": {},
   "outputs": [],
   "source": [
    "project_name = f\"AN-AU-coreg-test-20m-{datetime.now().strftime('%Y-%m-%d-%H-%M-%S')}\"\n",
    "\n",
    "with open(f\"../data/asf/sub1/bbox.txt\", \"r\") as f:\n",
    "    bbox = f.readline().strip()\n",
    "    s2_id = f.readline().strip()\n",
    "\n",
    "s1_scene_files = get_s1_filenames([bbox], [\"2023\", \"2024\"], f\"../data/asf/sub1/scenes.txt\", [\"SLC\"])\n",
    "# get the Dec 2024 for S1 GRD\n",
    "scene = s1_scene_files[0]\n",
    "\n",
    "download_folder = f\"../data/asf/{s2_id}/sub1/\"\n",
    "\n",
    "rtc_job = sdk.Batch()\n",
    "rtc_job = hyp3.submit_rtc_job(\n",
    "    os.path.splitext(os.path.basename(scene))[0], \n",
    "    include_dem=True, #include dem in final product\n",
    "    include_inc_map=True,  #include dem map in final product\n",
    "    include_rgb=True,  #include rgb img in final product\n",
    "    include_scattering_area=True, #include scat area in final product\n",
    "    name=project_name,\n",
    "    resolution=20,\n",
    "    dem_name='copernicus',\n",
    "    radiometry='gamma0',\n",
    ")\n",
    "print(rtc_job)\n",
    "\n",
    "# watch job\n",
    "rtc_job = hyp3.find_jobs(name=project_name)\n",
    "rtc_job = hyp3.watch(rtc_job)\n",
    "\n",
    "# download when done\n",
    "rtc_file = rtc_job.download_files(download_folder)\n",
    "\n",
    "with open(f\"../data/inputs/{s2_id}/sub1/rtc.txt\", \"w\") as f:\n",
    "    f.write(f\"{str(rtc_file[0])}\")"
   ]
  }
 ],
 "metadata": {
  "kernelspec": {
   "display_name": "Python 3",
   "language": "python",
   "name": "python3"
  },
  "language_info": {
   "codemirror_mode": {
    "name": "ipython",
    "version": 3
   },
   "file_extension": ".py",
   "mimetype": "text/x-python",
   "name": "python",
   "nbconvert_exporter": "python",
   "pygments_lexer": "ipython3",
   "version": "3.12.8"
  }
 },
 "nbformat": 4,
 "nbformat_minor": 2
}
