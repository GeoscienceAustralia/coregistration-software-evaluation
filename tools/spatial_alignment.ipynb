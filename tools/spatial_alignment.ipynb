{
 "cells": [
  {
   "cell_type": "code",
   "execution_count": null,
   "metadata": {},
   "outputs": [],
   "source": [
    "import sys\n",
    "\n",
    "sys.path.insert(1, \"../\")\n",
    "from utils import *\n",
    "\n",
    "%matplotlib inline"
   ]
  },
  {
   "cell_type": "markdown",
   "metadata": {},
   "source": [
    "##### Landsat "
   ]
  },
  {
   "cell_type": "code",
   "execution_count": null,
   "metadata": {},
   "outputs": [],
   "source": [
    "serie_dirs = [d for d in glob.glob(\"../data/inputs/spatial/**\") if os.path.isdir(d)]"
   ]
  },
  {
   "cell_type": "code",
   "execution_count": null,
   "metadata": {},
   "outputs": [],
   "source": [
    "# dir_index = 0\n",
    "# dir_path = serie_dirs[dir_index]\n",
    "# tcds_dir = os.path.join(dir_path, \"true_color_ds\")\n",
    "# tc_files = glob.glob(f\"{tcds_dir}/**\")\n",
    "# tc_imgs = [flip_img(rasterio.open(f).read()) for f in tc_files]\n",
    "# plt.figure(figsize=(10, 10), dpi = 300)\n",
    "# _, axes = plt.subplots(2, 5)\n",
    "# for i, ax in enumerate(axes.ravel()):\n",
    "#     ax.imshow(tc_imgs[i])\n",
    "# plt.tight_layout()"
   ]
  },
  {
   "cell_type": "code",
   "execution_count": null,
   "metadata": {},
   "outputs": [],
   "source": [
    "shifts_dict = {}\n",
    "for idx in range(len(serie_dirs)):\n",
    "    print(f\"Now processing {os.path.basename(serie_dirs[idx])}\")\n",
    "    dir_path = serie_dirs[idx]\n",
    "    tcds_dir = os.path.join(dir_path, \"true_color\")\n",
    "    tc_files = glob.glob(f\"{tcds_dir}/**\")\n",
    "    ref_image = tc_files[1]\n",
    "    tgt_images = [tc_files[0]] + tc_files[2:]\n",
    "    output_path = os.path.join(\n",
    "        f\"../data/outputs/OpenCV/spatial/{os.path.basename(serie_dirs[idx])}\"\n",
    "    )\n",
    "    os.makedirs(output_path, exist_ok=True)\n",
    "    _, shifts = co_register(\n",
    "        ref_image,\n",
    "        tgt_images,\n",
    "        output_path=output_path,\n",
    "        remove_outlilers=True,\n",
    "        # laplacian_kernel_size = 5,\n",
    "        return_shifted_images=True,\n",
    "        rethrow_error=True,\n",
    "        use_overlap=True,\n",
    "    )\n",
    "    shifts_dict[os.path.basename(serie_dirs[idx])] = shifts"
   ]
  },
  {
   "cell_type": "code",
   "execution_count": null,
   "metadata": {},
   "outputs": [],
   "source": [
    "raw_images_list = []\n",
    "ref_images = []\n",
    "for idx in range(len(serie_dirs)):\n",
    "    dir_path = serie_dirs[idx]\n",
    "    tcds_dir = os.path.join(dir_path, \"true_color\")\n",
    "    tc_files = glob.glob(f\"{tcds_dir}/**\")\n",
    "    raw_images_list.extend(tc_files)\n",
    "    ref_images.append(tc_files[1])\n",
    "\n",
    "crg_images_list = []\n",
    "for ref_image in ref_images:\n",
    "    coreg_dir = os.path.join(\"../data/outputs/OpenCV/spatial\", ref_image.split(\"/\")[4])\n",
    "    crg_images_list.extend([ref_image] + glob.glob(f\"{coreg_dir}/Aligned/**\"))"
   ]
  },
  {
   "cell_type": "code",
   "execution_count": null,
   "metadata": {},
   "outputs": [],
   "source": [
    "dates = set([os.path.basename(im).split(\"_\")[3][0:6] for im in raw_images_list])\n",
    "concurrent_dict = {}\n",
    "for date in dates:\n",
    "    c_raw = list(filter(lambda el: date in el, raw_images_list))\n",
    "    c_crg = list(filter(lambda el: date in el, crg_images_list))\n",
    "    cnd = (len(c_raw) == len(c_crg)) and (len(c_raw) > 1)\n",
    "    if cnd:\n",
    "        concurrent_dict[date] = {\"raw\": c_raw, \"crg\": c_crg}"
   ]
  },
  {
   "cell_type": "code",
   "execution_count": null,
   "metadata": {},
   "outputs": [],
   "source": [
    "raw_mosaics_dir = \"../data/outputs/OpenCV/spatial/mosaics/raw\"\n",
    "crg_mosaics_dir = \"../data/outputs/OpenCV/spatial/mosaics/crg\"\n",
    "os.makedirs(raw_mosaics_dir, exist_ok=True)\n",
    "os.makedirs(crg_mosaics_dir, exist_ok=True)\n",
    "for date in concurrent_dict:\n",
    "    print(\n",
    "        f\"Now mosaicing scenes for date {date} with {len(concurrent_dict[date][\"raw\"])} scenes.\"\n",
    "    )\n",
    "    raw_file = os.path.join(raw_mosaics_dir, f\"{date}.jpg\")\n",
    "    mosaic, _, _ = make_mosaic(\n",
    "        concurrent_dict[date][\"raw\"],\n",
    "        mosaic_output_path=raw_file.replace(\".jpg\", \".tif\"),\n",
    "    )\n",
    "    plt.imsave(raw_file, mosaic, dpi=300)\n",
    "\n",
    "    crg_file = os.path.join(crg_mosaics_dir, f\"{date}.jpg\")\n",
    "    mosaic, _, _ = make_mosaic(\n",
    "        concurrent_dict[date][\"crg\"],\n",
    "        mosaic_output_path=crg_file.replace(\".jpg\", \".tif\"),\n",
    "    )\n",
    "    plt.imsave(crg_file, mosaic, dpi=300)"
   ]
  },
  {
   "cell_type": "code",
   "execution_count": null,
   "metadata": {},
   "outputs": [],
   "source": [
    "raw_mosaics = [\n",
    "    f\n",
    "    for f in glob.glob(\"../data/outputs/OpenCV/spatial/mosaics/raw/**\")\n",
    "    if f.endswith(\".tif\")\n",
    "]\n",
    "crg_mosaics = [\n",
    "    f\n",
    "    for f in glob.glob(\"../data/outputs/OpenCV/spatial/mosaics/crg/**\")\n",
    "    if f.endswith(\".tif\")\n",
    "]\n",
    "\n",
    "os.makedirs(\"../data/outputs/OpenCV/spatial/mosaics_ds/raw\", exist_ok=True)\n",
    "os.makedirs(\"../data/outputs/OpenCV/spatial/mosaics_ds/crg\", exist_ok=True)\n",
    "for m in raw_mosaics:\n",
    "    downsample_dataset(m, 0.1, m.replace(\"mosaics\", \"mosaics_ds\"))\n",
    "raw_mosaics_ds = glob.glob(\"../data/outputs/OpenCV/spatial/mosaics_ds/raw/**\")\n",
    "\n",
    "for m in crg_mosaics:\n",
    "    downsample_dataset(m, 0.1, m.replace(\"mosaics\", \"mosaics_ds\"))\n",
    "crg_mosaics_ds = glob.glob(\"../data/outputs/OpenCV/spatial/mosaics_ds/crg/**\")\n",
    "\n",
    "make_difference_gif(\n",
    "    raw_mosaics_ds, \"../data/outputs/OpenCV/spatial/raw.gif\", mosaic_scenes=True\n",
    ")\n",
    "make_difference_gif(\n",
    "    crg_mosaics_ds, \"../data/outputs/OpenCV/spatial/crg.gif\", mosaic_scenes=True\n",
    ")"
   ]
  }
 ],
 "metadata": {
  "kernelspec": {
   "display_name": "Python 3",
   "language": "python",
   "name": "python3"
  },
  "language_info": {
   "codemirror_mode": {
    "name": "ipython",
    "version": 3
   },
   "file_extension": ".py",
   "mimetype": "text/x-python",
   "name": "python",
   "nbconvert_exporter": "python",
   "pygments_lexer": "ipython3",
   "version": "3.12.2"
  }
 },
 "nbformat": 4,
 "nbformat_minor": 2
}
