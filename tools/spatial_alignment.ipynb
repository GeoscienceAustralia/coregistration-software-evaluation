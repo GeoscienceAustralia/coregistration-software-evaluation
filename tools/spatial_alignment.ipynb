{
 "cells": [
  {
   "cell_type": "code",
   "execution_count": null,
   "metadata": {},
   "outputs": [],
   "source": [
    "import sys\n",
    "sys.path.insert(1, \"../\")\n",
    "from utils import *\n",
    "\n",
    "%matplotlib inline  \n"
   ]
  },
  {
   "cell_type": "markdown",
   "metadata": {},
   "source": [
    "##### Landsat "
   ]
  },
  {
   "cell_type": "code",
   "execution_count": null,
   "metadata": {},
   "outputs": [],
   "source": [
    "serie_dirs = [d for d in glob.glob(\"../data/inputs/spatial/**\") if os.path.isdir(d)]"
   ]
  },
  {
   "cell_type": "code",
   "execution_count": null,
   "metadata": {},
   "outputs": [],
   "source": [
    "# dir_index = 0\n",
    "# dir_path = serie_dirs[dir_index]\n",
    "# tcds_dir = os.path.join(dir_path, \"true_color_ds\")\n",
    "# tc_files = glob.glob(f\"{tcds_dir}/**\")\n",
    "# tc_imgs = [flip_img(rasterio.open(f).read()) for f in tc_files]\n",
    "# plt.figure(figsize=(10, 10), dpi = 300)\n",
    "# _, axes = plt.subplots(2, 5)\n",
    "# for i, ax in enumerate(axes.ravel()):\n",
    "#     ax.imshow(tc_imgs[i])\n",
    "# plt.tight_layout()"
   ]
  },
  {
   "cell_type": "code",
   "execution_count": null,
   "metadata": {},
   "outputs": [],
   "source": [
    "shifts_dict = {}\n",
    "for idx in range(len(serie_dirs)):\n",
    "    print(f\"Now processing {os.path.basename(serie_dirs[idx])}\")\n",
    "    dir_path = serie_dirs[idx]\n",
    "    tcds_dir = os.path.join(dir_path, \"true_color\")\n",
    "    tc_files = glob.glob(f\"{tcds_dir}/**\")\n",
    "    ref_image = tc_files[1]\n",
    "    tgt_images = [tc_files[0]] + tc_files[2:]\n",
    "    output_path = os.path.join(f\"../data/outputs/OpenCV/spatial/{os.path.basename(serie_dirs[idx])}\")\n",
    "    os.makedirs(output_path, exist_ok=True)\n",
    "    _, shifts = co_register(\n",
    "        ref_image,\n",
    "        tgt_images,\n",
    "        output_path=output_path,\n",
    "        remove_outlilers=True,\n",
    "        # laplacian_kernel_size = 5,\n",
    "        return_shifted_images=True,\n",
    "        rethrow_error=True,\n",
    "        use_overlap=True,\n",
    "    )\n",
    "    shifts_dict[os.path.basename(serie_dirs[idx])] = shifts"
   ]
  },
  {
   "cell_type": "code",
   "execution_count": null,
   "metadata": {},
   "outputs": [],
   "source": []
  }
 ],
 "metadata": {
  "kernelspec": {
   "display_name": "Python 3",
   "language": "python",
   "name": "python3"
  },
  "language_info": {
   "codemirror_mode": {
    "name": "ipython",
    "version": 3
   },
   "file_extension": ".py",
   "mimetype": "text/x-python",
   "name": "python",
   "nbconvert_exporter": "python",
   "pygments_lexer": "ipython3",
   "version": "3.12.2"
  }
 },
 "nbformat": 4,
 "nbformat_minor": 2
}
