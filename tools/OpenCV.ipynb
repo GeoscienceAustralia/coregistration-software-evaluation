{
 "cells": [
  {
   "cell_type": "code",
   "execution_count": 1,
   "metadata": {},
   "outputs": [],
   "source": [
    "import os\n",
    "import rasterio\n",
    "import cv2 as cv\n",
    "import sys\n",
    "\n",
    "sys.path.insert(1, \"../\")\n",
    "from utils import *\n",
    "from skimage.metrics import structural_similarity as ssim"
   ]
  },
  {
   "cell_type": "markdown",
   "metadata": {},
   "source": [
    "* ECC works for images of the same type with very good overlap. not working with images with small overlaps (not coorectly registering for multi-sensor cases at least without pre-processing)\n",
    "* very very slow! (for original images)\n",
    "* Phase correlation is basically global co-registration in AROSICS. not working for transformation. It only does translation shifts but it is very fast. It can support multi-sensor as it could work on images with partial overlaps.\n",
    "* It seems that optical flow is doing better than phase correlaton but the improvement is trivial. Also it is very fast."
   ]
  },
  {
   "cell_type": "code",
   "execution_count": 2,
   "metadata": {},
   "outputs": [],
   "source": [
    "DATA_DIR = \"../data/files_list\"\n",
    "\n",
    "S1_PRODUCTS = [\"SLC\", \"GRD\"]\n",
    "S2_PRODUCTS = [\"L1C\", \"L2A\"]\n",
    "\n",
    "s1_au_df = pd.read_csv(os.path.join(DATA_DIR, \"s1_au.csv\"), names=[\"ID\", \"Path\"])\n",
    "s1_an_df = pd.read_csv(os.path.join(DATA_DIR, \"s1_an.csv\"), names=[\"ID\", \"Path\"])\n",
    "\n",
    "s2_au_df = pd.read_csv(os.path.join(DATA_DIR, \"s2_au.csv\"), names=[\"ID\", \"Path\"])\n",
    "s2_an_df = pd.read_csv(os.path.join(DATA_DIR, \"s2_an.csv\"), names=[\"ID\", \"Path\"])\n",
    "\n",
    "s1_au_slc_dict = get_scenes_dict(s1_au_df, [\"SLC\"])\n",
    "s1_au_grd_dict = get_scenes_dict(s1_au_df, [\"GRD\"])\n",
    "\n",
    "s1_an_slc_dict = get_scenes_dict(s1_an_df, [\"SLC\"])\n",
    "s1_an_grd_dict = get_scenes_dict(s1_an_df, [\"GRD\"])\n",
    "\n",
    "s2_au_l1c_dict = get_scenes_dict(s2_au_df, [\"L1C\"], False)\n",
    "s2_au_l2a_dict = get_scenes_dict(s2_au_df, [\"L2A\"], False)\n",
    "\n",
    "s2_an_l1c_dict = get_scenes_dict(s2_an_df, [\"L1C\"], False)\n",
    "s2_an_l2a_dict = get_scenes_dict(s2_an_df, [\"L2A\"], False)"
   ]
  },
  {
   "cell_type": "markdown",
   "metadata": {},
   "source": [
    "#### Coregister arbitrary scenes"
   ]
  },
  {
   "cell_type": "code",
   "execution_count": null,
   "metadata": {},
   "outputs": [],
   "source": [
    "s2_an_l1c_r031_dict = get_scenes_dict(s2_an_df, [\"L1C\", \"R031\"], False)\n",
    "id = list(s2_an_l1c_r031_dict.keys())[0]\n",
    "tdf = s2_an_df[s2_an_df.ID == id]\n",
    "tdf = tdf[tdf.Path.apply(lambda x: \"L1C\" in x)]\n",
    "tdf = tdf[tdf.Path.apply(lambda x: \"N0511_R031\" in x)]\n",
    "s2_an_l1c_secne_files = list(tdf.Path)\n",
    "ref_id = 4\n",
    "ref_scene = s2_an_l1c_secne_files[ref_id]\n",
    "\n",
    "shutil.rmtree(f\"../data/inputs/{id}/\", ignore_errors=True)\n",
    "with ZipFile(ref_scene) as f:\n",
    "    f.extractall(f\"../data/inputs/{id}/ref\")\n",
    "ref_image_dir = os.path.join(\"../data/inputs/\", id, \"ref\")\n",
    "\n",
    "ref_tci_files = list(\n",
    "    filter(\n",
    "        lambda f: \"TCI\" in f,\n",
    "        glob.glob(f\"{ref_image_dir}/*/GRANULE/*/IMG_DATA/**\", recursive=True),\n",
    "    )\n",
    ")\n",
    "ref_tci_files = list(filter(lambda f: \"L1C\" in f, ref_tci_files))\n",
    "if len(ref_tci_files) > 1:\n",
    "    ref_image = [f for f in ref_tci_files if f.endswith(\"_10m.jp2\")][0]\n",
    "else:\n",
    "    ref_image = ref_tci_files[0]\n",
    "\n",
    "print(f\"Reference image: {ref_image}\")\n",
    "\n",
    "params = {\n",
    "    \"translation_x\": 5.0,\n",
    "    \"translation_y\": 10.0,\n",
    "    \"rotation_angle\": 2.5,\n",
    "    \"scale\": 1.0,\n",
    "}\n",
    "\n",
    "tgt_image_dir = os.path.join(\"../data/inputs/\", id, \"tgt\")\n",
    "os.makedirs(tgt_image_dir, exist_ok=True)\n",
    "\n",
    "tgt_image = os.path.join(tgt_image_dir, \"tgt.tif\")\n",
    "warp_affine_dataset(ref_image, tgt_image, **params)\n",
    "\n",
    "_, (axb, axt) = plt.subplots(1, 2, figsize=(10, 20))\n",
    "show(downsample_dataset(ref_image, 0.1)[0], ax=axb, title=\"Reference scene\")\n",
    "show(downsample_dataset(tgt_image, 0.1)[0], ax=axt, title=\"Target scene\")"
   ]
  },
  {
   "cell_type": "code",
   "execution_count": 126,
   "metadata": {},
   "outputs": [],
   "source": [
    "ref_image_ds = os.path.join(ref_image_dir, \"ref_ds.tif\")\n",
    "downsample_dataset(ref_image, 0.1, ref_image_ds)\n",
    "tgt_image_ds = os.path.join(tgt_image_dir, \"tgt_ds.tif\")\n",
    "_ = downsample_dataset(tgt_image, 0.1, tgt_image_ds)"
   ]
  },
  {
   "cell_type": "code",
   "execution_count": 127,
   "metadata": {},
   "outputs": [],
   "source": [
    "ref_img = cv.cvtColor(\n",
    "    flip_img(rasterio.open(ref_image).read().copy()), cv.COLOR_BGR2GRAY\n",
    ")\n",
    "tgt_img = cv.cvtColor(\n",
    "    flip_img(rasterio.open(tgt_image).read().copy()), cv.COLOR_BGR2GRAY\n",
    ")\n",
    "ref_img_ds = cv.cvtColor(\n",
    "    flip_img(rasterio.open(ref_image_ds).read().copy()), cv.COLOR_BGR2GRAY\n",
    ")\n",
    "tgt_img_ds = cv.cvtColor(\n",
    "    flip_img(rasterio.open(tgt_image_ds).read().copy()), cv.COLOR_BGR2GRAY\n",
    ")"
   ]
  },
  {
   "cell_type": "markdown",
   "metadata": {},
   "source": [
    "##### ECC"
   ]
  },
  {
   "cell_type": "code",
   "execution_count": 28,
   "metadata": {},
   "outputs": [],
   "source": [
    "warp_mode = cv.MOTION_HOMOGRAPHY\n",
    "warp_matrix = np.eye(3, 3, dtype=np.float32)\n",
    "number_of_iterations = 5000\n",
    "termination_eps = 1e-5\n",
    "\n",
    "criteria = (\n",
    "    cv.TERM_CRITERIA_EPS | cv.TERM_CRITERIA_COUNT,\n",
    "    number_of_iterations,\n",
    "    termination_eps,\n",
    ")\n",
    "(cc, warp_matrix) = cv.findTransformECC(\n",
    "    ref_img_ds, tgt_img_ds, warp_matrix, warp_mode, criteria\n",
    ")\n",
    "\n",
    "tgt_aligned_homography_ds = cv.warpPerspective(\n",
    "    tgt_img_ds,\n",
    "    warp_matrix,\n",
    "    (tgt_img_ds.shape[1], tgt_img_ds.shape[0]),\n",
    "    flags=cv.INTER_LINEAR + cv.WARP_INVERSE_MAP,\n",
    ")\n",
    "tgt_aligned_homography = cv.warpPerspective(\n",
    "    tgt_img,\n",
    "    warp_matrix,\n",
    "    (tgt_img.shape[1], tgt_img.shape[0]),\n",
    "    flags=cv.INTER_LINEAR + cv.WARP_INVERSE_MAP,\n",
    ")"
   ]
  },
  {
   "cell_type": "code",
   "execution_count": 29,
   "metadata": {},
   "outputs": [],
   "source": [
    "warp_mode = cv.MOTION_AFFINE\n",
    "warp_matrix = np.eye(2, 3, dtype=np.float32)\n",
    "number_of_iterations = 5000\n",
    "termination_eps = 1e-5\n",
    "\n",
    "criteria = (\n",
    "    cv.TERM_CRITERIA_EPS | cv.TERM_CRITERIA_COUNT,\n",
    "    number_of_iterations,\n",
    "    termination_eps,\n",
    ")\n",
    "(cc, warp_matrix) = cv.findTransformECC(\n",
    "    ref_img_ds, tgt_img_ds, warp_matrix, warp_mode, criteria\n",
    ")\n",
    "\n",
    "tgt_aligned_affine_ds = cv.warpAffine(\n",
    "    tgt_img_ds,\n",
    "    warp_matrix,\n",
    "    (tgt_img_ds.shape[1], tgt_img_ds.shape[0]),\n",
    "    flags=cv.INTER_LINEAR + cv.WARP_INVERSE_MAP,\n",
    ")\n",
    "tgt_aligned_affine = cv.warpAffine(\n",
    "    tgt_img,\n",
    "    warp_matrix,\n",
    "    (tgt_img.shape[1], tgt_img.shape[0]),\n",
    "    flags=cv.INTER_LINEAR + cv.WARP_INVERSE_MAP,\n",
    ")"
   ]
  },
  {
   "cell_type": "code",
   "execution_count": null,
   "metadata": {},
   "outputs": [],
   "source": [
    "_, axes = plt.subplots(1, 4, figsize=(15, 10))\n",
    "axes[0].imshow(ref_img_ds, cmap=\"jet\")\n",
    "axes[0].set_xlabel(\"Reference\")\n",
    "axes[1].imshow(tgt_img_ds, cmap=\"jet\")\n",
    "axes[1].set_xlabel(f\"Target, ssim:{np.round(ssim(ref_img_ds, tgt_img_ds), 3)}\")\n",
    "axes[2].imshow(tgt_aligned_homography_ds, cmap=\"jet\")\n",
    "axes[2].set_xlabel(\n",
    "    f\"Registered (hompgraphy), ssim:{np.round(ssim(ref_img_ds, tgt_aligned_homography_ds), 3)}\"\n",
    ")\n",
    "axes[3].imshow(tgt_aligned_affine_ds, cmap=\"jet\")\n",
    "axes[3].set_xlabel(\n",
    "    f\"Registered (affine), ssim:{np.round(ssim(ref_img_ds, tgt_aligned_affine_ds), 3)}\"\n",
    ")"
   ]
  },
  {
   "cell_type": "code",
   "execution_count": null,
   "metadata": {},
   "outputs": [],
   "source": [
    "_, axes = plt.subplots(1, 4, figsize=(15, 10))\n",
    "axes[0].imshow(ref_img, cmap=\"jet\")\n",
    "axes[0].set_xlabel(\"Reference\")\n",
    "axes[1].imshow(tgt_img, cmap=\"jet\")\n",
    "axes[1].set_xlabel(f\"Target, ssim:{np.round(ssim(ref_img, tgt_img), 3)}\")\n",
    "axes[2].imshow(tgt_aligned_homography, cmap=\"jet\")\n",
    "axes[2].set_xlabel(\n",
    "    f\"Registered (hompgraphy), ssim:{np.round(ssim(ref_img, tgt_aligned_homography), 3)}\"\n",
    ")\n",
    "axes[3].imshow(tgt_aligned_affine, cmap=\"jet\")\n",
    "axes[3].set_xlabel(\n",
    "    f\"Registered (affine), ssim:{np.round(ssim(ref_img, tgt_aligned_affine), 3)}\"\n",
    ")"
   ]
  },
  {
   "cell_type": "markdown",
   "metadata": {},
   "source": [
    "##### Phase Correlation"
   ]
  },
  {
   "cell_type": "code",
   "execution_count": 70,
   "metadata": {},
   "outputs": [],
   "source": [
    "window = cv.createHanningWindow(ref_img_ds.shape, cv.CV_32F)\n",
    "# window = None\n",
    "((shift_x, shift_y), phase_corr_score) = cv.phaseCorrelate(\n",
    "    np.float32(tgt_img_ds), np.float32(ref_img_ds), window\n",
    ")\n",
    "tgt_shifted_ds = warp_affine_dataset(\n",
    "    tgt_img_ds, translation_x=shift_x, translation_y=shift_y\n",
    ")"
   ]
  },
  {
   "cell_type": "code",
   "execution_count": null,
   "metadata": {},
   "outputs": [],
   "source": [
    "_, axes = plt.subplots(1, 3, figsize=(15, 10))\n",
    "axes[0].imshow(ref_img_ds, cmap=\"jet\")\n",
    "axes[0].set_xlabel(\"Reference\")\n",
    "axes[1].imshow(tgt_img_ds, cmap=\"jet\")\n",
    "axes[1].set_xlabel(f\"Target, ssim:{np.round(ssim(ref_img_ds, tgt_img_ds), 3)}\")\n",
    "axes[2].imshow(tgt_shifted_ds, cmap=\"jet\")\n",
    "axes[2].set_xlabel(f\"Registered, ssim:{np.round(ssim(ref_img_ds, tgt_shifted_ds), 3)}\")"
   ]
  },
  {
   "cell_type": "code",
   "execution_count": 75,
   "metadata": {},
   "outputs": [],
   "source": [
    "# window = cv.createHanningWindow(ref_img.shape, cv.CV_32F)\n",
    "window = None\n",
    "((shift_x, shift_y), phase_corr_score) = cv.phaseCorrelate(\n",
    "    np.float32(tgt_img), np.float32(ref_img), window\n",
    ")\n",
    "tgt_shifted = warp_affine_dataset(tgt_img, translation_x=shift_x, translation_y=shift_y)"
   ]
  },
  {
   "cell_type": "code",
   "execution_count": null,
   "metadata": {},
   "outputs": [],
   "source": [
    "_, axes = plt.subplots(1, 3, figsize=(15, 10))\n",
    "axes[0].imshow(ref_img, cmap=\"jet\")\n",
    "axes[0].set_xlabel(\"Reference\")\n",
    "axes[1].imshow(tgt_img, cmap=\"jet\")\n",
    "axes[1].set_xlabel(f\"Target, ssim:{np.round(ssim(ref_img, tgt_img), 3)}\")\n",
    "axes[2].imshow(tgt_shifted, cmap=\"jet\")\n",
    "axes[2].set_xlabel(f\"Registered, ssim:{np.round(ssim(ref_img, tgt_shifted), 3)}\")"
   ]
  },
  {
   "cell_type": "markdown",
   "metadata": {},
   "source": [
    "##### Optical flow"
   ]
  },
  {
   "cell_type": "code",
   "execution_count": 111,
   "metadata": {},
   "outputs": [],
   "source": [
    "# params for ShiTomasi corner detection\n",
    "feature_params = dict(\n",
    "    maxCorners=100,\n",
    "    qualityLevel=0.3,\n",
    "    minDistance=7,\n",
    "    blockSize=7,\n",
    ")\n",
    "\n",
    "# Parameters for lucas kanade optical flow\n",
    "number_of_iterations = 10\n",
    "termination_eps = 1e-5\n",
    "lk_params = dict(\n",
    "    winSize=(15, 15),\n",
    "    maxLevel=2,\n",
    "    criteria=(\n",
    "        cv.TERM_CRITERIA_EPS | cv.TERM_CRITERIA_COUNT,\n",
    "        number_of_iterations,\n",
    "        termination_eps,\n",
    "    ),\n",
    ")"
   ]
  },
  {
   "cell_type": "code",
   "execution_count": 112,
   "metadata": {},
   "outputs": [],
   "source": [
    "p0 = cv.goodFeaturesToTrack(ref_img_ds, mask=None, **feature_params)\n",
    "p1, st, err = cv.calcOpticalFlowPyrLK(ref_img_ds, tgt_img_ds, p0, None, **lk_params)\n",
    "ref_good = p0[st == 1].astype(np.float32)\n",
    "tgt_good = p1[st == 1].astype(np.float32)\n",
    "warp_matrix = cv.findHomography(ref_good, tgt_good)[0]\n",
    "tgt_aligned_ds = cv.warpPerspective(\n",
    "    tgt_img_ds,\n",
    "    warp_matrix,\n",
    "    (tgt_img_ds.shape[1], tgt_img_ds.shape[0]),\n",
    "    flags=cv.INTER_LINEAR + cv.WARP_INVERSE_MAP,\n",
    ")"
   ]
  },
  {
   "cell_type": "code",
   "execution_count": null,
   "metadata": {},
   "outputs": [],
   "source": [
    "_, axes = plt.subplots(1, 3, figsize=(15, 10))\n",
    "axes[0].imshow(ref_img_ds, cmap=\"jet\")\n",
    "axes[0].set_xlabel(\"Reference\")\n",
    "axes[1].imshow(tgt_img_ds, cmap=\"jet\")\n",
    "axes[1].set_xlabel(f\"Target, ssim:{np.round(ssim(ref_img_ds, tgt_img_ds), 3)}\")\n",
    "axes[2].imshow(tgt_aligned_ds, cmap=\"jet\")\n",
    "axes[2].set_xlabel(f\"Registered, ssim:{np.round(ssim(ref_img_ds, tgt_aligned_ds), 3)}\")"
   ]
  },
  {
   "cell_type": "code",
   "execution_count": null,
   "metadata": {},
   "outputs": [],
   "source": [
    "p0 = cv.goodFeaturesToTrack(ref_img, mask=None, **feature_params)\n",
    "p1, st, err = cv.calcOpticalFlowPyrLK(ref_img, tgt_img, p0, None, **lk_params)\n",
    "ref_good = p0[st == 1].astype(np.float32)\n",
    "tgt_good = p1[st == 1].astype(np.float32)\n",
    "warp_matrix = cv.findHomography(ref_good, tgt_good)[0]\n",
    "tgt_aligned = cv.warpPerspective(\n",
    "    tgt_img,\n",
    "    warp_matrix,\n",
    "    (tgt_img.shape[1], tgt_img.shape[0]),\n",
    "    flags=cv.INTER_LINEAR + cv.WARP_INVERSE_MAP,\n",
    ")"
   ]
  },
  {
   "cell_type": "code",
   "execution_count": null,
   "metadata": {},
   "outputs": [],
   "source": [
    "_, axes = plt.subplots(1, 3, figsize=(15, 10))\n",
    "axes[0].imshow(ref_img, cmap=\"jet\")\n",
    "axes[0].set_xlabel(\"Reference\")\n",
    "axes[1].imshow(tgt_img, cmap=\"jet\")\n",
    "axes[1].set_xlabel(f\"Target, ssim:{np.round(ssim(ref_img, tgt_img), 3)}\")\n",
    "axes[2].imshow(tgt_aligned, cmap=\"jet\")\n",
    "axes[2].set_xlabel(f\"Registered, ssim:{np.round(ssim(ref_img, tgt_aligned), 3)}\")"
   ]
  },
  {
   "cell_type": "markdown",
   "metadata": {},
   "source": [
    "#### Coregister S1 SLC (TRC) and S2 L1C "
   ]
  },
  {
   "cell_type": "code",
   "execution_count": null,
   "metadata": {},
   "outputs": [],
   "source": [
    "ref_scene = \"../data/outputs/AROSICS/L1C_SLC_AU_pair/ref.tif\"\n",
    "tgt_scene = \"../data/outputs/AROSICS/L1C_SLC_AU_pair/tgt.tif\"\n",
    "\n",
    "downsample_dataset(ref_scene, 0.1, \"../data/outputs/OpenCV/L1C_SLC_AU/ref_ds.tif\")\n",
    "_ = downsample_dataset(tgt_scene, 0.1, \"../data/outputs/OpenCV/L1C_SLC_AU/tgt_ds.tif\")"
   ]
  },
  {
   "cell_type": "code",
   "execution_count": 76,
   "metadata": {},
   "outputs": [],
   "source": [
    "ref_scene = \"../data/outputs/OpenCV/L1C_SLC_AU/ref_ds.tif\"\n",
    "tgt_scene = \"../data/outputs/OpenCV/L1C_SLC_AU/tgt_ds.tif\""
   ]
  },
  {
   "cell_type": "code",
   "execution_count": null,
   "metadata": {},
   "outputs": [],
   "source": [
    "coords, warps = find_overlap(ref_scene, tgt_scene, True, True)"
   ]
  },
  {
   "cell_type": "code",
   "execution_count": 78,
   "metadata": {},
   "outputs": [],
   "source": [
    "ref_img = cv.cvtColor(\n",
    "    flip_img(rasterio.open(ref_scene).read().copy()), cv.COLOR_BGR2GRAY\n",
    ")\n",
    "tgt_img = cv.cvtColor(\n",
    "    flip_img(rasterio.open(tgt_scene).read().copy()), cv.COLOR_BGR2GRAY\n",
    ")\n",
    "\n",
    "ref_warp = cv.cvtColor(warps[2], cv.COLOR_BGR2GRAY)\n",
    "tgt_warp = cv.cvtColor(warps[3], cv.COLOR_BGR2GRAY)"
   ]
  },
  {
   "cell_type": "markdown",
   "metadata": {},
   "source": [
    "##### ECC"
   ]
  },
  {
   "cell_type": "code",
   "execution_count": 6,
   "metadata": {},
   "outputs": [],
   "source": [
    "warp_mode = cv.MOTION_HOMOGRAPHY\n",
    "warp_matrix = np.eye(3, 3, dtype=np.float32)\n",
    "number_of_iterations = 5000\n",
    "termination_eps = 1e-5\n",
    "\n",
    "criteria = (\n",
    "    cv.TERM_CRITERIA_EPS | cv.TERM_CRITERIA_COUNT,\n",
    "    number_of_iterations,\n",
    "    termination_eps,\n",
    ")\n",
    "(cc, warp_matrix) = cv.findTransformECC(\n",
    "    ref_warp, tgt_warp, warp_matrix, warp_mode, criteria\n",
    ")\n",
    "\n",
    "tgt_aligned_homography_ds = cv.warpPerspective(\n",
    "    tgt_warp,\n",
    "    warp_matrix,\n",
    "    (tgt_warp.shape[1], tgt_warp.shape[0]),\n",
    "    flags=cv.INTER_LINEAR + cv.WARP_INVERSE_MAP,\n",
    ")"
   ]
  },
  {
   "cell_type": "code",
   "execution_count": 7,
   "metadata": {},
   "outputs": [],
   "source": [
    "warp_mode = cv.MOTION_AFFINE\n",
    "warp_matrix = np.eye(2, 3, dtype=np.float32)\n",
    "number_of_iterations = 5000\n",
    "termination_eps = 1e-5\n",
    "\n",
    "criteria = (\n",
    "    cv.TERM_CRITERIA_EPS | cv.TERM_CRITERIA_COUNT,\n",
    "    number_of_iterations,\n",
    "    termination_eps,\n",
    ")\n",
    "(cc, warp_matrix) = cv.findTransformECC(\n",
    "    ref_warp, tgt_warp, warp_matrix, warp_mode, criteria\n",
    ")\n",
    "\n",
    "tgt_aligned_affine_ds = cv.warpAffine(\n",
    "    tgt_warp,\n",
    "    warp_matrix,\n",
    "    (tgt_warp.shape[1], tgt_warp.shape[0]),\n",
    "    flags=cv.INTER_LINEAR + cv.WARP_INVERSE_MAP,\n",
    ")"
   ]
  },
  {
   "cell_type": "code",
   "execution_count": null,
   "metadata": {},
   "outputs": [],
   "source": [
    "_, axes = plt.subplots(1, 3, figsize=(15, 10))\n",
    "axes[0].imshow(simple_mosaic([ref_warp, tgt_warp]), cmap=\"gray\")\n",
    "axes[0].set_xlabel(f\"Original, ssim:{np.round(ssim(ref_warp, tgt_warp), 3)}\")\n",
    "axes[1].imshow(simple_mosaic([ref_warp, tgt_aligned_homography_ds]), cmap=\"gray\")\n",
    "axes[1].set_xlabel(\n",
    "    f\"Registered (hompgraphy), ssim:{np.round(ssim(ref_warp, tgt_aligned_homography_ds), 3)}\"\n",
    ")\n",
    "axes[2].imshow(simple_mosaic([ref_warp, tgt_aligned_affine_ds]), cmap=\"gray\")\n",
    "axes[2].set_xlabel(\n",
    "    f\"Registered (affine), ssim:{np.round(ssim(ref_warp, tgt_aligned_affine_ds), 3)}\"\n",
    ")"
   ]
  },
  {
   "cell_type": "markdown",
   "metadata": {},
   "source": [
    "##### Phase correlation"
   ]
  },
  {
   "cell_type": "code",
   "execution_count": 114,
   "metadata": {},
   "outputs": [],
   "source": [
    "# window = cv.createHanningWindow((ref_warp.shape[1], ref_warp.shape[0]), cv.CV_32F)\n",
    "window = None\n",
    "((shift_x, shift_y), phase_corr_score) = cv.phaseCorrelate(\n",
    "    np.float32(tgt_warp), np.float32(ref_warp), window\n",
    ")\n",
    "tgt_shifted = warp_affine_dataset(\n",
    "    tgt_warp, translation_x=shift_x, translation_y=shift_y\n",
    ")"
   ]
  },
  {
   "cell_type": "code",
   "execution_count": null,
   "metadata": {},
   "outputs": [],
   "source": [
    "_, axes = plt.subplots(1, 2, figsize=(15, 10))\n",
    "axes[0].imshow(simple_mosaic([ref_warp, tgt_warp]), cmap=\"gray\")\n",
    "axes[0].set_xlabel(f\"Original, ssim:{np.round(ssim(ref_warp, tgt_warp), 3)}\")\n",
    "axes[1].imshow(simple_mosaic([ref_warp, tgt_shifted]), cmap=\"gray\")\n",
    "axes[1].set_xlabel(f\"Registered, ssim:{np.round(ssim(ref_warp, tgt_shifted), 3)}\")"
   ]
  },
  {
   "cell_type": "markdown",
   "metadata": {},
   "source": [
    "##### Optical Flow"
   ]
  },
  {
   "cell_type": "code",
   "execution_count": 117,
   "metadata": {},
   "outputs": [],
   "source": [
    "# params for ShiTomasi corner detection\n",
    "feature_params = dict(\n",
    "    maxCorners=100,\n",
    "    qualityLevel=0.3,\n",
    "    minDistance=7,\n",
    "    blockSize=7,\n",
    ")\n",
    "\n",
    "# Parameters for lucas kanade optical flow\n",
    "number_of_iterations = 10\n",
    "termination_eps = 1e-5\n",
    "lk_params = dict(\n",
    "    winSize=(15, 15),\n",
    "    maxLevel=2,\n",
    "    criteria=(\n",
    "        cv.TERM_CRITERIA_EPS | cv.TERM_CRITERIA_COUNT,\n",
    "        number_of_iterations,\n",
    "        termination_eps,\n",
    "    ),\n",
    ")"
   ]
  },
  {
   "cell_type": "code",
   "execution_count": 118,
   "metadata": {},
   "outputs": [],
   "source": [
    "p0 = cv.goodFeaturesToTrack(ref_warp, mask=None, **feature_params)\n",
    "p1, st, err = cv.calcOpticalFlowPyrLK(ref_warp, tgt_warp, p0, None, **lk_params)\n",
    "ref_good = p0[st == 1].astype(np.float32)\n",
    "tgt_good = p1[st == 1].astype(np.float32)\n",
    "warp_matrix = cv.findHomography(ref_good, tgt_good)[0]\n",
    "tgt_aligned_ds = cv.warpPerspective(\n",
    "    tgt_warp,\n",
    "    warp_matrix,\n",
    "    (tgt_warp.shape[1], tgt_warp.shape[0]),\n",
    "    flags=cv.INTER_LINEAR + cv.WARP_INVERSE_MAP,\n",
    ")"
   ]
  },
  {
   "cell_type": "code",
   "execution_count": null,
   "metadata": {},
   "outputs": [],
   "source": [
    "_, axes = plt.subplots(1, 2, figsize=(15, 10))\n",
    "axes[0].imshow(simple_mosaic([ref_warp, tgt_warp]), cmap=\"gray\")\n",
    "axes[0].set_xlabel(f\"Original, ssim:{np.round(ssim(ref_warp, tgt_warp), 3)}\")\n",
    "axes[1].imshow(simple_mosaic([ref_warp, tgt_aligned_ds]), cmap=\"gray\")\n",
    "axes[1].set_xlabel(f\"Registered, ssim:{np.round(ssim(ref_warp, tgt_aligned_ds), 3)}\")"
   ]
  },
  {
   "cell_type": "code",
   "execution_count": null,
   "metadata": {},
   "outputs": [],
   "source": []
  }
 ],
 "metadata": {
  "kernelspec": {
   "display_name": "Python 3",
   "language": "python",
   "name": "python3"
  },
  "language_info": {
   "codemirror_mode": {
    "name": "ipython",
    "version": 3
   },
   "file_extension": ".py",
   "mimetype": "text/x-python",
   "name": "python",
   "nbconvert_exporter": "python",
   "pygments_lexer": "ipython3",
   "version": "3.12.8"
  }
 },
 "nbformat": 4,
 "nbformat_minor": 2
}
