{
 "cells": [
  {
   "cell_type": "code",
   "execution_count": 18,
   "metadata": {},
   "outputs": [],
   "source": [
    "import os\n",
    "import rasterio\n",
    "import cv2 as cv\n",
    "import sys\n",
    "import pandas as pd\n",
    "import rasterio\n",
    "from rasterio.plot import show\n",
    "import matplotlib.pyplot as plt\n",
    "import shutil\n",
    "\n",
    "sys.path.insert(1, \"../\")\n",
    "from utils import *\n",
    "import shlex\n",
    "from subprocess import run"
   ]
  },
  {
   "cell_type": "code",
   "execution_count": null,
   "metadata": {},
   "outputs": [],
   "source": [
    "%%bash\n",
    "\n",
    "module use /g/data/v10/public/modules/modulefiles\n",
    "module use /g/data/v10/private/modules/modulefiles\n",
    "module load ard-pipeline/20240607-1302-s2\n",
    "\n",
    "export LD_LIBRARY_PATH=/g/data/v10/projects/geo_assess/tool/lib_v0.25:/g/data/v10/projects/PinkMatter/ExtraLibs/Jasper:$LD_LIBRARY_PATH\n",
    "export GDAL_DATA=/g/data/v10/projects/geo_assess/tool/lib_v0.25/gdal_data\n",
    "export GEOTIFF_CSV=/g/data/v10/projects/geo_assess/tool/lib_v0.25/epsg_csv"
   ]
  },
  {
   "cell_type": "code",
   "execution_count": 192,
   "metadata": {},
   "outputs": [],
   "source": [
    "Tile = \"T42DWK\"\n",
    "gv_temp_dir = (\n",
    "    f\"/g/data/yp75/projects/ar-coreg/notebooks/data/outputs/GVerify/{Tile}/temp\"\n",
    ")\n",
    "gv_outp_dir = (\n",
    "    f\"/g/data/yp75/projects/ar-coreg/notebooks/data/outputs/GVerify/{Tile}/out\"\n",
    ")\n",
    "gv_logs_dir = (\n",
    "    f\"/g/data/yp75/projects/ar-coreg/notebooks/data/outputs/GVerify/{Tile}/log\"\n",
    ")\n",
    "\n",
    "res_file = f\"../data/outputs/GVerify/{Tile}/out/image-gverify.res\"\n",
    "ref_scene = f\"/g/data/yp75/projects/ar-coreg/notebooks/data/outputs/GVerify/inputs/{Tile}/ref.tif\"\n",
    "tgt_scene = f\"/g/data/yp75/projects/ar-coreg/notebooks/data/outputs/GVerify/inputs/{Tile}/tgt.tif\"\n",
    "# ref_scene = \"/g/data/yp75/projects/ar-coreg/notebooks/data/outputs/AROSICS/RTC_Series/S1A__IW___A_20230312T083311_VV_gamma0-rtc.tif\"\n",
    "# tgt_scene = \"/g/data/yp75/projects/ar-coreg/notebooks/data/outputs/AROSICS/RTC_Series/S1A__IW___A_20230417T083309_HH_gamma0-rtc.tif\"\n",
    "\n",
    "shutil.rmtree(gv_temp_dir, ignore_errors=True)\n",
    "shutil.rmtree(gv_outp_dir, ignore_errors=True)\n",
    "shutil.rmtree(gv_logs_dir, ignore_errors=True)\n",
    "os.makedirs(gv_temp_dir, exist_ok=True)\n",
    "os.makedirs(gv_outp_dir, exist_ok=True)\n",
    "os.makedirs(gv_logs_dir, exist_ok=True)\n",
    "\n",
    "os.makedirs(f\"../data/outputs/GVerify/inputs/{Tile}\", exist_ok=True)\n",
    "\n",
    "chip_method = \"EVEN\"  # (SOBEL, EVEN, HARRIS, FIXED_LOCATION)\n",
    "pyramid_level = 1\n",
    "null_value = 0\n",
    "corr_coef = 0.75\n",
    "resampling = \"BI\"\n",
    "chip_size = 50\n",
    "grid_size = chip_size * 2\n",
    "use_phase_corr = \"false\"\n",
    "if chip_method == \"FIXED_LOCATION\":\n",
    "    t_file_cmd = \" -t_file /g/data/up71/projects/gverify_testing/1_can_optical_imagery_as_a_reference_image/ponts_clipped.txt\"\n",
    "else:\n",
    "    t_file_cmd = \"\""
   ]
  },
  {
   "cell_type": "code",
   "execution_count": 193,
   "metadata": {},
   "outputs": [],
   "source": [
    "img = rasterio.open(\n",
    "    \"../data/outputs/AROSICS/L1C_AN_Series_T42DWK_DS/T42DWK_20230210T041729_TCI.jp2\"\n",
    ")\n",
    "profile = img.profile\n",
    "profile[\"driver\"] = \"GTiff\"\n",
    "data = img.read()\n",
    "with rasterio.open(\n",
    "    f\"../data/outputs/GVerify/inputs/{Tile}/ref.tif\", \"w\", **profile\n",
    ") as ds:\n",
    "    for i in range(0, profile[\"count\"]):\n",
    "        ds.write(data[i], i + 1)"
   ]
  },
  {
   "cell_type": "code",
   "execution_count": 194,
   "metadata": {},
   "outputs": [],
   "source": [
    "img = rasterio.open(\n",
    "    \"../data/outputs/AROSICS/L1C_AN_Series_T42DWK_DS/T42DWK_20230312T041729_TCI.jp2\"\n",
    ")\n",
    "profile = img.profile\n",
    "profile[\"driver\"] = \"GTiff\"\n",
    "data = img.read()\n",
    "with rasterio.open(\n",
    "    f\"../data/outputs/GVerify/inputs/{Tile}/tgt.tif\", \"w\", **profile\n",
    ") as ds:\n",
    "    for i in range(0, profile[\"count\"]):\n",
    "        ds.write(data[i], i + 1)"
   ]
  },
  {
   "cell_type": "code",
   "execution_count": null,
   "metadata": {},
   "outputs": [],
   "source": [
    "gv_cmd = (\n",
    "    f\"/g/data/v10/projects/geo_assess/tool/image-gverify_v0.25c \"\n",
    "    + f\"-b {ref_scene} -m {tgt_scene} -w {gv_temp_dir} -o {gv_outp_dir} -l {gv_logs_dir} -nv 0 -p {pyramid_level} \"\n",
    "    + f\"-n 8 -c {corr_coef} -r {resampling} -cs {chip_size} -st true -su true -g {grid_size} \"\n",
    "    + f\"-t {chip_method}{t_file_cmd}\"\n",
    ")  # -usePhaseCorrelation {use_phase_corr}\"\n",
    "print(gv_cmd)"
   ]
  },
  {
   "cell_type": "code",
   "execution_count": null,
   "metadata": {},
   "outputs": [],
   "source": [
    "show(\n",
    "    rasterio.open(f\"../data/outputs/GVerify/{Tile}/out/image-gverify_result.tif\").read()\n",
    ")"
   ]
  },
  {
   "cell_type": "code",
   "execution_count": 197,
   "metadata": {},
   "outputs": [],
   "source": [
    "with open(res_file, \"r\") as f:\n",
    "    for i, line in enumerate(f):\n",
    "        if i == 3:\n",
    "            shift_x = float(line.strip().split(\" \")[3])\n",
    "        elif i == 4:\n",
    "            shift_y = float(line.strip().split(\" \")[3])\n",
    "        else:\n",
    "            continue"
   ]
  },
  {
   "cell_type": "code",
   "execution_count": null,
   "metadata": {},
   "outputs": [],
   "source": [
    "ref_img = cv.cvtColor(flip_img(rasterio.open(ref_scene).read()), cv.COLOR_BGR2GRAY)\n",
    "tgt_img = cv.cvtColor(flip_img(rasterio.open(tgt_scene).read()), cv.COLOR_BGR2GRAY)\n",
    "# ref_img = flip_img(rasterio.open(ref_scene).read())[:, :, 0].astype(\"uint8\")\n",
    "# tgt_img = flip_img(rasterio.open(tgt_scene).read())[:, :, 0].astype(\"uint8\")\n",
    "tgt_aligned = warp_affine_dataset(\n",
    "    tgt_img, translation_x=shift_x, translation_y=shift_y\n",
    ").astype(\"uint8\")\n",
    "tgt_aligned[tgt_aligned <= np.min(tgt_img)] = np.min(tgt_img)\n",
    "_, axes = plt.subplots(1, 3, figsize=(15, 10))\n",
    "axes[0].imshow(ref_img)\n",
    "axes[0].set_xlabel(\"Reference\")\n",
    "axes[1].imshow(tgt_img)\n",
    "axes[1].set_xlabel(\n",
    "    f\"Target, ssim:{np.round(ssim(ref_img, tgt_img, win_size=3), 3)}, mse:{np.round(mse(ref_img, tgt_img), 3)}\"\n",
    ")\n",
    "axes[2].imshow(tgt_aligned)\n",
    "axes[2].set_xlabel(\n",
    "    f\"Registered, ssim:{np.round(ssim(ref_img, tgt_aligned, win_size=3), 3)}, mse:{np.round(mse(ref_img, tgt_aligned), 3)}\"\n",
    ")\n",
    "plt.tight_layout()"
   ]
  },
  {
   "cell_type": "markdown",
   "metadata": {},
   "source": [
    "##### S1 SLC vs S2 L1C "
   ]
  },
  {
   "cell_type": "code",
   "execution_count": 251,
   "metadata": {},
   "outputs": [],
   "source": [
    "Tile = \"SLC_L1C\"\n",
    "gv_temp_dir = (\n",
    "    f\"/g/data/yp75/projects/ar-coreg/notebooks/data/outputs/GVerify/{Tile}/temp\"\n",
    ")\n",
    "gv_outp_dir = (\n",
    "    f\"/g/data/yp75/projects/ar-coreg/notebooks/data/outputs/GVerify/{Tile}/out\"\n",
    ")\n",
    "gv_logs_dir = (\n",
    "    f\"/g/data/yp75/projects/ar-coreg/notebooks/data/outputs/GVerify/{Tile}/log\"\n",
    ")\n",
    "\n",
    "res_file = f\"../data/outputs/GVerify/{Tile}/out/image-gverify.res\"\n",
    "ref_scene = f\"/g/data/yp75/projects/ar-coreg/notebooks/data/outputs/GVerify/inputs/{Tile}/ref.tif\"\n",
    "tgt_scene = (\n",
    "    \"/g/data/yp75/projects/ar-coreg/notebooks/data/outputs/OpenCV/L1C_SLC_AU/tgt_ds.tif\"\n",
    ")\n",
    "\n",
    "shutil.rmtree(gv_temp_dir, ignore_errors=True)\n",
    "shutil.rmtree(gv_outp_dir, ignore_errors=True)\n",
    "shutil.rmtree(gv_logs_dir, ignore_errors=True)\n",
    "os.makedirs(gv_temp_dir, exist_ok=True)\n",
    "os.makedirs(gv_outp_dir, exist_ok=True)\n",
    "os.makedirs(gv_logs_dir, exist_ok=True)\n",
    "\n",
    "os.makedirs(f\"../data/outputs/GVerify/inputs/{Tile}\", exist_ok=True)\n",
    "\n",
    "chip_method = \"EVEN\"  # (SOBEL, EVEN, HARRIS, FIXED_LOCATION)\n",
    "pyramid_level = 1\n",
    "null_value = 0\n",
    "corr_coef = 0.75\n",
    "resampling = \"BI\"\n",
    "chip_size = 15\n",
    "grid_size = chip_size * 2\n",
    "use_phase_corr = \"false\"\n",
    "if chip_method == \"FIXED_LOCATION\":\n",
    "    t_file_cmd = \" -t_file /g/data/up71/projects/gverify_testing/1_can_optical_imagery_as_a_reference_image/ponts_clipped.txt\"\n",
    "else:\n",
    "    t_file_cmd = \"\""
   ]
  },
  {
   "cell_type": "code",
   "execution_count": 219,
   "metadata": {},
   "outputs": [],
   "source": [
    "img = rasterio.open(\"../data/outputs/OpenCV/L1C_SLC_AU/ref_ds.tif\")\n",
    "profile = img.profile\n",
    "profile[\"driver\"] = \"GTiff\"\n",
    "data = img.read()\n",
    "with rasterio.open(\n",
    "    f\"../data/outputs/GVerify/inputs/{Tile}/ref.tif\", \"w\", **profile\n",
    ") as ds:\n",
    "    for i in range(0, profile[\"count\"]):\n",
    "        ds.write(data[i], i + 1)"
   ]
  },
  {
   "cell_type": "code",
   "execution_count": null,
   "metadata": {},
   "outputs": [],
   "source": [
    "gv_cmd = (\n",
    "    f\"/g/data/v10/projects/geo_assess/tool/image-gverify_v0.25c \"\n",
    "    + f\"-b {ref_scene} -m {tgt_scene} -w {gv_temp_dir} -o {gv_outp_dir} -l {gv_logs_dir} -nv 0 -p {pyramid_level} \"\n",
    "    + f\"-n 8 -c {corr_coef} -r {resampling} -cs {chip_size} -st true -su true -g {grid_size} \"\n",
    "    + f\"-t {chip_method}{t_file_cmd}\"\n",
    ")  # -usePhaseCorrelation {use_phase_corr}\"\n",
    "print(gv_cmd)"
   ]
  },
  {
   "cell_type": "code",
   "execution_count": null,
   "metadata": {},
   "outputs": [],
   "source": [
    "with open(res_file, \"r\") as f:\n",
    "    for i, line in enumerate(f):\n",
    "        if i == 3:\n",
    "            shift_x = float(line.strip().split(\" \")[3])\n",
    "        elif i == 4:\n",
    "            shift_y = float(line.strip().split(\" \")[3])\n",
    "        else:\n",
    "            continue\n",
    "\n",
    "print(shift_x, shift_y)"
   ]
  },
  {
   "cell_type": "code",
   "execution_count": null,
   "metadata": {},
   "outputs": [],
   "source": [
    "coords, warps = find_overlap(ref_scene, tgt_scene, True, True)\n",
    "ref_warp = cv.cvtColor(warps[2], cv.COLOR_BGR2GRAY)\n",
    "tgt_warp = cv.cvtColor(warps[3], cv.COLOR_BGR2GRAY)\n",
    "tgt_shifted = warp_affine_dataset(\n",
    "    tgt_warp, translation_x=shift_x, translation_y=shift_y\n",
    ")"
   ]
  },
  {
   "cell_type": "code",
   "execution_count": null,
   "metadata": {},
   "outputs": [],
   "source": [
    "_, axes = plt.subplots(1, 2, figsize=(15, 10))\n",
    "axes[0].imshow(simple_mosaic([ref_warp, tgt_warp]), cmap=\"gray\")\n",
    "axes[0].set_xlabel(\n",
    "    f\"Original, ssim:{np.round(ssim(ref_warp, tgt_warp), 3)}, mse:{np.round(mse(ref_warp, tgt_warp), 3)}\"\n",
    ")\n",
    "axes[1].imshow(simple_mosaic([ref_warp, tgt_shifted]), cmap=\"gray\")\n",
    "axes[1].set_xlabel(\n",
    "    f\"Registered, ssim:{np.round(ssim(ref_warp, tgt_shifted), 3)}, mse:{np.round(mse(ref_warp, tgt_shifted), 3)}\"\n",
    ")"
   ]
  },
  {
   "cell_type": "code",
   "execution_count": null,
   "metadata": {},
   "outputs": [],
   "source": [
    "# number_of_iterations = 10\n",
    "# termination_eps = 1e-5\n",
    "# of_params: dict = dict(\n",
    "#     # params for ShiTomasi corner detection\n",
    "#     feature_params=dict(\n",
    "#         maxCorners=1000,\n",
    "#         qualityLevel=0.3,\n",
    "#         minDistance=7,\n",
    "#         blockSize=7,\n",
    "#     ),\n",
    "#     # Parameters for lucas kanade optical flow\n",
    "#     lk_params=dict(\n",
    "#         winSize=(15, 15),\n",
    "#         maxLevel=1,\n",
    "#     ),\n",
    "# )\n",
    "\n",
    "# coords, warps = find_overlap(ref_scene, tgt_scene, True, True)\n",
    "# ref_warp = cv.cvtColor(warps[2], cv.COLOR_BGR2GRAY)\n",
    "# tgt_warp = cv.cvtColor(warps[3], cv.COLOR_BGR2GRAY)\n",
    "# # ref_warp = warps[2]\n",
    "# # tgt_warp = warps[3]\n",
    "# tgt_aligned_list, shifts = co_register(\n",
    "#     ref_warp,\n",
    "#     tgt_warp,\n",
    "#     filtering_mode=\"of\",\n",
    "#     output_path=\"../data/outputs/temp\",\n",
    "#     of_params=of_params,\n",
    "#     number_of_iterations=number_of_iterations,\n",
    "#     termination_eps=termination_eps,\n",
    "#     enhanced_shift_method=\"corr\",\n",
    "#     remove_outlilers=True,\n",
    "#     corr_thresh=0.1,\n",
    "# )"
   ]
  },
  {
   "cell_type": "code",
   "execution_count": null,
   "metadata": {},
   "outputs": [],
   "source": []
  }
 ],
 "metadata": {
  "kernelspec": {
   "display_name": "Python 3",
   "language": "python",
   "name": "python3"
  },
  "language_info": {
   "codemirror_mode": {
    "name": "ipython",
    "version": 3
   },
   "file_extension": ".py",
   "mimetype": "text/x-python",
   "name": "python",
   "nbconvert_exporter": "python",
   "pygments_lexer": "ipython3",
   "version": "3.12.8"
  }
 },
 "nbformat": 4,
 "nbformat_minor": 2
}
