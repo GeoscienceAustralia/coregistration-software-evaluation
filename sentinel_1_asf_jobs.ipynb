{
 "cells": [
  {
   "cell_type": "markdown",
   "metadata": {},
   "source": [
    "##### To submit jobs for terrain correction to Alaska Satellite Facility's HyP3 API"
   ]
  },
  {
   "cell_type": "code",
   "execution_count": 19,
   "metadata": {},
   "outputs": [],
   "source": [
    "import pandas as pd\n",
    "import os\n",
    "import hyp3_sdk as sdk\n",
    "from hyp3_sdk import HyP3\n",
    "import getpass"
   ]
  },
  {
   "cell_type": "code",
   "execution_count": null,
   "metadata": {},
   "outputs": [],
   "source": [
    "uid = getpass.getpass(\"Enter your EathData user id?\")\n",
    "pswd = getpass.getpass(\"Enter your EathData password?\")\n",
    "hyp3 = HyP3(username=uid, password=pswd)"
   ]
  },
  {
   "cell_type": "code",
   "execution_count": 4,
   "metadata": {},
   "outputs": [],
   "source": [
    "DATA_DIR = \"./files_list\"\n",
    "an_df = pd.read_csv(os.path.join(DATA_DIR, \"s1_an.csv\"), names=[\"ID\", \"Path\"])\n",
    "au_df = pd.read_csv(os.path.join(DATA_DIR, \"s1_au.csv\"), names=[\"ID\", \"Path\"])\n",
    "\n",
    "AN_ID = an_df.ID.unique()[2]\n",
    "AU_ID = au_df.ID.unique()[1]\n",
    "\n",
    "an_df = an_df[an_df.ID == AN_ID].reset_index(drop=True)\n",
    "au_df = au_df[au_df.ID == AU_ID].reset_index(drop=True)\n",
    "\n",
    "an_df = an_df[an_df.Path.apply(lambda x: (\"SLC\" in x) and (\"IW\" in x))].reset_index(\n",
    "    drop=True\n",
    ")\n",
    "au_df = au_df[au_df.Path.apply(lambda x: (\"SLC\" in x) and (\"IW\" in x))].reset_index(\n",
    "    drop=True\n",
    ")\n",
    "\n",
    "grouper = an_df.Path.apply(lambda r: os.path.split(r)[1].split(\"_\")[5][0:6])\n",
    "AN_SCENE_LIST = [\n",
    "    list(an_df.groupby(grouper))[i][1].Path.iloc[0]\n",
    "    for i in range(0, len(grouper.unique()))\n",
    "]\n",
    "\n",
    "grouper = au_df.Path.apply(lambda r: os.path.split(r)[1].split(\"_\")[5][0:6])\n",
    "AU_SCENE_LIST = [\n",
    "    list(au_df.groupby(grouper))[i][1].Path.iloc[0]\n",
    "    for i in range(0, len(grouper.unique()))\n",
    "]\n",
    "\n",
    "SCENE_LIST = AN_SCENE_LIST + AU_SCENE_LIST\n",
    "\n",
    "SCENE_LIST = [os.path.splitext(os.path.basename(s))[0] for s in SCENE_LIST]"
   ]
  },
  {
   "cell_type": "code",
   "execution_count": null,
   "metadata": {},
   "outputs": [],
   "source": [
    "# submit jobs\n",
    "PROJECT_NAME = \"AN-AU-coreg-test-20m-19-12-2024\"\n",
    "DOWNLOAD_FOLDER = \"./data/asf/\"\n",
    "rtc_jobs = sdk.Batch()\n",
    "for g in SCENE_LIST:\n",
    "    rtc_jobs += hyp3.submit_rtc_job(\n",
    "        g,\n",
    "        include_dem=True,  # include dem in final product\n",
    "        include_inc_map=True,  # include dem map in final product\n",
    "        include_rgb=True,  # include rgb img in final product\n",
    "        include_scattering_area=True,  # include scat area in final product\n",
    "        name=PROJECT_NAME,\n",
    "        resolution=20,\n",
    "        dem_name=\"copernicus\",\n",
    "        radiometry=\"gamma0\",\n",
    "    )\n",
    "print(rtc_jobs)"
   ]
  },
  {
   "cell_type": "code",
   "execution_count": null,
   "metadata": {},
   "outputs": [],
   "source": [
    "# watch jobs\n",
    "rtc_jobs = hyp3.find_jobs(name=PROJECT_NAME)\n",
    "rtc_jobs = hyp3.watch(rtc_jobs)"
   ]
  },
  {
   "cell_type": "code",
   "execution_count": null,
   "metadata": {},
   "outputs": [],
   "source": [
    "# check jobs completed\n",
    "print(PROJECT_NAME)\n",
    "rtc_jobs = hyp3.find_jobs(name=PROJECT_NAME)\n",
    "rtc_jobs = hyp3.refresh(rtc_jobs)\n",
    "running_jobs = rtc_jobs.filter_jobs(succeeded=False, running=True, failed=False)\n",
    "print(f\"Number of running jobs: {len(running_jobs)}\")\n",
    "succeeded_jobs = rtc_jobs.filter_jobs(succeeded=True, running=False, failed=False)\n",
    "print(f\"Number of succeeded jobs: {len(succeeded_jobs)}\")\n",
    "failed_jobs = rtc_jobs.filter_jobs(succeeded=False, running=False, failed=True)\n",
    "print(f\"Number of failed jobs: {len(failed_jobs)}\")"
   ]
  },
  {
   "cell_type": "code",
   "execution_count": null,
   "metadata": {},
   "outputs": [],
   "source": [
    "# download jobs\n",
    "download_jobs = succeeded_jobs\n",
    "for i, job in enumerate(download_jobs):\n",
    "    print(f\"scene {i+1} of {len(download_jobs)}\")\n",
    "    # download\n",
    "    file_list = job.download_files(DOWNLOAD_FOLDER)\n",
    "    process_time = job.processing_times"
   ]
  }
 ],
 "metadata": {
  "kernelspec": {
   "display_name": "Python 3",
   "language": "python",
   "name": "python3"
  },
  "language_info": {
   "codemirror_mode": {
    "name": "ipython",
    "version": 3
   },
   "file_extension": ".py",
   "mimetype": "text/x-python",
   "name": "python",
   "nbconvert_exporter": "python",
   "pygments_lexer": "ipython3",
   "version": "3.13.1"
  }
 },
 "nbformat": 4,
 "nbformat_minor": 2
}
