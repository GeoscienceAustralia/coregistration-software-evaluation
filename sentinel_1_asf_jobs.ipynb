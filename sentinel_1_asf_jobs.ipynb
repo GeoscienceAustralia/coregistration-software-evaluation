{
 "cells": [
  {
   "cell_type": "markdown",
   "metadata": {},
   "source": [
    "##### To submit jobs for terrain correction to Alaska Satellite Facility's HyP3 API"
   ]
  },
  {
   "cell_type": "code",
   "execution_count": 19,
   "metadata": {},
   "outputs": [],
   "source": [
    "import pandas as pd\n",
    "import os\n",
    "import hyp3_sdk as sdk\n",
    "from hyp3_sdk import HyP3\n",
    "import getpass"
   ]
  },
  {
   "cell_type": "code",
   "execution_count": null,
   "metadata": {},
   "outputs": [],
   "source": [
    "uid = getpass.getpass(\"Enter your EathData user id?\")\n",
    "pswd = getpass.getpass(\"Enter your EathData password?\")\n",
    "hyp3 = HyP3(username=uid, password=pswd)"
   ]
  },
  {
   "cell_type": "code",
   "execution_count": 4,
   "metadata": {},
   "outputs": [],
   "source": [
    "DATA_DIR = \"./data/files_list\"\n",
    "s1_an_df = pd.read_csv(os.path.join(DATA_DIR, \"s1_an.csv\"), names=[\"ID\",\"Path\"])"
   ]
  },
  {
   "cell_type": "code",
   "execution_count": 16,
   "metadata": {},
   "outputs": [],
   "source": [
    "PROJECT_NAME = 'Antarctica-coreg-test-20m-2024'\n",
    "SCENE_LIST = [os.path.splitext(os.path.basename(s))[0] for s in s1_an_df.Path[s1_an_df.ID == \"056432_06EA69\"] if \"SLC\" in s]\n",
    "DOWNLOAD_FOLDER = \"./data/asf/\""
   ]
  },
  {
   "cell_type": "code",
   "execution_count": null,
   "metadata": {},
   "outputs": [],
   "source": [
    "# submit jobs\n",
    "rtc_jobs = sdk.Batch()\n",
    "for g in SCENE_LIST:\n",
    "    rtc_jobs += hyp3.submit_rtc_job(g, \n",
    "                                    include_dem=True, #include dem in final product\n",
    "                                    include_inc_map=True,  #include dem map in final product\n",
    "                                    include_rgb=True,  #include rgb img in final product\n",
    "                                    include_scattering_area=True, #include scat area in final product\n",
    "                                    name=PROJECT_NAME,\n",
    "                                    resolution=20,\n",
    "                                    dem_name='copernicus',\n",
    "                                    radiometry='gamma0')\n",
    "print(rtc_jobs)"
   ]
  },
  {
   "cell_type": "code",
   "execution_count": null,
   "metadata": {},
   "outputs": [],
   "source": [
    "# watch jobs\n",
    "rtc_jobs = hyp3.find_jobs(name=PROJECT_NAME)\n",
    "rtc_jobs = hyp3.watch(rtc_jobs)"
   ]
  },
  {
   "cell_type": "code",
   "execution_count": null,
   "metadata": {},
   "outputs": [],
   "source": [
    "# check jobs completed\n",
    "print(PROJECT_NAME)\n",
    "rtc_jobs = hyp3.find_jobs(name=PROJECT_NAME)\n",
    "rtc_jobs = hyp3.refresh(rtc_jobs)\n",
    "running_jobs = rtc_jobs.filter_jobs(succeeded=False, running=True, failed=False)\n",
    "print(f'Number of running jobs: {len(running_jobs)}')\n",
    "succeeded_jobs = rtc_jobs.filter_jobs(succeeded=True, running=False, failed=False)\n",
    "print(f'Number of succeeded jobs: {len(succeeded_jobs)}')\n",
    "failed_jobs = rtc_jobs.filter_jobs(succeeded=False, running=False, failed=True)\n",
    "print(f'Number of failed jobs: {len(failed_jobs)}')"
   ]
  },
  {
   "cell_type": "code",
   "execution_count": null,
   "metadata": {},
   "outputs": [],
   "source": [
    "# download jobs\n",
    "download_jobs = succeeded_jobs\n",
    "for i,job in enumerate(download_jobs):\n",
    "    print(f'scene {i+1} of {len(download_jobs)}')\n",
    "    # download\n",
    "    file_list = job.download_files(DOWNLOAD_FOLDER)\n",
    "    process_time = job.processing_times"
   ]
  }
 ],
 "metadata": {
  "kernelspec": {
   "display_name": "Python 3",
   "language": "python",
   "name": "python3"
  },
  "language_info": {
   "codemirror_mode": {
    "name": "ipython",
    "version": 3
   },
   "file_extension": ".py",
   "mimetype": "text/x-python",
   "name": "python",
   "nbconvert_exporter": "python",
   "pygments_lexer": "ipython3",
   "version": "3.13.1"
  }
 },
 "nbformat": 4,
 "nbformat_minor": 2
}
