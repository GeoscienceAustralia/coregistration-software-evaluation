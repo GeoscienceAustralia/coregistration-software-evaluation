{
 "cells": [
  {
   "cell_type": "code",
   "execution_count": null,
   "id": "84c1a601",
   "metadata": {},
   "outputs": [],
   "source": [
    "from utils import *\n",
    "import getpass\n",
    "\n",
    "# from landsatxplore.earthexplorer import EarthExplorer\n",
    "import tarfile\n",
    "import boto3\n",
    "\n",
    "keep_original_band_scenes = False\n",
    "one_per_month = True\n",
    "dir_suffix = \"\"\n",
    "if (dir_suffix != \"\") and (not dir_suffix.endswith(\"/\")):\n",
    "    dir_suffix = dir_suffix + \"/\"\n",
    "\n",
    "aws_session = rasterio.session.AWSSession(boto3.Session(), requester_pays=True)\n",
    "# aws_session = rasterio.session.AWSSession(boto3.Session())"
   ]
  },
  {
   "cell_type": "code",
   "execution_count": null,
   "id": "8b3fff2d",
   "metadata": {},
   "outputs": [],
   "source": [
    "wa_bbox = resize_bbox(\n",
    "    read_kml_polygon(\"data/inputs_old/LANDSAT_8_127111/WA.kml\")[1], 0.1\n",
    ")\n",
    "aoi_polys = kml_to_poly(\"data/inputs_old/aois.kml\").geoms\n",
    "\n",
    "bbox_list = [\n",
    "    [67.45, -72.55, 67.55, -72.45],  # Amery bed rock\n",
    "    [69.2, -68.1, 69.4, -67.9],  # Amery top\n",
    "    [wa_bbox.left, wa_bbox.bottom, wa_bbox.right, wa_bbox.top],  # WA sand dunes\n",
    "    *[list(p.bounds) for p in aoi_polys],  # AOI polygons\n",
    "]"
   ]
  },
  {
   "cell_type": "code",
   "execution_count": null,
   "id": "26a4d94d",
   "metadata": {},
   "outputs": [],
   "source": [
    "platform = \"LANDSAT_7\"\n",
    "r_channel = \"red\"\n",
    "g_channel = \"green\"\n",
    "b_channel = \"blue\"\n",
    "query = get_search_query(\n",
    "    bbox_list[0],\n",
    "    start_date=\"\",\n",
    "    platform=platform,\n",
    ")  # Amery ice shelf bed rock\n",
    "\n",
    "server_url = \"https://landsatlook.usgs.gov/stac-server/search\"\n",
    "features = query_stac_server(query, server_url)"
   ]
  },
  {
   "cell_type": "code",
   "execution_count": null,
   "id": "4c472208",
   "metadata": {},
   "outputs": [],
   "source": [
    "scene_dict, scene_list = find_scenes_dict(\n",
    "    features,\n",
    "    one_per_month=True,\n",
    "    start_end_years=[2009, 2010],\n",
    "    acceptance_list=[\"red\", \"green\", \"blue\"],\n",
    ")\n",
    "path_rows = list(scene_dict.keys())\n",
    "print(path_rows)\n",
    "dates = [list(scene_dict[pr].keys()) for pr in path_rows]\n",
    "print(dates)"
   ]
  },
  {
   "cell_type": "code",
   "execution_count": null,
   "id": "fa47f4a2",
   "metadata": {},
   "outputs": [],
   "source": [
    "# sn = combine_scene_dicts([scene_dict['126111'], scene_dict['127111']])\n",
    "# sn_closest_pair = get_pair_dict(sn, \"closest\")\n",
    "# sn_farthest_pair = get_pair_dict(sn, \"farthest\")"
   ]
  },
  {
   "cell_type": "code",
   "execution_count": null,
   "id": "eceb15b3",
   "metadata": {},
   "outputs": [],
   "source": [
    "path_row = \"127111\"\n",
    "closest_pair = get_pair_dict(scene_dict[path_row], \"closest\")\n",
    "farthest_pair = get_pair_dict(scene_dict[path_row], \"farthest\")"
   ]
  },
  {
   "cell_type": "code",
   "execution_count": null,
   "id": "11642acd",
   "metadata": {},
   "outputs": [],
   "source": [
    "path_row_idx = path_rows.index(path_row)\n",
    "date = dates[path_row_idx][0]\n",
    "\n",
    "r_url = scene_dict[path_row][date][0][r_channel]\n",
    "g_url = scene_dict[path_row][date][0][g_channel]\n",
    "b_url = scene_dict[path_row][date][0][b_channel]\n",
    "\n",
    "r_aws = scene_dict[path_row][date][0][r_channel + \"_alternate\"]\n",
    "g_aws = scene_dict[path_row][date][0][g_channel + \"_alternate\"]\n",
    "b_aws = scene_dict[path_row][date][0][b_channel + \"_alternate\"]\n",
    "\n",
    "r_band_suffix = os.path.splitext(os.path.basename(r_url))[0].split(\"_\")[-1]\n",
    "g_band_suffix = os.path.splitext(os.path.basename(g_url))[0].split(\"_\")[-1]\n",
    "b_band_suffix = os.path.splitext(os.path.basename(b_url))[0].split(\"_\")[-1]"
   ]
  },
  {
   "cell_type": "code",
   "execution_count": null,
   "id": "2433b3ad",
   "metadata": {},
   "outputs": [],
   "source": [
    "for pr in path_rows:\n",
    "    counter = 1\n",
    "    true_color_dir = f\"data/inputs/{dir_suffix}{platform}_{pr}/true_color\"\n",
    "    os.makedirs(true_color_dir, exist_ok=True)\n",
    "\n",
    "    true_color_ds_dir = f\"data/inputs/{dir_suffix}{platform}_{pr}/true_color_ds\"\n",
    "    os.makedirs(true_color_ds_dir, exist_ok=True)\n",
    "\n",
    "    pr_dict = scene_dict[pr]\n",
    "    closest_pair = get_pair_dict(pr_dict, \"closest\")\n",
    "    farthest_pair = get_pair_dict(pr_dict, \"farthest\")\n",
    "\n",
    "    pr_date_list = closest_pair + [farthest_pair[1]]\n",
    "    for el in pr_date_list:\n",
    "        print(\n",
    "            f\"Now downloading and processing closest pairs for {el['scene_name']} and path_row: {pr}, scene {counter} from total of 3.\",\n",
    "            end=\"\\r\",\n",
    "        )\n",
    "        counter += 1\n",
    "        r_url = el[r_channel + \"_alternate\"]\n",
    "        g_url = el[g_channel + \"_alternate\"]\n",
    "        b_url = el[b_channel + \"_alternate\"]\n",
    "        output_dir = (\n",
    "            f\"data/inputs/{dir_suffix}{platform}_{pr}/Originals/{el['scene_name']}\"\n",
    "        )\n",
    "        os.makedirs(output_dir, exist_ok=True)\n",
    "        r_output = os.path.join(output_dir, os.path.basename(r_url))\n",
    "        g_output = os.path.join(output_dir, os.path.basename(g_url))\n",
    "        b_output = os.path.join(output_dir, os.path.basename(b_url))\n",
    "        r_img, r_meta = stream_scene_from_aws(r_url, aws_session)\n",
    "        g_img, g_meta = stream_scene_from_aws(g_url, aws_session)\n",
    "        b_img, b_meta = stream_scene_from_aws(b_url, aws_session)\n",
    "\n",
    "        imgs = [r_img, g_img, b_img]\n",
    "        outputs = [r_output, g_output, b_output]\n",
    "        metas = [r_meta, g_meta, b_meta]\n",
    "        for i, img in enumerate(imgs):\n",
    "            with rasterio.open(outputs[i], \"w\", **metas[i][\"profile\"]) as ds:\n",
    "                ds.write(img[0, :, :], 1)\n",
    "\n",
    "        files = glob.glob(f\"{output_dir}/**\")\n",
    "        r_band = list(filter(lambda f: f.endswith(f\"_{r_band_suffix}.TIF\"), files))[0]\n",
    "        g_band = list(filter(lambda f: f.endswith(f\"_{g_band_suffix}.TIF\"), files))[0]\n",
    "        b_band = list(filter(lambda f: f.endswith(f\"_{b_band_suffix}.TIF\"), files))[0]\n",
    "        true_bands = [r_band, g_band, b_band]\n",
    "        tc_file = f\"{os.path.join(true_color_dir, os.path.basename(output_dir))}_TC.TIF\"\n",
    "        make_true_color_scene(true_bands, tc_file)\n",
    "        downsample_dataset(\n",
    "            tc_file, 0.2, os.path.join(true_color_ds_dir, os.path.basename(tc_file))\n",
    "        )\n",
    "\n",
    "        if not keep_original_band_scenes:\n",
    "            shutil.rmtree(\n",
    "                f\"data/inputs/{dir_suffix}{platform}_{pr}/Originals\",\n",
    "                ignore_errors=True,\n",
    "            )"
   ]
  },
  {
   "cell_type": "code",
   "execution_count": null,
   "id": "b993fa16",
   "metadata": {},
   "outputs": [],
   "source": []
  }
 ],
 "metadata": {
  "kernelspec": {
   "display_name": "Python 3",
   "language": "python",
   "name": "python3"
  },
  "language_info": {
   "codemirror_mode": {
    "name": "ipython",
    "version": 3
   },
   "file_extension": ".py",
   "mimetype": "text/x-python",
   "name": "python",
   "nbconvert_exporter": "python",
   "pygments_lexer": "ipython3",
   "version": "3.12.2"
  }
 },
 "nbformat": 4,
 "nbformat_minor": 5
}
