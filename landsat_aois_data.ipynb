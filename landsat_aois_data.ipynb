{
 "cells": [
  {
   "cell_type": "code",
   "execution_count": null,
   "metadata": {},
   "outputs": [],
   "source": [
    "from utils import *\n",
    "import getpass\n",
    "from landsatxplore.earthexplorer import EarthExplorer\n",
    "import tarfile"
   ]
  },
  {
   "cell_type": "code",
   "execution_count": null,
   "metadata": {},
   "outputs": [],
   "source": [
    "bbox = read_kml_polygon(\"data/inputs/landsat/WA.kml\")[1]"
   ]
  },
  {
   "cell_type": "code",
   "execution_count": null,
   "metadata": {},
   "outputs": [],
   "source": [
    "user = getpass.getpass(\"Enter your username?\")\n",
    "password = getpass.getpass(\"Enter your password?\")\n",
    "ee = EarthExplorer(user, password)"
   ]
  },
  {
   "cell_type": "code",
   "execution_count": null,
   "metadata": {},
   "outputs": [],
   "source": [
    "# query = get_landsat_search_query([67.45, -72.55, 67.55, -72.45])\n",
    "query = get_landsat_search_query(bbox)\n",
    "features = fetch_landsat_stac_server(query)\n",
    "feat_dict = find_landsat_scenes_dict(features)"
   ]
  },
  {
   "cell_type": "code",
   "execution_count": null,
   "metadata": {},
   "outputs": [],
   "source": [
    "required_keys = [k for k in list(feat_dict.keys()) if \"12711\" in k]\n",
    "required_scenes = [feat_dict[k][\"scene_id\"] for k in required_keys]\n",
    "required_scenes"
   ]
  },
  {
   "cell_type": "code",
   "execution_count": null,
   "metadata": {},
   "outputs": [],
   "source": [
    "for scene in required_scenes:\n",
    "    output_dir = \"data/inputs/landsat\"\n",
    "    os.makedirs(\"data/inputs/landsat\", exist_ok=True)\n",
    "    print(f\"Downloading {scene}\")\n",
    "    ee.download(scene, output_dir)"
   ]
  },
  {
   "cell_type": "code",
   "execution_count": null,
   "metadata": {},
   "outputs": [],
   "source": [
    "tar_files = [f for f in glob.glob(\"data/inputs/landsat/**\") if f.endswith(\".tar\")]\n",
    "for tar_file in tar_files:\n",
    "    extraction_dir = os.path.join(\n",
    "        output_dir, os.path.splitext(os.path.basename(tar_file))[0]\n",
    "    )\n",
    "    os.makedirs(extraction_dir, exist_ok=True)\n",
    "    with tarfile.open(tar_file) as tf:\n",
    "        tf.extractall(extraction_dir)"
   ]
  },
  {
   "cell_type": "code",
   "execution_count": null,
   "metadata": {},
   "outputs": [],
   "source": [
    "red = \"data/inputs/landsat/LC08_L1GT_127111_20141103_20201016_02_T2/LC08_L1GT_127111_20141103_20201016_02_T2_B4.TIF\"\n",
    "green = \"data/inputs/landsat/LC08_L1GT_127111_20141103_20201016_02_T2/LC08_L1GT_127111_20141103_20201016_02_T2_B3.TIF\"\n",
    "blue = \"data/inputs/landsat/LC08_L1GT_127111_20141103_20201016_02_T2/LC08_L1GT_127111_20141103_20201016_02_T2_B2.TIF\"\n",
    "\n",
    "redf = flip_img(rasterio.open(red).read())[:, :, 0]\n",
    "redf = apply_gamma(redf, 1.0, True)\n",
    "\n",
    "greenf = flip_img(rasterio.open(green).read())[:, :, 0]\n",
    "greenf = apply_gamma(greenf, 1.0, True)\n",
    "\n",
    "bluef = flip_img(rasterio.open(blue).read())[:, :, 0]\n",
    "bluef = apply_gamma(bluef, 1.0, True)\n",
    "\n",
    "\n",
    "img = cv.merge([redf, bluef, greenf])\n",
    "img.shape"
   ]
  },
  {
   "cell_type": "code",
   "execution_count": null,
   "metadata": {},
   "outputs": [],
   "source": [
    "plt.imshow(img)"
   ]
  },
  {
   "cell_type": "code",
   "execution_count": null,
   "metadata": {},
   "outputs": [],
   "source": [
    "true_color_dir = \"data/inputs/landsat/true_color\"\n",
    "os.makedirs(true_color_dir, exist_ok=True)\n",
    "scenes_dirs = [\n",
    "    dir for dir in glob.glob(\"data/inputs/landsat/**\") if dir.endswith(\"_T2\")\n",
    "]\n",
    "for dir in scenes_dirs:\n",
    "    print(f\"Now processing {os.path.basename(dir)}.\")\n",
    "    files = glob.glob(f\"{dir}/**\")\n",
    "    r_band = list(filter(lambda f: f.endswith(\"_B4.TIF\"), files))[0]\n",
    "    g_band = list(filter(lambda f: f.endswith(\"_B3.TIF\"), files))[0]\n",
    "    b_band = list(filter(lambda f: f.endswith(\"_B2.TIF\"), files))[0]\n",
    "    true_bands = [r_band, g_band, b_band]\n",
    "    make_landsat_true_color_scene(\n",
    "        true_bands, f\"{os.path.join(true_color_dir, os.path.basename(dir))}_TC.TIF\"\n",
    "    )"
   ]
  },
  {
   "cell_type": "code",
   "execution_count": null,
   "metadata": {},
   "outputs": [],
   "source": [
    "true_color_ds_dir = \"data/inputs/landsat/true_color_ds\"\n",
    "os.makedirs(true_color_ds_dir, exist_ok=True)\n",
    "tc_files = glob.glob(\"data/inputs/landsat/true_color/**\")\n",
    "for tcf in tc_files:\n",
    "    downsample_dataset(tcf, 0.2, os.path.join(true_color_ds_dir, os.path.basename(tcf)))"
   ]
  },
  {
   "cell_type": "code",
   "execution_count": null,
   "metadata": {},
   "outputs": [],
   "source": [
    "show(\n",
    "    rasterio.open(\n",
    "        \"data/inputs/landsat/true_color_ds/LC08_L1GT_127111_20150106_20201016_02_T2_TC.TIF\"\n",
    "    ).read()\n",
    ")"
   ]
  },
  {
   "cell_type": "code",
   "execution_count": null,
   "metadata": {},
   "outputs": [],
   "source": []
  }
 ],
 "metadata": {
  "kernelspec": {
   "display_name": "Python 3",
   "language": "python",
   "name": "python3"
  },
  "language_info": {
   "codemirror_mode": {
    "name": "ipython",
    "version": 3
   },
   "file_extension": ".py",
   "mimetype": "text/x-python",
   "name": "python",
   "nbconvert_exporter": "python",
   "pygments_lexer": "ipython3",
   "version": "3.10.16"
  }
 },
 "nbformat": 4,
 "nbformat_minor": 2
}
