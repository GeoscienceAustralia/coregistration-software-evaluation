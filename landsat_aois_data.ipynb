{
 "cells": [
  {
   "cell_type": "code",
   "execution_count": 4,
   "metadata": {},
   "outputs": [],
   "source": [
    "from utils import *\n",
    "import getpass\n",
    "from landsatxplore.earthexplorer import EarthExplorer\n",
    "import tarfile"
   ]
  },
  {
   "cell_type": "code",
   "execution_count": null,
   "metadata": {},
   "outputs": [],
   "source": [
    "user = getpass.getpass(\"Enter your username?\")\n",
    "password = getpass.getpass(\"Enter your password?\")\n",
    "ee = EarthExplorer(user, password)"
   ]
  },
  {
   "cell_type": "code",
   "execution_count": null,
   "metadata": {},
   "outputs": [],
   "source": [
    "query = get_landsat_search_query(\n",
    "    [-75.9375, -75.49715731893085, -56.25, -72.39570570653261]\n",
    ")\n",
    "features = fetch_landsat_stac_server(query)\n",
    "feat_dict = find_landsat_scenes_dict(features)"
   ]
  },
  {
   "cell_type": "code",
   "execution_count": null,
   "metadata": {},
   "outputs": [],
   "source": [
    "key_ind = 1\n",
    "scene_id = feat_dict[list(feat_dict.keys())[key_ind]][\"scene_id\"]\n",
    "output_dir = \"data/landsat/inputs\"\n",
    "os.makedirs(\"data/landsat/inputs\", exist_ok=True)\n",
    "print(scene_id)\n",
    "ee.download(scene_id, output_dir)"
   ]
  },
  {
   "cell_type": "code",
   "execution_count": null,
   "metadata": {},
   "outputs": [],
   "source": [
    "red = \"data/inputs/landsat/LC08_L1GT_209114_20150120_20201016_02_T2/LC08_L1GT_209114_20150120_20201016_02_T2_B4.TIF\"\n",
    "green = \"data/inputs/landsat/LC08_L1GT_209114_20150120_20201016_02_T2/LC08_L1GT_209114_20150120_20201016_02_T2_B3.TIF\"\n",
    "blue = \"data/inputs/landsat/LC08_L1GT_209114_20150120_20201016_02_T2/LC08_L1GT_209114_20150120_20201016_02_T2_B2.TIF\"\n",
    "\n",
    "redf = flip_img(rasterio.open(red).read())[:, :, 0]\n",
    "redf = apply_gamma(redf, rescale=True)\n",
    "\n",
    "greenf = flip_img(rasterio.open(green).read())[:, :, 0]\n",
    "greenf = apply_gamma(greenf, rescale=True)\n",
    "\n",
    "bluef = flip_img(rasterio.open(blue).read())[:, :, 0]\n",
    "bluef = apply_gamma(bluef, rescale=True)\n",
    "\n",
    "\n",
    "img = cv.merge([greenf, bluef, redf])\n",
    "img.shape"
   ]
  },
  {
   "cell_type": "code",
   "execution_count": null,
   "metadata": {},
   "outputs": [],
   "source": [
    "plt.imshow(img)"
   ]
  }
 ],
 "metadata": {
  "kernelspec": {
   "display_name": "Python 3",
   "language": "python",
   "name": "python3"
  },
  "language_info": {
   "codemirror_mode": {
    "name": "ipython",
    "version": 3
   },
   "file_extension": ".py",
   "mimetype": "text/x-python",
   "name": "python",
   "nbconvert_exporter": "python",
   "pygments_lexer": "ipython3",
   "version": "3.10.16"
  }
 },
 "nbformat": 4,
 "nbformat_minor": 2
}
