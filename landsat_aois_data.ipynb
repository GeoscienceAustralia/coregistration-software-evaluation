{
 "cells": [
  {
   "cell_type": "code",
   "execution_count": 2,
   "metadata": {},
   "outputs": [],
   "source": [
    "from utils import *\n",
    "import getpass\n",
    "# from landsatxplore.earthexplorer import EarthExplorer\n",
    "import tarfile\n",
    "import boto3\n",
    "\n",
    "keep_original_band_scenes = False\n",
    "one_per_month = True\n",
    "dir_suffix = \"\"\n",
    "if (dir_suffix != \"\") and (not dir_suffix.endswith(\"/\")):\n",
    "    dir_suffix = dir_suffix + \"/\""
   ]
  },
  {
   "cell_type": "code",
   "execution_count": 8,
   "metadata": {},
   "outputs": [],
   "source": [
    "# aois = kml_to_poly(\"data/inputs/aois.kml\")\n",
    "# list(aois.geoms)"
   ]
  },
  {
   "cell_type": "code",
   "execution_count": null,
   "metadata": {},
   "outputs": [],
   "source": [
    "aws_session = rasterio.session.AWSSession(boto3.Session(), requester_pays=True)\n",
    "# aws_session = rasterio.session.AWSSession(boto3.Session())"
   ]
  },
  {
   "cell_type": "code",
   "execution_count": null,
   "metadata": {},
   "outputs": [],
   "source": [
    "bbox = read_kml_polygon(\"data/inputs/LANDSAT_8_127111/WA.kml\")[1]\n",
    "bbox = resize_bbox(bbox, 0.1)"
   ]
  },
  {
   "cell_type": "code",
   "execution_count": null,
   "metadata": {},
   "outputs": [],
   "source": [
    "user = getpass.getpass(\"Enter your username?\")\n",
    "password = getpass.getpass(\"Enter your password?\")"
   ]
  },
  {
   "cell_type": "code",
   "execution_count": null,
   "metadata": {},
   "outputs": [],
   "source": [
    "start_date = \"2014-01-01T00:00:00\"\n",
    "end_date: str = \"2016-01-01T00:00:00\"\n",
    "platform = \"LANDSAT_7\"\n",
    "# cloud_cover = 80\n",
    "# query = get_landsat_search_query(\n",
    "#     [67.45, -72.55, 67.55, -72.45],\n",
    "#     start_date=start_date,\n",
    "#     end_date=end_date,\n",
    "#     platform=platform,\n",
    "#     # cloud_cover=cloud_cover,\n",
    "# )  # Amery ice shelf bed rock\n",
    "\n",
    "# query = get_landsat_search_query(\n",
    "#     [69.2, -68.1, 69.4, -67.9],\n",
    "#     start_date=start_date,\n",
    "#     end_date=end_date,\n",
    "#     platform=platform,\n",
    "#     cloud_cover=50,\n",
    "# )  # Top of Amery ice shelf\n",
    "\n",
    "# query = get_landsat_search_query(\n",
    "#     bbox,\n",
    "#     start_date=start_date,\n",
    "#     end_date=end_date,\n",
    "#     platform=platform,\n",
    "# )  # WA sand dunes\n",
    "\n",
    "# Landsat 7 Amery iceshelf\n",
    "query = get_search_query(\n",
    "    [67.45, -72.55, 67.55, -72.45],\n",
    "    start_date=\"\",\n",
    "    platform=platform,\n",
    ")  # Amery ice shelf bed rock\n",
    "\n",
    "server_url = \"https://landsatlook.usgs.gov/stac-server/search\"\n",
    "features = query_stac_server(query, server_url)\n",
    "# scene_dict, scene_list = find_landsat_scenes_dict(features, one_per_month)\n",
    "scene_dict, scene_list = find_scenes_dict(\n",
    "    features, one_per_month, start_end_years=[1999, 2002]\n",
    ")"
   ]
  },
  {
   "cell_type": "code",
   "execution_count": null,
   "metadata": {},
   "outputs": [],
   "source": [
    "len(scene_list)"
   ]
  },
  {
   "cell_type": "code",
   "execution_count": null,
   "metadata": {},
   "outputs": [],
   "source": [
    "path_rows = list(scene_dict.keys())\n",
    "path_rows"
   ]
  },
  {
   "cell_type": "code",
   "execution_count": null,
   "metadata": {},
   "outputs": [],
   "source": [
    "dates = [list(scene_dict[pr].keys()) for pr in path_rows]\n",
    "dates"
   ]
  },
  {
   "cell_type": "code",
   "execution_count": null,
   "metadata": {},
   "outputs": [],
   "source": [
    "path_row = \"127111\"\n",
    "path_row_idx = path_rows.index(path_row)\n",
    "aws_reds = [scene_dict[path_row][k][0][\"red\"][1] for k in scene_dict[path_row]]\n",
    "bounds_dict = {}\n",
    "for r in aws_reds:\n",
    "    id = os.path.basename(r).split(\"_\")[2]\n",
    "    meta = stream_scene_from_aws(r, aws_session, metadata_only=True)[1]\n",
    "    bounds_dict[id] = {\"bounds\": meta[\"bounds\"], \"crs\": meta[\"crs\"].data}"
   ]
  },
  {
   "cell_type": "code",
   "execution_count": null,
   "metadata": {},
   "outputs": [],
   "source": [
    "for key in bounds_dict:\n",
    "    bounds = bounds_dict[key][\"bounds\"]\n",
    "    crs = bounds_dict[key][\"crs\"]\n",
    "    bottom_utm = UTM(bounds.left, bounds.bottom)\n",
    "    top_utm = UTM(bounds.right, bounds.top)\n",
    "    bottom_lla = UTMtoLLA(bottom_utm, crs)\n",
    "    top_lla = UTMtoLLA(top_utm, crs)\n",
    "    print(key, bottom_lla, top_lla)"
   ]
  },
  {
   "cell_type": "code",
   "execution_count": null,
   "metadata": {},
   "outputs": [],
   "source": [
    "date = dates[path_row_idx][0]\n",
    "\n",
    "r_url = scene_dict[path_row][date][0][\"red\"][0]\n",
    "g_url = scene_dict[path_row][date][0][\"green\"][0]\n",
    "b_url = scene_dict[path_row][date][0][\"blue\"][0]\n",
    "\n",
    "r_aws = scene_dict[path_row][date][0][\"red\"][1]\n",
    "g_aws = scene_dict[path_row][date][0][\"green\"][1]\n",
    "b_aws = scene_dict[path_row][date][0][\"blue\"][1]"
   ]
  },
  {
   "cell_type": "code",
   "execution_count": null,
   "metadata": {},
   "outputs": [],
   "source": [
    "r_img, _ = stream_scene_from_aws(r_aws, aws_session)\n",
    "g_img, _ = stream_scene_from_aws(g_aws, aws_session)\n",
    "b_img, _ = stream_scene_from_aws(b_aws, aws_session)"
   ]
  },
  {
   "cell_type": "code",
   "execution_count": null,
   "metadata": {},
   "outputs": [],
   "source": [
    "rgb = apply_gamma(cv.merge([r_img[0, :, :], g_img[0, :, :], b_img[0, :, :]]), 1.0, True)\n",
    "plt.imshow(rgb)"
   ]
  },
  {
   "cell_type": "code",
   "execution_count": null,
   "metadata": {},
   "outputs": [],
   "source": [
    "r_band_suffix = os.path.splitext(os.path.basename(r_url))[0].split(\"_\")[-1]\n",
    "g_band_suffix = os.path.splitext(os.path.basename(g_url))[0].split(\"_\")[-1]\n",
    "b_band_suffix = os.path.splitext(os.path.basename(b_url))[0].split(\"_\")[-1]"
   ]
  },
  {
   "cell_type": "code",
   "execution_count": null,
   "metadata": {},
   "outputs": [],
   "source": [
    "counter = 1\n",
    "for pr in path_rows:\n",
    "    true_color_dir = f\"data/inputs/{dir_suffix}{platform}_{pr}/true_color\"\n",
    "    os.makedirs(true_color_dir, exist_ok=True)\n",
    "\n",
    "    true_color_ds_dir = f\"data/inputs/{dir_suffix}{platform}_{pr}/true_color_ds\"\n",
    "    os.makedirs(true_color_ds_dir, exist_ok=True)\n",
    "\n",
    "    pr_dict = scene_dict[pr]\n",
    "    for date in pr_dict:\n",
    "        pr_date_list = pr_dict[date]\n",
    "        for el in pr_date_list:\n",
    "            print(\n",
    "                f\"Now downloading and processing {el['scene_name']} for date: {date} and path_row: {pr}, scene {counter} from total of {len(scene_list)}\",\n",
    "                end=\"\\r\",\n",
    "            )\n",
    "            counter += 1\n",
    "            r_url = el[\"red\"][1]\n",
    "            g_url = el[\"green\"][1]\n",
    "            b_url = el[\"blue\"][1]\n",
    "            output_dir = (\n",
    "                f\"data/inputs/{dir_suffix}{platform}_{pr}/Originals/{el['scene_name']}\"\n",
    "            )\n",
    "            os.makedirs(output_dir, exist_ok=True)\n",
    "            r_output = os.path.join(output_dir, os.path.basename(r_url))\n",
    "            g_output = os.path.join(output_dir, os.path.basename(g_url))\n",
    "            b_output = os.path.join(output_dir, os.path.basename(b_url))\n",
    "            r_img, r_meta = stream_scene_from_aws(r_url, aws_session)\n",
    "            g_img, g_meta = stream_scene_from_aws(g_url, aws_session)\n",
    "            b_img, b_meta = stream_scene_from_aws(b_url, aws_session)\n",
    "\n",
    "            imgs = [r_img, g_img, b_img]\n",
    "            outputs = [r_output, g_output, b_output]\n",
    "            metas = [r_meta, g_meta, b_meta]\n",
    "            for i, img in enumerate(imgs):\n",
    "                with rasterio.open(outputs[i], \"w\", **metas[i][\"profile\"]) as ds:\n",
    "                    ds.write(img[0, :, :], 1)\n",
    "\n",
    "            files = glob.glob(f\"{output_dir}/**\")\n",
    "            r_band = list(filter(lambda f: f.endswith(f\"_{r_band_suffix}.TIF\"), files))[\n",
    "                0\n",
    "            ]\n",
    "            g_band = list(filter(lambda f: f.endswith(f\"_{g_band_suffix}.TIF\"), files))[\n",
    "                0\n",
    "            ]\n",
    "            b_band = list(filter(lambda f: f.endswith(f\"_{b_band_suffix}.TIF\"), files))[\n",
    "                0\n",
    "            ]\n",
    "            true_bands = [r_band, g_band, b_band]\n",
    "            tc_file = (\n",
    "                f\"{os.path.join(true_color_dir, os.path.basename(output_dir))}_TC.TIF\"\n",
    "            )\n",
    "            make_landsat_true_color_scene(true_bands, tc_file)\n",
    "            downsample_dataset(\n",
    "                tc_file, 0.2, os.path.join(true_color_ds_dir, os.path.basename(tc_file))\n",
    "            )\n",
    "\n",
    "            if not keep_original_band_scenes:\n",
    "                shutil.rmtree(\n",
    "                    f\"data/inputs/{dir_suffix}{platform}_{pr}/Originals\",\n",
    "                    ignore_errors=True,\n",
    "                )"
   ]
  },
  {
   "cell_type": "code",
   "execution_count": null,
   "metadata": {},
   "outputs": [],
   "source": [
    "# ee = EarthExplorer(user, password)\n",
    "# for scene in required_scenes:\n",
    "#     output_dir = f\"data/inputs/{platform}_{path_num}\"\n",
    "#     os.makedirs(f\"data/inputs/{platform}_{path_num}\", exist_ok=True)\n",
    "#     print(f\"Downloading {scene}\")\n",
    "#     ee.download(scene, output_dir)\n",
    "# ee.logout()"
   ]
  },
  {
   "cell_type": "code",
   "execution_count": null,
   "metadata": {},
   "outputs": [],
   "source": [
    "# tar_files = [\n",
    "#     f for f in glob.glob(f\"data/inputs/{platform}_{path_num}/**\") if f.endswith(\".tar\")\n",
    "# ]\n",
    "# for tar_file in tar_files:\n",
    "#     extraction_dir = os.path.join(\n",
    "#         output_dir, os.path.splitext(os.path.basename(tar_file))[0]\n",
    "#     )\n",
    "#     os.makedirs(extraction_dir, exist_ok=True)\n",
    "#     with tarfile.open(tar_file) as tf:\n",
    "#         tf.extractall(extraction_dir)"
   ]
  },
  {
   "cell_type": "code",
   "execution_count": null,
   "metadata": {},
   "outputs": [],
   "source": []
  }
 ],
 "metadata": {
  "kernelspec": {
   "display_name": "Python 3",
   "language": "python",
   "name": "python3"
  },
  "language_info": {
   "codemirror_mode": {
    "name": "ipython",
    "version": 3
   },
   "file_extension": ".py",
   "mimetype": "text/x-python",
   "name": "python",
   "nbconvert_exporter": "python",
   "pygments_lexer": "ipython3",
   "version": "3.12.2"
  }
 },
 "nbformat": 4,
 "nbformat_minor": 2
}
