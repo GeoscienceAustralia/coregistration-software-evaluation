{
 "cells": [
  {
   "cell_type": "markdown",
   "metadata": {},
   "source": [
    "##### Outputs from this notebook is saved in `./data/files_list` folder"
   ]
  },
  {
   "cell_type": "code",
   "execution_count": 1,
   "metadata": {},
   "outputs": [],
   "source": [
    "import os\n",
    "from itertools import product as itrprod\n",
    "\n",
    "from utils import *"
   ]
  },
  {
   "cell_type": "code",
   "execution_count": 2,
   "metadata": {},
   "outputs": [],
   "source": [
    "SAVE_DIR = \"./data/files_list\"\n",
    "os.makedirs(SAVE_DIR, exist_ok=True)"
   ]
  },
  {
   "cell_type": "code",
   "execution_count": 3,
   "metadata": {},
   "outputs": [],
   "source": [
    "AU_POLYGONS = [\n",
    "    'POLYGON((154.073685 -26.398506,151.56311 -25.801189,151.075897 -27.40662,153.624039 -28.014174,154.073685 -26.398506))',\n",
    "    'POLYGON((146.474747 -16.033461,144.151413 -15.494384,143.742279 -17.110708,146.086823 -17.657339,146.474747 -16.033461))',\n",
    "    'POLYGON((150.214127 -28.315512,152.713028 -27.71974,152.206833 -26.059097,149.74646 -26.644444,150.214127 -28.315512))',\n",
    "    'POLYGON((116.691261 -27.688679,114.187599 -27.092514,113.688507 -28.695972,116.231606 -29.302624,116.691261 -27.688679))',\n",
    "]\n",
    "\n",
    "AN_POLYGONS = [\n",
    "    'POLYGON((173.982986 -78.4249729999985,172.122543 -76.221466,179.0336 -75.837616,-177.961258 -77.972656,173.982986 -78.4249729999985))',\n",
    "    'POLYGON((111.136292 -67.7959589999999,115.933327 -66.5219569999998,113.435944 -65.0743559999997,108.809639 -66.2770999999998,111.136292 -67.7959589999999))',\n",
    "    'POLYGON((172.382263 -78.6327819999986,171.732635 -76.398155,163.953552 -76.383263,163.121597 -78.6150589999986,172.382263 -78.6327819999986))',\n",
    "    'POLYGON((70.583374 -54.4052539999951,74.212395 -53.5243909999941,73.09771 -51.946536999992,69.587746 -52.7966349999932,70.583374 -54.4052539999951))',\n",
    "    'POLYGON((178.576126 -71.618423,173.430893 -70.1199569999999,176.938004 -68.7651059999999,-178.032867 -70.1673429999999,178.576126 -71.618423))',\n",
    "    'POLYGON((79.214729 -70.0986789999999,74.184479 -68.6963419999999,71.050514 -69.9258959999999,76.189308 -71.414604,79.214729 -70.0986789999999))',\n",
    "    'POLYGON((12.562656 -72.541679,17.732925 -70.976974,13.91748 -69.6723859999999,8.82353100000002 -71.134811,12.562656 -72.541679))',\n",
    "]"
   ]
  },
  {
   "cell_type": "code",
   "execution_count": 4,
   "metadata": {},
   "outputs": [],
   "source": [
    "S1_DATA_DIR = \"/g/data/fj7/Copernicus/Sentinel-1/C-SAR/\"\n",
    "S1_AOI_LIST_AU = [\n",
    "    \"25S150E-30S155E\", \n",
    "    \"15S145E-20S150E\", \n",
    "    \"25S150E-30S155E\",\n",
    "    \"25S110E-30S115E\",\n",
    "] # Australia\n",
    "S1_AOI_LIST_AN = [\n",
    "    \"75S150W-80S145W\",\n",
    "    \"65S110E-70S115E\",\n",
    "    \"75S165E-80S170E\",\n",
    "    \"70S155E-75S160E\",\n",
    "    \"65S070E-70S075E\",\n",
    "] # Antarctica\n",
    "\n",
    "S1_QUERY_YEARS_AU = [\"2023\", \"2024\"]\n",
    "S1_QUERY_YEARS_AN = [\"2023\", \"2024\"]\n",
    "S1_QUERY_PRODS = [\"GRD\", \"SLC\"]\n",
    "MONTH_RANGE = [\"{:02d}\".format(m) for m in range(1, 13)]\n",
    "S1_CASE_LIST_AU = list(itrprod(S1_QUERY_PRODS, S1_QUERY_YEARS_AU, MONTH_RANGE))\n",
    "S1_CASE_LIST_AN = list(itrprod(S1_QUERY_PRODS, S1_QUERY_YEARS_AN, MONTH_RANGE))\n",
    "\n",
    "S1_AU_FILENAME = \"s1_au.csv\"\n",
    "S1_AN_FILENAME = \"s1_an.csv\""
   ]
  },
  {
   "cell_type": "code",
   "execution_count": 5,
   "metadata": {},
   "outputs": [],
   "source": [
    "S2_DATA_DIR = \"/g/data/fj7/Copernicus/Sentinel-2/MSI/\"\n",
    "S2_AOI_LIST_AU = [\n",
    "    \"T56JNQ\", \n",
    "    \"T55KCB\", \n",
    "    \"T56JKQ\",\n",
    "    \"T50JKP\",\n",
    "]\n",
    "S2_AOI_LIST_AN = [\n",
    "    \"T09CWQ\",\n",
    "    \"T49DDH\",\n",
    "    \"T58CEU\",\n",
    "    \"T57DVB\",\n",
    "    \"T43DDC\",\n",
    "    \"T33DVA\",\n",
    "]\n",
    "S2_QUERY_YEARS_AU = [\"2023\", \"2024\"]\n",
    "S2_QUERY_YEARS_AN = [\"2023\", \"2024\"] #[str(x) for x in list(range(2020,2025))]\n",
    "S2_QUERY_PRODS = [\"L1C\", \"L2A\"]\n",
    "MONTH_RANGE = [\"{:02d}\".format(m) for m in range(1, 13)]\n",
    "S2_CASE_LIST_AU = list(itrprod(S2_QUERY_PRODS, S2_QUERY_YEARS_AU, MONTH_RANGE))\n",
    "S2_CASE_LIST_AN = list(itrprod(S2_QUERY_PRODS, S2_QUERY_YEARS_AN, MONTH_RANGE))\n",
    "\n",
    "S2_AU_FILENAME = \"s2_au.csv\"\n",
    "S2_AN_FILENAME = \"s2_an.csv\""
   ]
  },
  {
   "cell_type": "code",
   "execution_count": 39,
   "metadata": {},
   "outputs": [
    {
     "name": "stdout",
     "output_type": "stream",
     "text": [
      "25S150E-30S155E => 1940\n",
      "15S145E-20S150E => 465\n",
      "25S110E-30S115E => 80\n"
     ]
    }
   ],
   "source": [
    "s1_au_names = get_s1_filenames(AU_POLYGONS, S1_QUERY_YEARS_AU, \"data/outputs/temp_s1_au.txt\") # this needs internet connection if the output file does not already exist.\n",
    "s1_aoi_files_au_nci = await find_files_for_aios_async(S1_CASE_LIST_AU, S1_DATA_DIR, S1_AOI_LIST_AU)\n",
    "s1_aoi_files_au = find_files_for_s1_aois(s1_aoi_files_au_nci, s1_au_names)\n",
    "for key in s1_aoi_files_au.keys():\n",
    "    print(f\"{key} => {len(s1_aoi_files_au[key])}\")\n",
    "\n",
    "save_file_list(s1_aoi_files_au, os.path.join(SAVE_DIR, S1_AU_FILENAME))"
   ]
  },
  {
   "cell_type": "code",
   "execution_count": 45,
   "metadata": {},
   "outputs": [
    {
     "name": "stdout",
     "output_type": "stream",
     "text": [
      "Retrieving files for /g/data/fj7/Copernicus/Sentinel-1/C-SAR/SLC/2024/2024-12\n",
      "filtering files for 65S070E-70S075E\n",
      "75S150W-80S145W => 430\n",
      "65S110E-70S115E => 761\n",
      "75S165E-80S170E => 300\n",
      "70S155E-75S160E => 302\n",
      "65S070E-70S075E => 660\n"
     ]
    }
   ],
   "source": [
    "s1_an_names = get_s1_filenames(AN_POLYGONS, S1_QUERY_YEARS_AN, \"data/outputs/temp_s1_an.txt\") # this needs internet connection if the output file does not already exist.\n",
    "s1_aoi_files_an_nci = await find_files_for_aios_async(S1_CASE_LIST_AN, S1_DATA_DIR, S1_AOI_LIST_AN)\n",
    "s1_aoi_files_an = find_files_for_s1_aois(s1_aoi_files_an_nci, s1_an_names)\n",
    "for key in s1_aoi_files_an.keys():\n",
    "    print(f\"{key} => {len(s1_aoi_files_an[key])}\")\n",
    "\n",
    "save_file_list(s1_aoi_files_an, os.path.join(SAVE_DIR, S1_AN_FILENAME))"
   ]
  },
  {
   "cell_type": "code",
   "execution_count": 47,
   "metadata": {},
   "outputs": [
    {
     "name": "stdout",
     "output_type": "stream",
     "text": [
      "T56JNQ => 576\n",
      "T55KCB => 580\n",
      "T56JKQ => 583\n",
      "T50JKP => 592\n"
     ]
    }
   ],
   "source": [
    "s2_aoi_files_au = await find_files_for_aios_async(S2_CASE_LIST_AU, S2_DATA_DIR, S2_AOI_LIST_AU)\n",
    "for key in s2_aoi_files_au.keys():\n",
    "    print(f\"{key} => {len(s2_aoi_files_au[key])}\")\n",
    "\n",
    "save_file_list(s2_aoi_files_au, os.path.join(SAVE_DIR, S2_AU_FILENAME))"
   ]
  },
  {
   "cell_type": "code",
   "execution_count": 48,
   "metadata": {},
   "outputs": [
    {
     "name": "stdout",
     "output_type": "stream",
     "text": [
      "Retrieving files for /g/data/fj7/Copernicus/Sentinel-2/MSI/L2A/2024/2024-12\n",
      "filtering files for T33DVA\n",
      "T09CWQ => 0\n",
      "T49DDH => 198\n",
      "T58CEU => 502\n",
      "T57DVB => 170\n",
      "T43DDC => 257\n",
      "T33DVA => 0\n"
     ]
    }
   ],
   "source": [
    "s2_aoi_files_an = await find_files_for_aios_async(S2_CASE_LIST_AN, S2_DATA_DIR, S2_AOI_LIST_AN)\n",
    "for key in s2_aoi_files_an.keys():\n",
    "    print(f\"{key} => {len(s2_aoi_files_an[key])}\")\n",
    "\n",
    "save_file_list(s2_aoi_files_an, os.path.join(SAVE_DIR, S2_AN_FILENAME))"
   ]
  },
  {
   "cell_type": "code",
   "execution_count": null,
   "metadata": {},
   "outputs": [],
   "source": []
  }
 ],
 "metadata": {
  "kernelspec": {
   "display_name": "Python 3",
   "language": "python",
   "name": "python3"
  },
  "language_info": {
   "codemirror_mode": {
    "name": "ipython",
    "version": 3
   },
   "file_extension": ".py",
   "mimetype": "text/x-python",
   "name": "python",
   "nbconvert_exporter": "python",
   "pygments_lexer": "ipython3",
   "version": "3.13.1"
  }
 },
 "nbformat": 4,
 "nbformat_minor": 2
}
