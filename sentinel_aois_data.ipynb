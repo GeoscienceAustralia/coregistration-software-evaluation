{
 "cells": [
  {
   "cell_type": "markdown",
   "metadata": {},
   "source": [
    "##### Outputs from this notebook is saved in `./data/files_list` folder"
   ]
  },
  {
   "cell_type": "code",
   "execution_count": 26,
   "metadata": {},
   "outputs": [],
   "source": [
    "import glob\n",
    "import os\n",
    "from itertools import product as itrprod\n",
    "import asyncio"
   ]
  },
  {
   "cell_type": "code",
   "execution_count": 27,
   "metadata": {},
   "outputs": [],
   "source": [
    "SAVE_DIR = \"./data/files_list\"\n",
    "os.makedirs(SAVE_DIR, exist_ok=True)"
   ]
  },
  {
   "cell_type": "code",
   "execution_count": 28,
   "metadata": {},
   "outputs": [],
   "source": [
    "S1_DATA_DIR = \"/g/data/fj7/Copernicus/Sentinel-1/C-SAR/\"\n",
    "S1_AOI_LIST_AU = [\n",
    "    \"056919_06FDB0\", \n",
    "    \"056934_06FE4F\", \n",
    "    \"056992_07009D\", \n",
    "    \"056972_06FFD7\",\n",
    "] # Australia\n",
    "S1_AOI_LIST_AN = [\n",
    "    \"057000_0700EF\",\n",
    "    \"056973_06FFE1\",\n",
    "    \"056492_06ECCE\",\n",
    "    \"056432_06EA69\",\n",
    "    \"057004_070121\",\n",
    "    \"056890_06FC96\",\n",
    "] # Antarctica\n",
    "S1_QUERY_YEARS_AU = [\"2023\", \"2024\"]\n",
    "S1_QUERY_YEARS_AN = [\"2020\", \"2021\", \"2022\", \"2023\", \"2024\"]\n",
    "S1_QUERY_PRODS = [\"GRD\", \"SLC\"]\n",
    "MONTH_RANGE = [\"{:02d}\".format(m) for m in range(1, 13)]\n",
    "S1_CASE_LIST_AU = list(itrprod(S1_QUERY_PRODS, S1_QUERY_YEARS_AU, MONTH_RANGE))\n",
    "S1_CASE_LIST_AN = list(itrprod(S1_QUERY_PRODS, S1_QUERY_YEARS_AN, MONTH_RANGE))\n",
    "\n",
    "S1_AU_FILENAME = \"s1_au.csv\"\n",
    "S1_AN_FILENAME = \"s1_an.csv\""
   ]
  },
  {
   "cell_type": "code",
   "execution_count": 29,
   "metadata": {},
   "outputs": [],
   "source": [
    "S2_DATA_DIR = \"/g/data/fj7/Copernicus/Sentinel-2/MSI/\"\n",
    "S2_AOI_LIST_AU = [\n",
    "    \"N0511_R030_T56JNQ\", \n",
    "    \"N0511_R059_T55KCB\", \n",
    "    \"N0511_R073_T56JKQ\",\n",
    "    \"N0511_R103_T50JKP\",\n",
    "]\n",
    "S2_AOI_LIST_AN = [\n",
    "    \"N0511_R125_T09CWQ\",\n",
    "    \"N0511_R031_T49DDH\",\n",
    "    \"N0511_R124_T58CEU\",\n",
    "    \"N0511_R129_T57DVB\",\n",
    "    \"N0511_R118_T43DDC\",\n",
    "    \"N0511_R101_T33DVA\",\n",
    "]\n",
    "S2_QUERY_YEARS_AU = [\"2023\", \"2024\"]\n",
    "S2_QUERY_YEARS_AN = [\"2020\", \"2021\", \"2022\", \"2023\", \"2024\"]\n",
    "S2_QUERY_PRODS = [\"L1C\", \"L2A\"]\n",
    "MONTH_RANGE = [\"{:02d}\".format(m) for m in range(1, 13)]\n",
    "S2_CASE_LIST_AU = list(itrprod(S2_QUERY_PRODS, S2_QUERY_YEARS_AU, MONTH_RANGE))\n",
    "S2_CASE_LIST_AN = list(itrprod(S2_QUERY_PRODS, S2_QUERY_YEARS_AN, MONTH_RANGE))\n",
    "\n",
    "S2_AU_FILENAME = \"s2_au.csv\"\n",
    "S2_AN_FILENAME = \"s2_an.csv\""
   ]
  },
  {
   "cell_type": "code",
   "execution_count": 30,
   "metadata": {},
   "outputs": [],
   "source": [
    "def save_file_list(file_list:dict, save_path:str) -> None:\n",
    "    \"\"\"\n",
    "    Saves the retrieved data.\n",
    "    \"\"\"\n",
    "    with open(save_path, \"w\") as f:\n",
    "        for (k, v) in file_list.items():\n",
    "            for filename in v:\n",
    "                f.write(f\"{k},{filename}\\n\")\n",
    "    return None\n",
    "\n",
    "async def find_all_files_for_case(query_case:tuple, sat_data_dir:str) -> bool:\n",
    "    \"\"\"\n",
    "    Finds all files for a selected case of product/year/month\n",
    "    \"\"\"\n",
    "    case_path = os.path.join(sat_data_dir, query_case[0], query_case[1], f\"{query_case[1]}-{query_case[2]}\")\n",
    "    print(f\"Retrieving files for {case_path}\", end=\"\\r\")\n",
    "    return glob.glob(case_path + \"/*/*.zip\")\n",
    "\n",
    "async def find_aoi_files(aoi:str, all_files:list[str]) -> list[str]:\n",
    "    \"\"\"\n",
    "    Filters all files and finds files for the area of interest.\n",
    "    \"\"\"\n",
    "    print(f\"filtering files for {aoi}\", end=\"\\r\")\n",
    "    return list(filter(lambda p: aoi in p, all_files))\n",
    "\n",
    "def flatten(l:list[list]) -> list:\n",
    "    \"\"\"\n",
    "    Flattens the list\n",
    "    \"\"\"\n",
    "    return[x for xs in l for x in xs]\n",
    "\n",
    "# Not sure if async runs well in notebook\n",
    "async def find_files_for_aios_async(query_cases:list[tuple], sat_data_dir:str, aoi_list:list[str]) -> dict:\n",
    "    \"\"\"\n",
    "    Asyncronously finds the files for an AOI list given as list of identifiers based on a combination of produt/year/month from NCI Copernicus databse.\n",
    "    \"\"\"\n",
    "    all_files_async = [find_all_files_for_case(c, sat_data_dir) for c in query_cases]\n",
    "    all_files = await asyncio.gather(*all_files_async)\n",
    "    all_files = flatten(all_files)\n",
    "\n",
    "    aoi_files_async = [find_aoi_files(aoi, all_files) for aoi in aoi_list]\n",
    "    aoi_files = await asyncio.gather(*aoi_files_async)\n",
    "    print(\"\")\n",
    "    return dict(map(lambda k, v: (k, v), aoi_list, aoi_files))\n",
    "\n",
    "# syncronous function for all cases and AOIs at the same time. Could take long\n",
    "def find_files_for_aios(query_cases:list[tuple], sat_data_dir:str, aoi_list:list[str]) -> dict:\n",
    "    \"\"\"\n",
    "    Finds the files for an AOI list given as list of identifiers based on a combination of produt/year/month from NCI Copernicus databse.\n",
    "    \"\"\"\n",
    "    all_files = []\n",
    "    aoi_files = []\n",
    "    for c in query_cases:\n",
    "        case_path = os.path.join(sat_data_dir, c[0], c[1], f\"{c[1]}-{c[2]}\")\n",
    "        print(\"\\r\", f\"Retrieving files for {case_path}\", end=\"\")\n",
    "        all_files.extend(glob.glob(case_path + \"/*/*.zip\"))\n",
    "\n",
    "    print(\"\")\n",
    "    aoi_files = {}\n",
    "    for aoi in aoi_list:\n",
    "        print(\"\\r\", f\"filtering files for {aoi}\", end=\"\")\n",
    "        aoi_files[aoi] = list(filter(lambda p: aoi in p, all_files))\n",
    "    \n",
    "    print(\"\")\n",
    "    return aoi_files"
   ]
  },
  {
   "cell_type": "code",
   "execution_count": 31,
   "metadata": {},
   "outputs": [
    {
     "name": "stdout",
     "output_type": "stream",
     "text": [
      "filtering files for 056972_06FFD7Copernicus/Sentinel-1/C-SAR/SLC/2024/2024-12\n",
      "32\n",
      "22\n",
      "32\n",
      "10\n"
     ]
    }
   ],
   "source": [
    "# s1_aoi_files = find_files_for_aios(S1_CASE_LIST, S1_DATA_DIR, S1_AOI_LIST)\n",
    "s1_aoi_files_au = await find_files_for_aios_async(S1_CASE_LIST_AU, S1_DATA_DIR, S1_AOI_LIST_AU)\n",
    "for key in s1_aoi_files_au.keys():\n",
    "    print(len(s1_aoi_files_au[key]))\n",
    "\n",
    "save_file_list(s1_aoi_files_au, os.path.join(SAVE_DIR, S1_AU_FILENAME))"
   ]
  },
  {
   "cell_type": "code",
   "execution_count": 37,
   "metadata": {},
   "outputs": [
    {
     "name": "stdout",
     "output_type": "stream",
     "text": [
      "filtering files for 056890_06FC96Copernicus/Sentinel-1/C-SAR/SLC/2024/2024-12\n",
      "2\n",
      "3\n",
      "6\n",
      "12\n",
      "3\n",
      "0\n"
     ]
    }
   ],
   "source": [
    "s1_aoi_files_an = await find_files_for_aios_async(S1_CASE_LIST_AN, S1_DATA_DIR, S1_AOI_LIST_AN)\n",
    "for key in s1_aoi_files_an.keys():\n",
    "    print(len(s1_aoi_files_an[key]))\n",
    "\n",
    "save_file_list(s1_aoi_files_an, os.path.join(SAVE_DIR, S1_AN_FILENAME))"
   ]
  },
  {
   "cell_type": "code",
   "execution_count": 38,
   "metadata": {},
   "outputs": [
    {
     "name": "stdout",
     "output_type": "stream",
     "text": [
      "filtering files for N0511_R103_T50JKPrnicus/Sentinel-2/MSI/L2A/2024/2024-12\n",
      "58\n",
      "62\n",
      "60\n",
      "58\n"
     ]
    }
   ],
   "source": [
    "# s2_aoi_files = find_files_for_aios(S2_CASE_LIST, S2_DATA_DIR, S2_AOI_LIST)\n",
    "s2_aoi_files_au = await find_files_for_aios_async(S2_CASE_LIST_AU, S2_DATA_DIR, S2_AOI_LIST_AU)\n",
    "for key in s2_aoi_files_au.keys():\n",
    "    print(len(s2_aoi_files_au[key]))\n",
    "\n",
    "save_file_list(s2_aoi_files_au, os.path.join(SAVE_DIR, S2_AU_FILENAME))"
   ]
  },
  {
   "cell_type": "code",
   "execution_count": 39,
   "metadata": {},
   "outputs": [
    {
     "name": "stdout",
     "output_type": "stream",
     "text": [
      "filtering files for N0511_R101_T33DVArnicus/Sentinel-2/MSI/L2A/2024/2024-12\n",
      "0\n",
      "24\n",
      "4\n",
      "22\n",
      "24\n",
      "0\n"
     ]
    }
   ],
   "source": [
    "s2_aoi_files_an = await find_files_for_aios_async(S2_CASE_LIST_AN, S2_DATA_DIR, S2_AOI_LIST_AN)\n",
    "for key in s2_aoi_files_an.keys():\n",
    "    print(len(s2_aoi_files_an[key]))\n",
    "\n",
    "save_file_list(s2_aoi_files_an, os.path.join(SAVE_DIR, S2_AN_FILENAME))"
   ]
  },
  {
   "cell_type": "code",
   "execution_count": null,
   "metadata": {},
   "outputs": [],
   "source": []
  }
 ],
 "metadata": {
  "kernelspec": {
   "display_name": "Python 3",
   "language": "python",
   "name": "python3"
  },
  "language_info": {
   "codemirror_mode": {
    "name": "ipython",
    "version": 3
   },
   "file_extension": ".py",
   "mimetype": "text/x-python",
   "name": "python",
   "nbconvert_exporter": "python",
   "pygments_lexer": "ipython3",
   "version": "3.13.1"
  }
 },
 "nbformat": 4,
 "nbformat_minor": 2
}
