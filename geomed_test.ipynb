{
 "cells": [
  {
   "cell_type": "code",
   "execution_count": null,
   "id": "042e4ab7",
   "metadata": {},
   "outputs": [],
   "source": [
    "from geom_median.numpy import compute_geometric_median as gm\n",
    "import numpy as np\n",
    "from utils import *\n",
    "import dask\n",
    "import dask.distributed\n",
    "import xarray as xr\n",
    "import rioxarray as rxr\n",
    "from hdstats import nangeomedian_pcm\n",
    "import geopandas as gpd\n",
    "from odc.algo import (\n",
    "    enum_to_bool,\n",
    "    geomedian_with_mads,\n",
    "    erase_bad,\n",
    "    mask_cleanup,\n",
    "    keep_good_only,\n",
    ")\n",
    "from odc.geo import BoundingBox\n",
    "from odc.geo.xr import assign_crs\n",
    "from odc.io.cgroups import get_cpu_quota\n",
    "from odc.stac import configure_rio, stac_load\n",
    "import pystac\n",
    "import logging\n",
    "\n",
    "requester_pays = False\n",
    "if requester_pays:\n",
    "    aws_session = rasterio.session.AWSSession(\n",
    "        boto3.Session(), aws_unsigned=True, requester_pays=True\n",
    "    )\n",
    "else:\n",
    "    aws_session = rasterio.session.AWSSession(boto3.Session(), aws_unsigned=True)\n",
    "client = dask.distributed.Client(\n",
    "    n_workers=4, threads_per_worker=1, silence_logs=logging.ERROR\n",
    ")\n",
    "configure_rio(cloud_defaults=True, aws={\"aws_unsigned\": True}, client=client)\n",
    "display(client)"
   ]
  },
  {
   "cell_type": "code",
   "execution_count": null,
   "id": "1fb44a06",
   "metadata": {},
   "outputs": [],
   "source": [
    "wa_bbox = resize_bbox(BoundingBox(*kml_to_poly(\"data/inputs_old/WA.kml\").bounds), 0.1)\n",
    "bbox_list = [\n",
    "    wa_bbox,\n",
    "    [67.45, -72.55, 67.55, -72.45],\n",
    "]  # WA and a small area in the Arctic"
   ]
  },
  {
   "cell_type": "code",
   "execution_count": null,
   "id": "8a24f9cd",
   "metadata": {},
   "outputs": [],
   "source": [
    "AOI = \"WA\"\n",
    "MISSION = \"SENTINEL-2\"\n",
    "aoi_idx = 0\n",
    "bbox = bbox_list[aoi_idx]\n",
    "masking_band = [\"scl\"]\n",
    "measurements = [\"red\", \"green\", \"blue\"]\n",
    "mask_filters = [(\"opening\", 10), (\"dilation\", 1)]\n",
    "# crs = \"EPSG:3031\"\n",
    "resolution = 100\n",
    "tile_id = \"\"\n",
    "condition = tile_id if tile_id != \"\" else \"\"\n",
    "output_suffix = \"odc_loader\""
   ]
  },
  {
   "cell_type": "code",
   "execution_count": null,
   "id": "9dbcccdf",
   "metadata": {},
   "outputs": [],
   "source": [
    "bands = measurements + masking_band\n",
    "output_dir = f\"data/inputs/{MISSION}_{AOI}\"\n",
    "items_file = f\"{output_dir}/items{'_' + tile_id if tile_id else ''}.json\"\n",
    "items_exist = os.path.exists(items_file)"
   ]
  },
  {
   "cell_type": "code",
   "execution_count": null,
   "id": "6566af8f",
   "metadata": {},
   "outputs": [],
   "source": [
    "if not items_exist:\n",
    "    query = get_search_query(\n",
    "        bbox,\n",
    "        collections=[\"SENTINEL-2\"],\n",
    "        start_date=\"2016-01-01T00:00:00\",\n",
    "        end_date=\"2021-01-01T00:00:00\",\n",
    "        is_landsat=False,\n",
    "    )\n",
    "    query[\"collections\"] = [\"sentinel-2-l2a\"]\n",
    "    del query[\"page\"]\n",
    "    server_url = \"https://earth-search.aws.element84.com/v1\"\n",
    "    display(query)\n",
    "    items = query_stac_server(query, server_url, pystac=True, return_pystac_items=True)\n",
    "    print(f\"Found {len(items)} items.\")"
   ]
  },
  {
   "cell_type": "code",
   "execution_count": null,
   "id": "9842a61d",
   "metadata": {},
   "outputs": [],
   "source": [
    "if not items_exist:\n",
    "    s2_scenes = pd.read_csv(f\"data/inputs/{MISSION}_{AOI}_scenes.csv\")\n",
    "    scene_list = s2_scenes.to_dict(\"records\")\n",
    "    print(len(scene_list), \"scenes found in the CSV file.\")\n",
    "    scene_names = [\n",
    "        scene[\"scene_name\"] for scene in scene_list if condition in scene[\"scene_name\"]\n",
    "    ]\n",
    "\n",
    "    gdf = gpd.GeoDataFrame.from_features(items, \"epsg:4326\")\n",
    "    item_names = list(gdf[\"earthsearch:s3_path\"].apply(lambda x: x.split(\"/\")[-1]))\n",
    "    idx = [item_names.index(i) for i in scene_names]\n",
    "    gdf = gdf.iloc[idx].reset_index(drop=True)\n",
    "    print(len(gdf), \"items found in the GeoDataFrame.\")\n",
    "\n",
    "    # gdf.explore()\n",
    "    # print(len(scene_list), \"scenes found in the CSV file.\")\n",
    "    idx = [i for i in range(len(items.items)) if items.items[i].id in scene_names]\n",
    "    new_items = [items.items[i] for i in idx]\n",
    "    items.items = new_items\n",
    "    items.save_object(f\"{output_dir}/items{'_' + tile_id if tile_id else ''}.json\")\n",
    "else:\n",
    "    items = pystac.ItemCollection.from_file(items_file)\n",
    "    print(f\"Loaded {len(items.items)} items from {items_file}.\")\n",
    "items"
   ]
  },
  {
   "cell_type": "code",
   "execution_count": null,
   "id": "5cac11ac",
   "metadata": {},
   "outputs": [],
   "source": [
    "ds = stac_load(\n",
    "    items,\n",
    "    bands=measurements + masking_band,\n",
    "    # crs=crs,\n",
    "    chunks={},\n",
    "    # groupby=\"solar_day\",\n",
    "    resolution=resolution,\n",
    ")\n",
    "# ds[measurements] =  ds[measurements] - 1000\n",
    "# ds[measurements] = (ds[measurements] / 256).clip(0, 255).astype(\"uint8\")\n",
    "ds"
   ]
  },
  {
   "cell_type": "code",
   "execution_count": null,
   "id": "57927c46",
   "metadata": {},
   "outputs": [],
   "source": [
    "# ds.scl.attrs = {\n",
    "#     \"units\": \"1\",\n",
    "#     \"nodata\": 0,\n",
    "#     \"flags_definition\": {\n",
    "#         \"qa\": {\n",
    "#             \"bits\": [0, 1, 2, 3, 4, 5, 6, 7],\n",
    "#             \"values\": {\n",
    "#                 \"0\": \"no data\",\n",
    "#                 \"1\": \"saturated or defective\",\n",
    "#                 \"2\": \"dark area pixels\",\n",
    "#                 \"3\": \"cloud shadows\",\n",
    "#                 \"4\": \"vegetation\",\n",
    "#                 \"5\": \"bare soils\",\n",
    "#                 \"6\": \"water\",\n",
    "#                 \"7\": \"unclassified\",\n",
    "#                 \"8\": \"cloud medium probability\",\n",
    "#                 \"9\": \"cloud high probability\",\n",
    "#                 \"10\": \"thin cirrus\",\n",
    "#                 \"11\": \"snow or ice\",\n",
    "#             },\n",
    "#             \"description\": \"Sen2Cor Scene Classification\",\n",
    "#         }\n",
    "#     },\n",
    "#     # \"crs\": crs,\n",
    "#     \"grid_mapping\": \"spatial_ref\",\n",
    "# }\n",
    "# pq_mask = enum_to_bool(\n",
    "#     mask=ds[\"scl\"],\n",
    "#     categories=(\n",
    "#         \"cloud high probability\",\n",
    "#         \"cloud medium probability\",\n",
    "#         \"thin cirrus\",\n",
    "#         \"cloud shadows\",\n",
    "#         # \"saturated or defective\",\n",
    "#     ),\n",
    "# )\n",
    "# # apply morphological filters (might improve cloud mask)\n",
    "# pq_mask = mask_cleanup(pq_mask, mask_filters=mask_filters)\n",
    "\n",
    "# # apply the cloud mask and drop scl layers\n",
    "# ds = erase_bad(ds, where=pq_mask)\n",
    "# ds = ds.drop_vars(\"scl\")\n",
    "\n",
    "# # remove nodata which is == 0\n",
    "# ds = ds.where(ds > 0)\n",
    "\n",
    "# # and remove any data that's above 10,000 (very dodgy)\n",
    "# ds = ds.where(ds <= 10000)\n",
    "# ds"
   ]
  },
  {
   "cell_type": "code",
   "execution_count": null,
   "id": "26cf7b77",
   "metadata": {},
   "outputs": [],
   "source": [
    "s2_gm = geomedian_with_mads(\n",
    "    ds,\n",
    "    reshape_strategy=\"yxbt\",  #'yxbt' if data is larger than RAM\n",
    "    compute_mads=False,  # True if you want triple MADs\n",
    ")\n",
    "# s2_gm = s2_gm.fillna(0)  # fill NaNs with 0s\n",
    "s2_gm"
   ]
  },
  {
   "cell_type": "code",
   "execution_count": null,
   "id": "95e7e8ba",
   "metadata": {},
   "outputs": [],
   "source": [
    "gmed_odc = s2_gm[measurements[:3]].to_array().to_numpy()\n",
    "gmed_odc = apply_gamma(\n",
    "    flip_img((gmed_odc / 256).clip(0, 255).astype(\"uint8\")), stretch_hist=True\n",
    ")"
   ]
  },
  {
   "cell_type": "code",
   "execution_count": null,
   "id": "61a2a5c9",
   "metadata": {},
   "outputs": [],
   "source": [
    "# ds = ds.fillna(0)\n",
    "ds_loaded = ds[measurements[:3]].compute()"
   ]
  },
  {
   "cell_type": "code",
   "execution_count": null,
   "id": "5d689485",
   "metadata": {},
   "outputs": [],
   "source": [
    "img_data = np.moveaxis(ds_loaded.to_array().to_numpy(), [0, 1], [-2, -1])\n",
    "img_data.shape"
   ]
  },
  {
   "cell_type": "code",
   "execution_count": null,
   "id": "231732e0",
   "metadata": {},
   "outputs": [],
   "source": [
    "gmed_pcm = nangeomedian_pcm(img_data.astype(\"float32\"), num_threads=4, eps=1e-4)\n",
    "# gmed_pcm = (gmed_pcm / 256).clip(0, 255).astype(\"uint8\")\n",
    "gmed_pcm = apply_gamma((gmed_pcm / 256).clip(0, 255).astype(\"uint8\"), stretch_hist=True)"
   ]
  },
  {
   "cell_type": "code",
   "execution_count": null,
   "id": "6c975591",
   "metadata": {},
   "outputs": [],
   "source": [
    "imgs = [img_data[:, :, :, i] for i in range(img_data.shape[-1])]\n",
    "print(len(imgs), \"images loaded for geometric median computation.\")"
   ]
  },
  {
   "cell_type": "code",
   "execution_count": null,
   "id": "cda621b5",
   "metadata": {},
   "outputs": [],
   "source": [
    "gmed_gm = gm(imgs)\n",
    "# gmrd_gm = (gmed_gm.median / 256).clip(0, 255).astype(\"uint8\")\n",
    "gmed_gm = apply_gamma(\n",
    "    (gmed_gm.median / 256).clip(0, 255).astype(\"uint8\"), stretch_hist=True\n",
    ")"
   ]
  },
  {
   "cell_type": "code",
   "execution_count": null,
   "id": "ddedd115",
   "metadata": {},
   "outputs": [],
   "source": [
    "ds.to_array()[:, 0, :, :].rio.to_raster(f\"{output_dir}/temp.tif\")\n",
    "profile = rasterio.open(f\"{output_dir}/temp.tif\").profile\n",
    "os.remove(f\"{output_dir}/temp.tif\")\n",
    "profile.update({\"dtype\": \"uint8\", \"nodata\": 0, \"count\": 3})\n",
    "profile"
   ]
  },
  {
   "cell_type": "code",
   "execution_count": null,
   "id": "d25444e9",
   "metadata": {},
   "outputs": [],
   "source": [
    "gmed_file_pcm = f\"data/inputs/{MISSION}_{AOI}/geometric_median{'_' + tile_id if tile_id else ''}_pcm_{output_suffix}.tif\"\n",
    "if os.path.exists(gmed_file_pcm):\n",
    "    os.remove(gmed_file_pcm)\n",
    "with rasterio.open(gmed_file_pcm, \"w\", **profile) as dst:\n",
    "    for i in range(profile[\"count\"]):\n",
    "        dst.write(gmed_pcm[:, :, i], i + 1)\n",
    "\n",
    "gmed_file_gm = f\"data/inputs/{MISSION}_{AOI}/geometric_median{'_' + tile_id if tile_id else ''}_gm_{output_suffix}.tif\"\n",
    "if os.path.exists(gmed_file_gm):\n",
    "    os.remove(gmed_file_gm)\n",
    "with rasterio.open(gmed_file_gm, \"w\", **profile) as dst:\n",
    "    for i in range(profile[\"count\"]):\n",
    "        dst.write(gmed_gm[:, :, i], i + 1)\n",
    "\n",
    "gmed_file_odc = f\"data/inputs/{MISSION}_{AOI}/geometric_median{'_' + tile_id if tile_id else ''}_odc_{output_suffix}.tif\"\n",
    "if os.path.exists(gmed_file_odc):\n",
    "    os.remove(gmed_file_odc)\n",
    "with rasterio.open(gmed_file_odc, \"w\", **profile) as dst:\n",
    "    for i in range(profile[\"count\"]):\n",
    "        dst.write(gmed_odc[:, :, i], i + 1)"
   ]
  },
  {
   "cell_type": "code",
   "execution_count": null,
   "id": "c1d1aefc",
   "metadata": {},
   "outputs": [],
   "source": [
    "fig, axes = plt.subplots(4, 2, figsize=(10, 20))\n",
    "axes[2, 0].imshow(\n",
    "    apply_gamma((imgs[0] / 256).clip(0, 255).astype(\"uint8\"), stretch_hist=True)\n",
    ")\n",
    "axes[2, 0].set_title(\"Image 0\")\n",
    "axes[2, 1].imshow(\n",
    "    apply_gamma((imgs[1] / 256).clip(0, 255).astype(\"uint8\"), stretch_hist=True)\n",
    ")\n",
    "axes[2, 1].set_title(\"Image 1\")\n",
    "axes[3, 0].imshow(\n",
    "    apply_gamma((imgs[2] / 256).clip(0, 255).astype(\"uint8\"), stretch_hist=True)\n",
    ")\n",
    "axes[3, 0].set_title(\"Image 2\")\n",
    "axes[3, 1].imshow(\n",
    "    apply_gamma((imgs[3] / 256).clip(0, 255).astype(\"uint8\"), stretch_hist=True)\n",
    ")\n",
    "axes[3, 1].set_title(\"Image 3\")\n",
    "axes[0, 0].imshow(flip_img(rasterio.open(gmed_file_pcm).read()))\n",
    "axes[0, 0].set_title(f\"Geometric Median of {len(imgs)} images (hdstats)\")\n",
    "axes[0, 1].imshow(flip_img(rasterio.open(gmed_file_gm).read()))\n",
    "axes[0, 1].set_title(f\"Geometric Median of {len(imgs)} images (geom_median)\")\n",
    "axes[1, 0].imshow(flip_img(rasterio.open(gmed_file_odc).read()))\n",
    "axes[1, 0].set_title(f\"Geometric Median of {len(imgs)} images (odc)\")\n",
    "for ax in axes.flat:\n",
    "    ax.axis(\"off\")\n",
    "plt.suptitle(\n",
    "    f\"Geometric Median of {len(imgs)} {MISSION} images from {AOI} AOI, {'ID: ' + tile_id if tile_id else ''}, ({output_suffix.replace('_', ' ')})\",\n",
    "    fontsize=14,\n",
    "    y=1.01,\n",
    ")\n",
    "plt.tight_layout()\n",
    "plt.savefig(\n",
    "    f\"{output_dir}/geometric_median_{MISSION}_{AOI}{'_' + tile_id if tile_id else ''}_{output_suffix}.png\",\n",
    "    dpi=300,\n",
    ")"
   ]
  },
  {
   "cell_type": "code",
   "execution_count": null,
   "id": "09339606",
   "metadata": {},
   "outputs": [],
   "source": []
  }
 ],
 "metadata": {
  "kernelspec": {
   "display_name": "Python 3",
   "language": "python",
   "name": "python3"
  },
  "language_info": {
   "codemirror_mode": {
    "name": "ipython",
    "version": 3
   },
   "file_extension": ".py",
   "mimetype": "text/x-python",
   "name": "python",
   "nbconvert_exporter": "python",
   "pygments_lexer": "ipython3",
   "version": "3.12.2"
  }
 },
 "nbformat": 4,
 "nbformat_minor": 5
}
