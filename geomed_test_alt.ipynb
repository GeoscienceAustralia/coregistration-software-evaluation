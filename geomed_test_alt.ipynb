{
 "cells": [
  {
   "cell_type": "code",
   "execution_count": null,
   "id": "042e4ab7",
   "metadata": {},
   "outputs": [],
   "source": [
    "from geom_median.numpy import compute_geometric_median as gm\n",
    "import numpy as np\n",
    "from utils import *\n",
    "import dask\n",
    "import dask.distributed\n",
    "import xarray as xr\n",
    "import rioxarray as rxr\n",
    "from hdstats import nangeomedian_pcm\n",
    "import geopandas as gpd\n",
    "from odc.algo import (\n",
    "    enum_to_bool,\n",
    "    geomedian_with_mads,\n",
    "    erase_bad,\n",
    "    mask_cleanup,\n",
    "    keep_good_only,\n",
    ")\n",
    "from odc.geo import BoundingBox\n",
    "from odc.geo.xr import assign_crs\n",
    "from odc.io.cgroups import get_cpu_quota\n",
    "from odc.stac import configure_rio, stac_load\n",
    "\n",
    "aws_session = rasterio.session.AWSSession(boto3.Session())\n",
    "client = dask.distributed.Client(n_workers=4, threads_per_worker=1)\n",
    "configure_rio(cloud_defaults=True, aws={\"aws_unsigned\": True}, client=client)\n",
    "display(client)"
   ]
  },
  {
   "cell_type": "code",
   "execution_count": null,
   "id": "1fb44a06",
   "metadata": {},
   "outputs": [],
   "source": [
    "wa_bbox = resize_bbox(BoundingBox(*kml_to_poly(\"data/inputs_old/WA.kml\").bounds), 0.1)\n",
    "bbox_list = [\n",
    "    wa_bbox,\n",
    "    [67.45, -72.55, 67.55, -72.45],\n",
    "]  # WA and a small area in the Arctic"
   ]
  },
  {
   "cell_type": "code",
   "execution_count": null,
   "id": "8a24f9cd",
   "metadata": {},
   "outputs": [],
   "source": [
    "AOI = \"AMERY_ROCK\"\n",
    "MISSION = \"SENTINEL-2\"\n",
    "masking_band = [\"scl\"]\n",
    "measurements = [\"red\", \"green\", \"blue\", \"visual\"]\n",
    "mask_filters = [(\"opening\", 10), (\"dilation\", 1)]\n",
    "# crs = \"EPSG:3031\"\n",
    "resolution = 100\n",
    "tile_id = \"41CPV\"\n",
    "condition = tile_id if tile_id != \"\" else \"\"\n",
    "output_suffix = \"manual_loader\""
   ]
  },
  {
   "cell_type": "code",
   "execution_count": null,
   "id": "9dbcccdf",
   "metadata": {},
   "outputs": [],
   "source": [
    "bands = measurements + masking_band\n",
    "output_dir = f\"data/inputs/{MISSION}_{AOI}\"\n",
    "process_dir = f\"{output_dir}/true_colour\"\n",
    "process_ds_dir = f\"{output_dir}/true_colour_ds\"\n",
    "ds_dir = f\"{output_dir}/downsampled\"\n",
    "items_file = f\"{output_dir}/items.json\"\n",
    "items_exist = os.path.exists(items_file)"
   ]
  },
  {
   "cell_type": "code",
   "execution_count": null,
   "id": "6566af8f",
   "metadata": {},
   "outputs": [],
   "source": [
    "if not items_exist:\n",
    "    query = get_search_query(\n",
    "        bbox_list[1],\n",
    "        collections=[\"SENTINEL-2\"],\n",
    "        start_date=\"2016-01-01T00:00:00\",\n",
    "        end_date=\"2021-01-01T00:00:00\",\n",
    "        is_landsat=False,\n",
    "    )\n",
    "    query[\"collections\"] = [\"sentinel-2-l2a\"]\n",
    "    del query[\"page\"]\n",
    "    server_url = \"https://earth-search.aws.element84.com/v1\"\n",
    "    display(query)\n",
    "    items = query_stac_server(query, server_url, pystac=True, return_pystac_items=True)\n",
    "    print(f\"Found {len(items)} items.\")"
   ]
  },
  {
   "cell_type": "code",
   "execution_count": null,
   "id": "9842a61d",
   "metadata": {},
   "outputs": [],
   "source": [
    "if not items_exist:\n",
    "    s2_scenes = pd.read_csv(f\"data/inputs/{MISSION}_{AOI}_scenes.csv\")\n",
    "    scene_list = s2_scenes.to_dict(\"records\")\n",
    "    bands_suffixes = get_band_suffixes(scene_list[0], bands)\n",
    "    print(len(scene_list), \"scenes found in the CSV file.\")\n",
    "    scene_names = [\n",
    "        scene[\"scene_name\"] for scene in scene_list if condition in scene[\"scene_name\"]\n",
    "    ]\n",
    "\n",
    "    gdf = gpd.GeoDataFrame.from_features(items, \"epsg:4326\")\n",
    "    item_names = list(gdf[\"earthsearch:s3_path\"].apply(lambda x: x.split(\"/\")[-1]))\n",
    "    idx = [item_names.index(i) for i in scene_names]\n",
    "    gdf = gdf.iloc[idx].reset_index(drop=True)\n",
    "    print(len(gdf), \"items found in the GeoDataFrame.\")\n",
    "\n",
    "    gdf.explore()\n",
    "    times = [\n",
    "        datetime.strptime(x[\"scene_name\"].split(\"_\")[2], \"%Y%m%d\") for x in scene_list\n",
    "    ]\n",
    "    # print(len(scene_list), \"scenes found in the CSV file.\")\n",
    "    idx = [i for i in range(len(items.items)) if items.items[i].id in scene_names]\n",
    "    new_items = [items.items[i] for i in idx]\n",
    "    items.items = new_items\n",
    "    items.save_object(f\"{output_dir}/items.json\")\n",
    "else:\n",
    "    items = pystac.ItemCollection.from_file(items_file)\n",
    "    scene_list = []\n",
    "    features = items.to_dict()[\"features\"]\n",
    "    for feature in features:\n",
    "        s = {}\n",
    "        for b in bands:\n",
    "            if b in feature[\"assets\"]:\n",
    "                s[b] = feature[\"assets\"][b][\"href\"]\n",
    "                s[b + \"_alternate\"] = s[b]\n",
    "        s[\"scene_name\"] = feature[\"id\"]\n",
    "        scene_list.append(s)\n",
    "    bands_suffixes = get_band_suffixes(scene_list[0], bands)\n",
    "    times = [\n",
    "        datetime.strptime(x[\"scene_name\"].split(\"_\")[2], \"%Y%m%d\") for x in scene_list\n",
    "    ]\n",
    "    print(f\"Loaded {len(items.items)} items from {items_file}.\")\n",
    "items"
   ]
  },
  {
   "cell_type": "code",
   "execution_count": null,
   "id": "42144b61",
   "metadata": {},
   "outputs": [],
   "source": [
    "images_dir = process_ds_dir"
   ]
  },
  {
   "cell_type": "code",
   "execution_count": null,
   "id": "1efa30b1",
   "metadata": {},
   "outputs": [],
   "source": [
    "_, meta = stream_scene_from_aws(\n",
    "    items[0].assets[\"red\"].href, aws_session, metadata_only=True\n",
    ")\n",
    "resolution_ratio = [\n",
    "    meta[\"profile\"][\"transform\"].a / resolution,\n",
    "    -meta[\"profile\"][\"transform\"].e / resolution,\n",
    "]\n",
    "print(f\"Resolution ratio: {resolution_ratio}\")"
   ]
  },
  {
   "cell_type": "code",
   "execution_count": null,
   "id": "0f4323fb",
   "metadata": {},
   "outputs": [],
   "source": [
    "download_and_process_series(\n",
    "    scene_list,\n",
    "    bands,\n",
    "    bands_suffixes,\n",
    "    output_dir,\n",
    "    process_dir,\n",
    "    process_ds_dir,\n",
    "    aws_session=aws_session,\n",
    "    keep_original_band_scenes=True,\n",
    "    scale_factor=resolution_ratio,\n",
    ");"
   ]
  },
  {
   "cell_type": "code",
   "execution_count": null,
   "id": "0a6501b5",
   "metadata": {},
   "outputs": [],
   "source": [
    "# originals = glob.glob(f\"{output_dir}/Originals/**/TCI.tif\", recursive=True)"
   ]
  },
  {
   "cell_type": "code",
   "execution_count": null,
   "id": "52490043",
   "metadata": {},
   "outputs": [],
   "source": [
    "# os.makedirs(ds_dir, exist_ok=True)\n",
    "# for original in originals:\n",
    "#     ds_path = os.path.join(ds_dir, f\"{original.split(\"/\")[4]}.tif\")\n",
    "#     if not os.path.exists(ds_path):\n",
    "#         ds = downsample_dataset(original, resolution_ratio, ds_path)\n",
    "#         print(f\"Downsampled {original} to {ds_path}\")"
   ]
  },
  {
   "cell_type": "code",
   "execution_count": null,
   "id": "67ba8551",
   "metadata": {},
   "outputs": [],
   "source": [
    "imgs = [\n",
    "    rasterio.open(f).read() for f in glob.glob(images_dir + \"/*.tif\") if condition in f\n",
    "]\n",
    "print(len(imgs), \"images found in the downsampled directory.\")\n",
    "img_data = np.concatenate(\n",
    "    [np.expand_dims(flip_img(img), axis=3) for img in imgs], axis=3\n",
    ").astype(\"float32\")"
   ]
  },
  {
   "cell_type": "code",
   "execution_count": null,
   "id": "231732e0",
   "metadata": {},
   "outputs": [],
   "source": [
    "gmed_pcm = nangeomedian_pcm(img_data, num_threads=4, eps=1e-4)"
   ]
  },
  {
   "cell_type": "code",
   "execution_count": null,
   "id": "cda621b5",
   "metadata": {},
   "outputs": [],
   "source": [
    "gmed_gm = gm(imgs, maxiter=1000)"
   ]
  },
  {
   "cell_type": "code",
   "execution_count": null,
   "id": "d25444e9",
   "metadata": {},
   "outputs": [],
   "source": [
    "profile = rasterio.open(glob.glob(images_dir + \"/*.tif\")[0]).profile\n",
    "\n",
    "gmed_file_pcm = f\"data/inputs/{MISSION}_{AOI}/geometric_median{'_' + tile_id if tile_id else ''}_pcm_{output_suffix}.tif\"\n",
    "if os.path.exists(gmed_file_pcm):\n",
    "    os.remove(gmed_file_pcm)\n",
    "with rasterio.open(gmed_file_pcm, \"w\", **profile) as dst:\n",
    "    for i in range(profile[\"count\"]):\n",
    "        dst.write(gmed_pcm[:, :, i].astype(\"uint8\"), i + 1)\n",
    "\n",
    "gmed_file_gm = f\"data/inputs/{MISSION}_{AOI}/geometric_median{'_' + tile_id if tile_id else ''}_gm_{output_suffix}.tif\"\n",
    "if os.path.exists(gmed_file_gm):\n",
    "    os.remove(gmed_file_gm)\n",
    "with rasterio.open(gmed_file_gm, \"w\", **profile) as dst:\n",
    "    for i in range(profile[\"count\"]):\n",
    "        dst.write(gmed_gm.median[i, :, :].astype(\"uint8\"), i + 1)"
   ]
  },
  {
   "cell_type": "code",
   "execution_count": null,
   "id": "fcd23a31",
   "metadata": {},
   "outputs": [],
   "source": [
    "dsl = [\n",
    "    rxr.open_rasterio(f, band_as_variable=True, chunks={})\n",
    "    .assign_coords(time=times[i])\n",
    "    .expand_dims(\"time\", axis=2)\n",
    "    for i, f in enumerate(glob.glob(images_dir + \"/*.tif\"))\n",
    "    if condition in f\n",
    "]\n",
    "print(len(dsl), \"datasets found in the target directory.\")\n",
    "dsl[0]"
   ]
  },
  {
   "cell_type": "code",
   "execution_count": null,
   "id": "5da8c808",
   "metadata": {},
   "outputs": [],
   "source": [
    "# resampled_dsl = [\n",
    "#     resample_xarray_dataset(\n",
    "#         ds.transpose(\"time\", \"y\", \"x\"), scale_factor=resolution_ratio\n",
    "#     )\n",
    "#     for ds in dsl\n",
    "# ]"
   ]
  },
  {
   "cell_type": "code",
   "execution_count": null,
   "id": "7a107bb1",
   "metadata": {},
   "outputs": [],
   "source": [
    "ds = (\n",
    "    xr.concat(dsl, dim=\"time\").transpose(\"time\", \"y\", \"x\")\n",
    "    # .chunk(\n",
    "    #     {\"x\": dsl[0].to_array().shape[2], \"y\": dsl[0].to_array().shape[1], \"time\": 1}\n",
    "    # )\n",
    "    .drop_attrs()\n",
    ")\n",
    "ds[\"spatial_ref\"] = meta[\n",
    "    \"crs\"\n",
    "].to_epsg()  # int(crs.split(\":\")[1])  # Extract EPSG code from CRS string\n",
    "ds = ds.rename_vars({f\"band_{i+1}\": b for i, b in enumerate(bands[:3])})\n",
    "ds = ds[[\"y\", \"x\", \"spatial_ref\", \"time\"] + measurements[:3]]\n",
    "ds"
   ]
  },
  {
   "cell_type": "code",
   "execution_count": null,
   "id": "b012784f",
   "metadata": {},
   "outputs": [],
   "source": [
    "s2_gm = geomedian_with_mads(\n",
    "    ds,\n",
    "    reshape_strategy=\"yxbt\",  #'yxbt' if data is larger than RAM\n",
    "    compute_mads=False,  # True if you want triple MADs\n",
    ")\n",
    "s2_gm"
   ]
  },
  {
   "cell_type": "code",
   "execution_count": null,
   "id": "0588ce49",
   "metadata": {},
   "outputs": [],
   "source": [
    "gmed_file_odc = f\"data/inputs/{MISSION}_{AOI}/geometric_median{'_' + tile_id if tile_id else ''}_odc_{output_suffix}.tif\"\n",
    "if os.path.exists(gmed_file_odc):\n",
    "    os.remove(gmed_file_odc)\n",
    "s2_gm[measurements[:3]].rio.to_raster(gmed_file_odc)"
   ]
  },
  {
   "cell_type": "code",
   "execution_count": null,
   "id": "c1d1aefc",
   "metadata": {},
   "outputs": [],
   "source": [
    "fig, axes = plt.subplots(4, 2, figsize=(10, 20))\n",
    "axes[0, 0].imshow(flip_img(imgs[0]))\n",
    "axes[0, 0].set_title(\"Image 0\")\n",
    "axes[0, 1].imshow(flip_img(imgs[1]))\n",
    "axes[0, 1].set_title(\"Image 1\")\n",
    "axes[1, 0].imshow(flip_img(imgs[2]))\n",
    "axes[1, 0].set_title(\"Image 2\")\n",
    "axes[1, 1].imshow(flip_img(imgs[3]))\n",
    "axes[1, 1].set_title(\"Image 3\")\n",
    "axes[2, 0].imshow(flip_img(rasterio.open(gmed_file_pcm).read()))\n",
    "axes[2, 0].set_title(f\"Geometric Median of {len(imgs)} images (hdstats)\")\n",
    "axes[2, 1].imshow(flip_img(rasterio.open(gmed_file_gm).read()))\n",
    "axes[2, 1].set_title(f\"Geometric Median of {len(imgs)} images (geom_median)\")\n",
    "axes[3, 0].imshow(flip_img(rasterio.open(gmed_file_odc).read()))\n",
    "axes[3, 0].set_title(f\"Geometric Median of {len(imgs)} images (odc)\")\n",
    "for ax in axes.flat:\n",
    "    ax.axis(\"off\")\n",
    "plt.suptitle(\n",
    "    f\"Geometric Median of {len(imgs)} {MISSION} images from {AOI} AOI, {'ID: ' + tile_id if tile_id else ''}, ({output_suffix.replace('_', ' ')})\",\n",
    "    fontsize=14,\n",
    "    y=1.01,\n",
    ")\n",
    "plt.tight_layout()\n",
    "plt.savefig(\n",
    "    f\"{output_dir}/geometric_median_{MISSION}_{AOI}{'_' + tile_id if tile_id else ''}_{output_suffix}.png\",\n",
    "    dpi=300,\n",
    ")"
   ]
  }
 ],
 "metadata": {
  "kernelspec": {
   "display_name": "Python 3",
   "language": "python",
   "name": "python3"
  },
  "language_info": {
   "codemirror_mode": {
    "name": "ipython",
    "version": 3
   },
   "file_extension": ".py",
   "mimetype": "text/x-python",
   "name": "python",
   "nbconvert_exporter": "python",
   "pygments_lexer": "ipython3",
   "version": "3.12.2"
  }
 },
 "nbformat": 4,
 "nbformat_minor": 5
}
